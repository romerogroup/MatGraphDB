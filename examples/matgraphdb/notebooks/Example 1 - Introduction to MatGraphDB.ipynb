{
 "cells": [
  {
   "cell_type": "markdown",
   "metadata": {},
   "source": [
    "# Example 1 - Introduction to MatGraphDB"
   ]
  },
  {
   "cell_type": "markdown",
   "metadata": {},
   "source": [
    "## Introduction to MatGraphDB\n",
    "\n",
    "### What is MatGraphDB?\n",
    "\n",
    "MatGraphDB is a comprehensive toolkit and framework designed to streamline graph-based research in materials and molecular science. It simplifies the complexities of working with diverse datasets and advanced computational methods by providing:\n",
    "\n",
    "- Methods to incorporate various data sources into a single, consistent materials database.\n",
    "- Tools for performing lighter computational tasks directly on the database.\n",
    "- An interface to manage intensive computations requiring HPC resources.\n",
    "- Seamless integration with graph analysis tools like Graph-Tool, Neo4j, NetworkX, PyTorch Geometric, and Deep Graph Library.\n",
    "\n",
    "### Purpose and Scope\n",
    "\n",
    "MatGraphDB addresses the entire research workflow in graph-based materials and molecular science, including:\n",
    "\n",
    "- Generating graph structures from raw data.\n",
    "- Modeling relationships between entities like atoms, molecules, or materials.\n",
    "- Applying advanced graph analysis techniques, including graph neural networks (GNNs).\n",
    "\n",
    "---"
   ]
  },
  {
   "cell_type": "markdown",
   "metadata": {},
   "source": [
    "## Getting Started with MatGraphDB\n",
    "\n",
    "### Installation\n",
    "\n",
    "*Assuming MatGraphDB is available on PyPI or through a GitHub repository.*\n",
    "\n",
    "```bash\n",
    "# If available via pip\n",
    "pip install matgraphdb\n",
    "\n",
    "# If installing from source\n",
    "git clone https://github.com/yourusername/matgraphdb.git\n",
    "cd matgraphdb\n",
    "pip install -e .\n",
    "```"
   ]
  },
  {
   "cell_type": "markdown",
   "metadata": {},
   "source": [
    "### Importing MatGraphDB"
   ]
  },
  {
   "cell_type": "code",
   "execution_count": 10,
   "metadata": {},
   "outputs": [],
   "source": [
    "import os\n",
    "from matgraphdb import MatGraphDB"
   ]
  },
  {
   "cell_type": "markdown",
   "metadata": {},
   "source": [
    "### Initializing MatGraphDB\n",
    "\n",
    "Set up the main directory and specify optional parameters:"
   ]
  },
  {
   "cell_type": "code",
   "execution_count": 11,
   "metadata": {},
   "outputs": [
    {
     "name": "stdout",
     "output_type": "stream",
     "text": [
      "<class 'matgraphdb.core.MatGraphDB'>\n"
     ]
    }
   ],
   "source": [
    "# Define the main directory where all data will be stored\n",
    "main_dir = os.path.join('data', 'MatGraphDB_Example')\n",
    "\n",
    "# Optional parameters\n",
    "calculation_dirname = 'calculations'\n",
    "graph_dirname = 'graph_database'\n",
    "db_file = 'materials.db'\n",
    "n_cores = 4  # Number of CPU cores to use for parallel processing\n",
    "\n",
    "# Initialize MatGraphDB\n",
    "matgraphdb = MatGraphDB(\n",
    "    main_dir=main_dir,\n",
    "    calculation_dirname=calculation_dirname,\n",
    "    graph_dirname=graph_dirname,\n",
    "    db_file=db_file,\n",
    "    n_cores=n_cores\n",
    ")\n",
    "\n",
    "print(matgraphdb.__class__)"
   ]
  },
  {
   "cell_type": "markdown",
   "metadata": {},
   "source": [
    "### Directory Structure\n",
    "\n",
    "Upon initialization, MatGraphDB sets up the following directory structure:\n",
    "\n",
    "- **Main Directory (`main_dir`)**: The root directory for all data.\n",
    "  - **Calculations Directory (`calculation_dirname`)**: Stores calculation files and results.\n",
    "  - **Graph Database Directory (`graph_dirname`)**: Contains graph database files.\n",
    "  - **Database File (`db_file`)**: SQLite database file storing material data.\n",
    "  - **Parquet Schema File**: Stores the schema for Parquet files."
   ]
  },
  {
   "cell_type": "markdown",
   "metadata": {},
   "source": [
    "You can visualize the directory structure using the `os` module:"
   ]
  },
  {
   "cell_type": "code",
   "execution_count": 12,
   "metadata": {},
   "outputs": [
    {
     "name": "stdout",
     "output_type": "stream",
     "text": [
      "MatGraphDB_Example/\n",
      "    materials.db\n",
      "    calculations/\n",
      "        MaterialsData/\n",
      "    graph_database/\n",
      "        nodes/\n",
      "        relationships/\n"
     ]
    }
   ],
   "source": [
    "for root, dirs, files in os.walk(main_dir):\n",
    "    level = root.replace(main_dir, '').count(os.sep)\n",
    "    indent = ' ' * 4 * (level)\n",
    "    print(f'{indent}{os.path.basename(root)}/')\n",
    "    subindent = ' ' * 4 * (level + 1)\n",
    "    for f in files:\n",
    "        print(f'{subindent}{f}')"
   ]
  },
  {
   "cell_type": "markdown",
   "metadata": {},
   "source": [
    "---"
   ]
  },
  {
   "cell_type": "markdown",
   "metadata": {},
   "source": [
    "## Core Components of MatGraphDB\n",
    "\n",
    "### MaterialDatabaseManager\n",
    "\n",
    "Handles interactions with the SQLite database, including reading, writing, and updating material data."
   ]
  },
  {
   "cell_type": "code",
   "execution_count": 15,
   "metadata": {},
   "outputs": [
    {
     "name": "stdout",
     "output_type": "stream",
     "text": [
      "ASE Row: <AtomsRow: formula=Fe, keys=has_structure>\n",
      "id: 1\n",
      "data: {'density': 9.0}\n",
      "--------------------------------------------------\n",
      "ASE Row: <AtomsRow: formula=TiO2, keys=has_structure>\n",
      "id: 2\n",
      "data: {}\n",
      "--------------------------------------------------\n",
      "ASE Row: <AtomsRow: formula=Fe, keys=has_structure>\n",
      "id: 3\n",
      "data: {'density': 7.87, 'color': 'silver'}\n",
      "--------------------------------------------------\n",
      "ASE Row: <AtomsRow: formula=Fe, keys=has_structure>\n",
      "id: 5\n",
      "data: {}\n",
      "--------------------------------------------------\n"
     ]
    }
   ],
   "source": [
    "# Access the database manager\n",
    "db_manager = matgraphdb.db_manager\n",
    "\n",
    "# Example: Read data from the database\n",
    "rows = db_manager.read()\n",
    "for row in rows:\n",
    "    print(\"ASE Row:\", row)\n",
    "    print(\"id:\", row.id)\n",
    "    print(\"data:\", row.data)\n",
    "    print(\"-\" * 50)\n"
   ]
  },
  {
   "cell_type": "markdown",
   "metadata": {},
   "source": [
    "### CalculationManager\n",
    "\n",
    "Manages computational tasks, especially those requiring parallel processing."
   ]
  },
  {
   "cell_type": "code",
   "execution_count": null,
   "metadata": {},
   "outputs": [],
   "source": [
    "# Access the calculation manager\n",
    "calc_manager = matgraphdb.calc_manager\n",
    "\n",
    "# Example: Define a simple calculation function\n",
    "def example_calculation(data):\n",
    "    # Perform some computation\n",
    "    result = data.get('property', 0) * 2\n",
    "    return {'calculated_property': result}\n",
    "\n",
    "# Run the calculation across the database\n",
    "results = matgraphdb.run_inmemory_calculation(example_calculation, save_results=True)"
   ]
  },
  {
   "cell_type": "markdown",
   "metadata": {},
   "source": [
    "### GraphManager\n",
    "\n",
    "Handles interactions with the graph database, allowing for advanced graph-based analyses."
   ]
  },
  {
   "cell_type": "code",
   "execution_count": null,
   "metadata": {},
   "outputs": [],
   "source": [
    "# Access the graph manager\n",
    "graph_manager = matgraphdb.graph_manager\n",
    "\n",
    "# Example: Create a simple graph (assuming appropriate methods are implemented)\n",
    "graph_manager.create_graph_from_data(db_manager.read())"
   ]
  },
  {
   "cell_type": "markdown",
   "metadata": {},
   "source": [
    "## Conclusion\n",
    "\n",
    "In this notebook, we've:\n",
    "\n",
    "- Introduced **MatGraphDB** and its purpose in materials and molecular science research.\n",
    "- Demonstrated how to initialize MatGraphDB and explained the directory structure it sets up.\n",
    "- Explored its core components: `MaterialDatabaseManager`, `CalculationManager`, and `GraphManager`.\n",
    "- Showed how to work with schemas and create Parquet files from data.\n",
    "\n",
    "MatGraphDB simplifies the workflow for researchers, allowing them to focus on scientific questions without the technical overhead of data processing and model implementation.\n",
    "\n",
    "---"
   ]
  },
  {
   "cell_type": "markdown",
   "metadata": {},
   "source": [
    "## Next Steps\n",
    "\n",
    "- **Database Management**: Learn how to interact with the materials database using `MatGraphDB` and `MaterialDatabaseManager`.\n",
    "- **Improting Data**: Follow an example of importing a large dataset into MatGraphDB.\n",
    "- **Calculation Management**: Learn how to manage calculations using `MatGraphDB` and `CalculationManager`.\n",
    "- **Graph Management**: Learn how to create nodes and relationships and interact with them using `MatGraphDB` and `GraphManager`.\n",
    "- **Feature Propagation**: Learn how to do feature propagation using `MatGraphDB`\n",
    "---"
   ]
  }
 ],
 "metadata": {
  "kernelspec": {
   "display_name": "matgraphdb",
   "language": "python",
   "name": "python3"
  },
  "language_info": {
   "codemirror_mode": {
    "name": "ipython",
    "version": 3
   },
   "file_extension": ".py",
   "mimetype": "text/x-python",
   "name": "python",
   "nbconvert_exporter": "python",
   "pygments_lexer": "ipython3",
   "version": "3.9.19"
  }
 },
 "nbformat": 4,
 "nbformat_minor": 2
}
