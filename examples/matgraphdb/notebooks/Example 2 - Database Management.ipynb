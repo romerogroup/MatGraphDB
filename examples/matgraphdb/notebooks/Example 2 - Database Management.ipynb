{
 "cells": [
  {
   "cell_type": "markdown",
   "metadata": {},
   "source": [
    "# Example 2 - Database Management with MatGraphDB\n",
    "\n",
    "In this tutorial, we'll explore basic database management operations—adding, reading, updating, and deleting materials—using the `MatGraphDB` class and its `MaterialDatabaseManager` instance. The `MaterialDatabaseManager` serves as a Data Access Layer, wrapping around the Atomic Simulation Environment (ASE) database while adding custom functionalities specific to our package.\n",
    "\n",
    "**Table of Contents**\n",
    "\n",
    "1. [Introduction](#Introduction)\n",
    "2. [Database Details](#Database-Details)\n",
    "3. [Setup](#Setup)\n",
    "4. [Adding Materials](#Adding-Materials)\n",
    "    - [Understanding Data Storage: `data` vs. Keyword Arguments](#understanding-data-storage-data-vs-keyword-arguments)\n",
    "    - [Handling Large Numbers of Key-Value Pairs with External Tables](#handling-large-numbers-of-key-value-pairs-with-external-tables)\n",
    "5. [Reading Materials](#Reading-Materials)\n",
    "6. [Updating Materials](#Updating-Materials)\n",
    "7. [Deleting Materials](#Deleting-Materials)\n",
    "8. [Conclusion](#Conclusion)\n",
    "\n",
    "---"
   ]
  },
  {
   "cell_type": "markdown",
   "metadata": {},
   "source": [
    "## Introduction\n",
    "\n",
    "`MatGraphDB` is a database interface designed for managing materials data efficiently. It leverages the ASE database, allowing users to store and retrieve atomic structures and associated data seamlessly.\n",
    "\n",
    "- **`MatGraphDB`**: The main class that users interact with. It contains an instance variable `db_manager`, which is an initialized `MaterialDatabaseManager`.\n",
    "- **`MaterialDatabaseManager`**: Acts as the Data Access Layer, providing methods for basic database operations like adding, reading, updating, and deleting materials.\n",
    "\n",
    "For more detailed information about the underlying ASE database functionalities, you can refer to the [ASE Database Documentation](https://wiki.fysik.dtu.dk/ase/ase/db/db.html).\n",
    "\n",
    "---"
   ]
  },
  {
   "cell_type": "markdown",
   "metadata": {},
   "source": [
    "## Database Details\n",
    "\n",
    "This information comes from the ASE database documentation. [ASE Database Documentation](https://wiki.fysik.dtu.dk/ase/ase/db/db.html).\n",
    "\n",
    "### Type of Database\n",
    "\n",
    "ASE support multiple database types: JSON, SQLite3, PostgreSQL, MySQL, MariaDB, and SQLite3. Currently, MatGraphDB only supports SQLite3.\n",
    "\n",
    "### Row Information\n",
    "\n",
    "Every row in the database contains:\n",
    "\n",
    "- all the information stored in the `ase.Atoms` object (positions, atomic numbers, …)\n",
    "- calculator name and parameters (if a calculator is present)\n",
    "- already calculated properties such as energy and forces (if a calculator is present)\n",
    "- key-value pairs (for finding the calculation again)\n",
    "- an integer ID (unique for each database) starting with 1 and always increasing for each new row\n",
    "- a unique ID which is a 128 bit random number which should be globally unique (at least in the lifetime of our universe)\n",
    "- constraints (if present)\n",
    "- user-name\n",
    "- creation and modification time\n",
    "\n",
    "### Row Special Names\n",
    "\n",
    "These names are special:\n",
    "\n",
    "| **Name**      | **Description**                                                                       |\n",
    "|---------------|---------------------------------------------------------------------------------------|\n",
    "| `id`          | Integer identifier                                                                    |\n",
    "| `natoms`      | Number of atoms                                                                       |\n",
    "| `pbc`         | Periodic boundary conditions                                                          |\n",
    "| `formula`     | Formula                                                                               |\n",
    "| `energy`      | Potential energy                                                                      |\n",
    "| `charge`      | Total charge                                                                          |\n",
    "| `magmom`      | Total magnetic moment                                                                 |\n",
    "| `calculator`  | Name of calculator                                                                    |\n",
    "| `user`        | Who did it                                                                            |\n",
    "| `age`         | Age of calculation (use s, m, h, d, w, M, and y for second, minute, hour, day, week, month, and year respectively) |\n",
    "\n",
    "\n",
    "### Description of a row\n",
    "The first 9 keys (from “id” to “positions”) are always present — the rest may be there:\n",
    "\n",
    "| **Key**                | **Description**                        | **Datatype**          | **Shape**       |\n",
    "|------------------------|----------------------------------------|-----------------------|-----------------|\n",
    "| `id`                   | Local database id                      | int                   | Unique          |\n",
    "| `unique_id`            | Globally unique hexadecimal id          | str                   | Unique          |\n",
    "| `ctime`                | Creation time                          | float                 | Unique          |\n",
    "| `mtime`                | Modification time                      | float                 | Unique          |\n",
    "| `user`                 | User name                              | str                   | Unique          |\n",
    "| `numbers`              | Atomic numbers                         | int                   | (N,)            |\n",
    "| `pbc`                  | Periodic boundary condition flags      | bool                  | (3,)            |\n",
    "| `cell`                 | Unit cell                              | float                 | (3, 3)          |\n",
    "| `positions`            | Atomic positions                       | float                 | (N, 3)          |\n",
    "| `initial_magmoms`      | Initial atomic magnetic moments        | float                 | (N,)            |\n",
    "| `initial_charges`      | Initial atomic charges                 | float                 | (N,)            |\n",
    "| `masses`               | Atomic masses                          | float                 | (N,)            |\n",
    "| `tags`                 | Tags                                   | int                   | (N,)            |\n",
    "| `momenta`              | Atomic momenta                         | float                 | (N, 3)          |\n",
    "| `constraints`          | Constraints                            | list of dict          | Varies          |\n",
    "| `energy`               | Total energy                           | float                 | Unique          |\n",
    "| `forces`               | Atomic forces                          | float                 | (N, 3)          |\n",
    "| `stress`               | Stress tensor                          | float                 | (6,)            |\n",
    "| `dipole`               | Electrical dipole                      | float                 | (3,)            |\n",
    "| `charges`              | Atomic charges                         | float                 | (N,)            |\n",
    "| `magmom`               | Magnetic moment                        | float                 | Unique          |\n",
    "| `magmoms`              | Atomic magnetic moments                | float                 | (N,)            |\n",
    "| `calculator`           | Calculator name                        | str                   | Unique          |\n",
    "| `calculator_parameters`| Calculator parameters                  | dict                  | Varies          |\n",
    "\n",
    "\n",
    "### Key-Value Pairs\n",
    "Every row also stores key-value pairs in a text field called `key_value_pairs`. This values should be simple data types such as strings, integers, floats, or booleans.\n",
    "\n",
    "### Data\n",
    "Every row also stores data in a text filed called `data`. This field is a dictionary that can store any data that is needed for the material. The data types for this can be as complicated that can fit into a serializable dictionary. When the database is queried, the `data` field is automatically converted to a dictionary.\n",
    "\n",
    "### External Tables\n",
    "If you need to store a large number of key-value pairs (e.g., thousands of features for a machine learning model), the `key_value_pairs` table can become unwieldy. ASE provides a solution through **external tables**.\n",
    "\n",
    "\n",
    "\n"
   ]
  },
  {
   "cell_type": "markdown",
   "metadata": {},
   "source": [
    "## Setup\n",
    "\n",
    "First, let's set up our environment by importing necessary libraries and initializing the `MatGraphDB` instance."
   ]
  },
  {
   "cell_type": "code",
   "execution_count": 1,
   "metadata": {},
   "outputs": [],
   "source": [
    "# Import necessary libraries\n",
    "import logging\n",
    "import os\n",
    "import numpy as np\n",
    "from matgraphdb import MatGraphDB\n",
    "\n",
    "# Configure logging\n",
    "logger = logging.getLogger('matgraphdb')\n",
    "logger.setLevel(logging.DEBUG)\n",
    "\n",
    "ch = logging.StreamHandler()\n",
    "ch.setLevel(logging.DEBUG)\n",
    "\n",
    "formatter = logging.Formatter('%(asctime)s - %(name)s - %(levelname)s - %(message)s')\n",
    "ch.setFormatter(formatter)\n",
    "\n",
    "logger.addHandler(ch)"
   ]
  },
  {
   "cell_type": "markdown",
   "metadata": {},
   "source": [
    "### Initialize MatGraphDB\n",
    "\n",
    "We need to specify the directory where our database will reside. "
   ]
  },
  {
   "cell_type": "code",
   "execution_count": 2,
   "metadata": {},
   "outputs": [
    {
     "name": "stderr",
     "output_type": "stream",
     "text": [
      "2024-09-19 14:33:35,482 - matgraphdb.core - INFO - Initializing MaterialRepositoryHandler.\n",
      "2024-09-19 14:33:35,484 - matgraphdb.core - DEBUG - Main directory set to data\\MatGraphDB_Example\n",
      "2024-09-19 14:33:35,485 - matgraphdb.core - DEBUG - Calculation directory set to data\\MatGraphDB_Example\\calculations\n",
      "2024-09-19 14:33:35,485 - matgraphdb.core - DEBUG - Graph directory set to data\\MatGraphDB_Example\\graph_database\n",
      "2024-09-19 14:33:35,486 - matgraphdb.core - DEBUG - Database path set to data\\MatGraphDB_Example\\materials.db\n",
      "2024-09-19 14:33:35,487 - matgraphdb.core - DEBUG - Number of cores set to 1\n",
      "2024-09-19 14:33:35,487 - matgraphdb.data.material_manager - INFO - Initializing MaterialDatabaseManager with database at data\\MatGraphDB_Example\\materials.db\n",
      "2024-09-19 14:33:36,142 - matgraphdb.core - DEBUG - MaterialDatabaseManager initialized.\n",
      "2024-09-19 14:33:36,144 - matgraphdb.data.calc_manager - INFO - Initializing CalculationManager with main directory: data\\MatGraphDB_Example\\calculations\n",
      "2024-09-19 14:33:36,144 - matgraphdb.data.calc_manager - DEBUG - Calculation directory set to: data\\MatGraphDB_Example\\calculations\\MaterialsData\n",
      "2024-09-19 14:33:36,145 - matgraphdb.data.calc_manager - DEBUG - Metadata file path set to: data\\MatGraphDB_Example\\calculations\\metadata.json\n",
      "2024-09-19 14:33:36,146 - matgraphdb.data.calc_manager - DEBUG - Job submission script name: run.slurm\n",
      "2024-09-19 14:33:36,146 - matgraphdb.data.calc_manager - DEBUG - Number of cores for multiprocessing: 1\n",
      "2024-09-19 14:33:36,147 - matgraphdb.data.calc_manager - INFO - Make sure to initialize the calculation manager before using it\n",
      "2024-09-19 14:33:36,147 - matgraphdb.core - DEBUG - CalculationManager initialized.\n",
      "2024-09-19 14:33:36,148 - matgraphdb.graph_kit.nodes - INFO - Found the following node types: []\n",
      "2024-09-19 14:33:36,149 - matgraphdb.graph_kit.relationships - INFO - Found the following relationship types: []\n",
      "2024-09-19 14:33:36,150 - matgraphdb.core - DEBUG - GraphManager initialized.\n",
      "2024-09-19 14:33:36,151 - matgraphdb.core - DEBUG - Parquet schema file set to data\\MatGraphDB_Example\\material_schema.parquet\n"
     ]
    }
   ],
   "source": [
    "# Initialize MatGraphDB\n",
    "mgdb = MatGraphDB(main_dir=os.path.join('data', 'MatGraphDB_Example'))"
   ]
  },
  {
   "cell_type": "markdown",
   "metadata": {},
   "source": [
    "___"
   ]
  },
  {
   "cell_type": "markdown",
   "metadata": {},
   "source": [
    "## MaterialDatabaseManager\n",
    "\n",
    "The `MaterialDatabaseManager` class is the main class for interacting with the database. It provides methods for adding, reading, updating, deleting materials  from the database. The `MatGraphDB` has an instance of `MaterialDatabaseManager` that is initialized when the `MatGraphDB` is initialized.\n",
    "\n",
    "You can access the `MaterialDatabaseManager` instance using the `db_manager` attribute of the `MatGraphDB` class."
   ]
  },
  {
   "cell_type": "code",
   "execution_count": 3,
   "metadata": {},
   "outputs": [
    {
     "name": "stdout",
     "output_type": "stream",
     "text": [
      "data\\MatGraphDB_Example\\materials.db\n"
     ]
    }
   ],
   "source": [
    "print(mgdb.db_manager.db_path)"
   ]
  },
  {
   "cell_type": "markdown",
   "metadata": {},
   "source": [
    "When the `MaterialDatabaseManager` is initialized, it creates automatically creates a connection to the ASE database. With this you have direct access to the ASE database."
   ]
  },
  {
   "cell_type": "code",
   "execution_count": 4,
   "metadata": {},
   "outputs": [
    {
     "name": "stdout",
     "output_type": "stream",
     "text": [
      "<class 'ase.db.sqlite.SQLite3Database'>\n"
     ]
    }
   ],
   "source": [
    "print(mgdb.db_manager.db.__class__)"
   ]
  },
  {
   "cell_type": "markdown",
   "metadata": {},
   "source": [
    "---"
   ]
  },
  {
   "cell_type": "markdown",
   "metadata": {},
   "source": [
    "## Adding Materials\n",
    "\n",
    "You can add materials to the database using the `add_material` method. You can provide the atomic coordinates, species, lattice parameters, and any additional data.\n",
    "\n",
    "### Example 1: Adding a Material with Structure"
   ]
  },
  {
   "cell_type": "code",
   "execution_count": 5,
   "metadata": {},
   "outputs": [
    {
     "name": "stderr",
     "output_type": "stream",
     "text": [
      "2024-09-19 14:33:36,205 - matgraphdb.data.material_manager - INFO - Adding a new material.\n",
      "2024-09-19 14:33:36,206 - matgraphdb.data.material_manager - DEBUG - Processing composition input.\n",
      "2024-09-19 14:33:36,207 - matgraphdb.data.material_manager - DEBUG - No valid composition information provided.\n",
      "2024-09-19 14:33:36,207 - matgraphdb.data.material_manager - DEBUG - Processing structure input.\n",
      "2024-09-19 14:33:36,209 - matgraphdb.data.material_manager - DEBUG - Building ASE Atoms structure from provided coordinates, species, and lattice.\n",
      "2024-09-19 14:33:36,210 - matgraphdb.data.material_manager - DEBUG - Adding custom data: {'density': 7.87}\n",
      "2024-09-19 14:33:36,301 - matgraphdb.data.material_manager - INFO - Material added successfully.\n"
     ]
    }
   ],
   "source": [
    "# Add a material with atomic structure and additional data\n",
    "mgdb.db_manager.add_material(\n",
    "    coords=[[0, 0, 0]],\n",
    "    species=['Fe'],\n",
    "    lattice=[[1, 0, 0], [0, 1, 0], [0, 0, 1]],\n",
    "    data={'density': 7.87}\n",
    ")"
   ]
  },
  {
   "cell_type": "markdown",
   "metadata": {},
   "source": [
    "### Example 2: Adding Multiple Materials\n",
    "\n",
    "The most effiecient way to multiple matrerials is to use the `add_many` method. This method accepts a list of dictionaries, where each dictionary are the key_value pairs for a material that `add_materials` expects. This is faster than adding each material individually, it adds all the materials to permanent storage in one transaction rather than one transaction per material."
   ]
  },
  {
   "cell_type": "code",
   "execution_count": 6,
   "metadata": {},
   "outputs": [
    {
     "name": "stderr",
     "output_type": "stream",
     "text": [
      "2024-09-19 14:33:36,311 - matgraphdb.data.material_manager - INFO - Adding 0 materials to the database.\n",
      "2024-09-19 14:33:36,313 - matgraphdb.data.material_manager - INFO - All materials added successfully.\n"
     ]
    }
   ],
   "source": [
    "# Add multiple materials\n",
    "materials=[]\n",
    "for density in [7.87, 8.96, 2.70]:\n",
    "    material_dict={\n",
    "        'coords': [[0, 0, 0]],\n",
    "        'species': ['Fe'],\n",
    "        'lattice': [[1, 0, 0], [0, 1, 0], [0, 0, 1]],\n",
    "        'data': {'density': density}\n",
    "    }\n",
    "\n",
    "mgdb.db_manager.add_many(materials)"
   ]
  },
  {
   "cell_type": "markdown",
   "metadata": {},
   "source": [
    "### Example 3: Adding a Material with Composition Only\n",
    "\n",
    "If you don't have the atomic structure but know the composition, you can add a material using the `composition` parameter."
   ]
  },
  {
   "cell_type": "code",
   "execution_count": 7,
   "metadata": {},
   "outputs": [
    {
     "name": "stderr",
     "output_type": "stream",
     "text": [
      "2024-09-19 14:33:36,327 - matgraphdb.data.material_manager - INFO - Adding a new material.\n",
      "2024-09-19 14:33:36,329 - matgraphdb.data.material_manager - DEBUG - Processing composition input.\n",
      "2024-09-19 14:33:36,329 - matgraphdb.data.material_manager - DEBUG - Composition provided as string: TiO2\n",
      "2024-09-19 14:33:36,330 - matgraphdb.data.material_manager - DEBUG - Processing structure input.\n",
      "2024-09-19 14:33:36,331 - matgraphdb.data.material_manager - DEBUG - No valid structure information provided.\n",
      "2024-09-19 14:33:36,434 - matgraphdb.data.material_manager - INFO - Material added successfully.\n"
     ]
    }
   ],
   "source": [
    "# Add a material with composition only\n",
    "mgdb.db_manager.add_material(composition='TiO2')"
   ]
  },
  {
   "cell_type": "markdown",
   "metadata": {},
   "source": [
    "### Understanding Data Storage: `data` vs. Keyword Arguments\n",
    "\n",
    "When adding materials, you can store additional information using either the `data` parameter or by adding keyword arguments directly to the `add_material` method. It's important to understand the difference between these two approaches."
   ]
  },
  {
   "cell_type": "markdown",
   "metadata": {},
   "source": [
    "#### Using the `data` Parameter\n",
    "\n",
    "- **Purpose**: Store custom data associated with the material. This is more long-term storage.\n",
    "- **Storage**: Data is stored in the `data` field of the database entry.\n",
    "- **Searchability**: Not directly searchable using ASE's selection syntax.\n",
    "- **Usage**:"
   ]
  },
  {
   "cell_type": "code",
   "execution_count": 8,
   "metadata": {},
   "outputs": [
    {
     "name": "stderr",
     "output_type": "stream",
     "text": [
      "2024-09-19 14:33:36,451 - matgraphdb.data.material_manager - INFO - Adding a new material.\n",
      "2024-09-19 14:33:36,452 - matgraphdb.data.material_manager - DEBUG - Processing composition input.\n",
      "2024-09-19 14:33:36,452 - matgraphdb.data.material_manager - DEBUG - No valid composition information provided.\n",
      "2024-09-19 14:33:36,453 - matgraphdb.data.material_manager - DEBUG - Processing structure input.\n",
      "2024-09-19 14:33:36,454 - matgraphdb.data.material_manager - DEBUG - Building ASE Atoms structure from provided coordinates, species, and lattice.\n",
      "2024-09-19 14:33:36,454 - matgraphdb.data.material_manager - DEBUG - Adding custom data: {'density': 7.87, 'color': 'silver'}\n",
      "2024-09-19 14:33:36,542 - matgraphdb.data.material_manager - INFO - Material added successfully.\n"
     ]
    }
   ],
   "source": [
    "mgdb.db_manager.add_material(\n",
    "      coords=np.array([[0, 0, 0]]),\n",
    "      species=['Fe'],\n",
    "      lattice=[[1, 0, 0], [0, 1, 0], [0, 0, 1]],\n",
    "      data={'density': 7.87, 'color': 'silver'}\n",
    "  )"
   ]
  },
  {
   "cell_type": "markdown",
   "metadata": {},
   "source": [
    "#### Using Keyword Arguments\n",
    "\n",
    "- **Purpose**: Store data that needs to be searchable or indexed.\n",
    "- **Storage**: Each key-value pair is stored in its own column in the database's `key_value_pairs` table.\n",
    "- **Searchability**: Directly searchable using ASE's selection syntax.\n",
    "- **Considerations**:\n",
    "  - Adding many keyword arguments can lead to a large `key_value_pairs` table, which can impact performance.\n",
    "- **Usage**:"
   ]
  },
  {
   "cell_type": "code",
   "execution_count": 9,
   "metadata": {},
   "outputs": [
    {
     "name": "stderr",
     "output_type": "stream",
     "text": [
      "2024-09-19 14:33:36,559 - matgraphdb.data.material_manager - INFO - Adding a new material.\n",
      "2024-09-19 14:33:36,560 - matgraphdb.data.material_manager - DEBUG - Processing composition input.\n",
      "2024-09-19 14:33:36,561 - matgraphdb.data.material_manager - DEBUG - No valid composition information provided.\n",
      "2024-09-19 14:33:36,562 - matgraphdb.data.material_manager - DEBUG - Processing structure input.\n",
      "2024-09-19 14:33:36,563 - matgraphdb.data.material_manager - DEBUG - Building ASE Atoms structure from provided coordinates, species, and lattice.\n",
      "2024-09-19 14:33:36,659 - matgraphdb.data.material_manager - INFO - Material added successfully.\n"
     ]
    }
   ],
   "source": [
    "# Adding key-value pairs as keyword arguments\n",
    "mgdb.db_manager.add_material(\n",
    "    coords=np.array([[0, 0, 0]]),\n",
    "    species=['Fe'],\n",
    "    lattice=[[1, 0, 0], [0, 1, 0], [0, 0, 1]],\n",
    "    is_molecule=True,  # This is a keyword argument\n",
    "    phase='solid' # This is a keyword argument\n",
    ")"
   ]
  },
  {
   "cell_type": "markdown",
   "metadata": {},
   "source": [
    "#### Example: Searching Using Keyword Arguments\n",
    "\n",
    "Since keyword arguments are stored in a searchable manner, you can perform queries based on them. \n",
    "\n",
    "The `selection` keyword argument is used to specify the selection criteria for the query. In this example, we are searching for materials where the `is_molecule` field is set to `True`.\n",
    "\n",
    "Can be:\n",
    "- an integer id\n",
    "- a string like ‘key=value’, where ‘=’ can also be one of ‘<=’, ‘<’, ‘>’, ‘>=’ or ‘!=’.\n",
    "- a string like ‘key’\n",
    "- comma separated strings like ‘key1<value1,key2=value2,key’\n",
    "- list of strings or tuples: [(‘charge’, ‘=’, 1)]."
   ]
  },
  {
   "cell_type": "code",
   "execution_count": 10,
   "metadata": {},
   "outputs": [
    {
     "name": "stderr",
     "output_type": "stream",
     "text": [
      "2024-09-19 14:33:36,667 - matgraphdb.data.material_manager - DEBUG - Reading materials with selection: is_molecule=True, filters: {}\n"
     ]
    },
    {
     "name": "stdout",
     "output_type": "stream",
     "text": [
      "ID: 4, Is Molecule: True\n"
     ]
    }
   ],
   "source": [
    "# Read materials where 'is_molecule' is True\n",
    "results = mgdb.db_manager.read(selection='is_molecule=True')\n",
    "\n",
    "for result in results:\n",
    "    print(f\"ID: {result.id}, Is Molecule: {result.is_molecule}\")"
   ]
  },
  {
   "cell_type": "markdown",
   "metadata": {},
   "source": [
    "#### Be Cautious with Keyword Arguments\n",
    "\n",
    "While keyword arguments are useful for creating searchable indices, be cautious when adding many of them:\n",
    "\n",
    "- **Database Size**: The `key_value_pairs` table can grow rapidly, impacting performance.\n",
    "- **Maintenance**: Managing a large number of keys can become complex."
   ]
  },
  {
   "cell_type": "markdown",
   "metadata": {},
   "source": [
    "### Handling Large Numbers of Key-Value Pairs with External Tables\n",
    "\n",
    "If you need to store a large number of key-value pairs (e.g., thousands of features for a machine learning model), the `key_value_pairs` table can become unwieldy. ASE provides a solution through **external tables**."
   ]
  },
  {
   "cell_type": "markdown",
   "metadata": {},
   "source": [
    "#### Example: Adding Material with External Table"
   ]
  },
  {
   "cell_type": "code",
   "execution_count": 11,
   "metadata": {},
   "outputs": [
    {
     "name": "stderr",
     "output_type": "stream",
     "text": [
      "2024-09-19 14:33:36,686 - matgraphdb.data.material_manager - INFO - Adding a new material.\n",
      "2024-09-19 14:33:36,688 - matgraphdb.data.material_manager - DEBUG - Processing composition input.\n",
      "2024-09-19 14:33:36,688 - matgraphdb.data.material_manager - DEBUG - No valid composition information provided.\n",
      "2024-09-19 14:33:36,689 - matgraphdb.data.material_manager - DEBUG - Processing structure input.\n",
      "2024-09-19 14:33:36,690 - matgraphdb.data.material_manager - DEBUG - Building ASE Atoms structure from provided coordinates, species, and lattice.\n",
      "2024-09-19 14:33:36,860 - matgraphdb.data.material_manager - INFO - Material added successfully.\n"
     ]
    }
   ],
   "source": [
    "from ase import Atoms\n",
    "\n",
    "# Create a large feature dictionary\n",
    "no_features = 5000\n",
    "feature_dict = {'feature' + str(i): i for i in range(no_features)}\n",
    "\n",
    "# Add material with external table 'features'\n",
    "mgdb.db_manager.add_material(\n",
    "    coords=np.array([[0, 0, 0]]),\n",
    "    species=['Fe'],\n",
    "    lattice=[[1, 0, 0], [0, 1, 0], [0, 0, 1]],\n",
    "    external_tables={'features': feature_dict}\n",
    ")"
   ]
  },
  {
   "cell_type": "markdown",
   "metadata": {},
   "source": [
    "#### Accessing Data in External Tables"
   ]
  },
  {
   "cell_type": "code",
   "execution_count": 12,
   "metadata": {},
   "outputs": [
    {
     "name": "stderr",
     "output_type": "stream",
     "text": [
      "2024-09-19 14:33:36,872 - matgraphdb.data.material_manager - DEBUG - Reading materials with selection: 5, filters: {}\n"
     ]
    },
    {
     "name": "stdout",
     "output_type": "stream",
     "text": [
      "Feature1: 1\n",
      "Feature4999: 4999\n"
     ]
    }
   ],
   "source": [
    "# Retrieve the material\n",
    "results = mgdb.db_manager.read(5)\n",
    "\n",
    "# Access features from the external table\n",
    "for result in results:\n",
    "    feature1 = result['features']['feature1']\n",
    "    feature4999 = result['features']['feature4999']\n",
    "\n",
    "\n",
    "print(f\"Feature1: {feature1}\")\n",
    "print(f\"Feature4999: {feature4999}\")"
   ]
  },
  {
   "cell_type": "markdown",
   "metadata": {},
   "source": [
    "**Note**: Using external tables allows you to store and access large amounts of data efficiently without overloading the main database tables."
   ]
  },
  {
   "cell_type": "markdown",
   "metadata": {},
   "source": [
    "---"
   ]
  },
  {
   "cell_type": "markdown",
   "metadata": {},
   "source": [
    "## Reading Materials\n",
    "\n",
    "Retrieve materials from the database using the `read` method. You can apply selection criteria to filter the results.\n",
    "\n",
    "### Example 1: Reading All Materials"
   ]
  },
  {
   "cell_type": "code",
   "execution_count": 13,
   "metadata": {},
   "outputs": [
    {
     "name": "stderr",
     "output_type": "stream",
     "text": [
      "2024-09-19 14:33:36,904 - matgraphdb.data.material_manager - DEBUG - Reading materials with selection: None, filters: {}\n"
     ]
    },
    {
     "name": "stdout",
     "output_type": "stream",
     "text": [
      "ID: 1\n",
      "Row: <AtomsRow: formula=Fe, keys=has_structure>\n",
      "Data: {'density': 7.87}\n",
      "--------------------------------------------------\n",
      "ID: 2\n",
      "Row: <AtomsRow: formula=TiO2, keys=has_structure>\n",
      "Data: {}\n",
      "--------------------------------------------------\n",
      "ID: 3\n",
      "Row: <AtomsRow: formula=Fe, keys=has_structure>\n",
      "Data: {'density': 7.87, 'color': 'silver'}\n",
      "--------------------------------------------------\n",
      "ID: 4\n",
      "Row: <AtomsRow: formula=Fe, keys=has_structure,is_molecule,phase>\n",
      "Data: {}\n",
      "--------------------------------------------------\n",
      "ID: 5\n",
      "Row: <AtomsRow: formula=Fe, keys=has_structure>\n",
      "Data: {}\n",
      "--------------------------------------------------\n"
     ]
    }
   ],
   "source": [
    "# Read all materials\n",
    "results = mgdb.db_manager.read()\n",
    "\n",
    "# Display the results\n",
    "for result in results:\n",
    "    print(f\"ID: {result.id}\")\n",
    "    print(f\"Row: {result}\")\n",
    "    print(f\"Data: {result.data}\")\n",
    "    print('-' * 50)"
   ]
  },
  {
   "cell_type": "markdown",
   "metadata": {},
   "source": [
    "### Example 2: Reading Materials Without Structure"
   ]
  },
  {
   "cell_type": "code",
   "execution_count": 14,
   "metadata": {},
   "outputs": [
    {
     "name": "stderr",
     "output_type": "stream",
     "text": [
      "2024-09-19 14:33:36,938 - matgraphdb.data.material_manager - DEBUG - Reading materials with selection: has_structure=False, filters: {}\n"
     ]
    },
    {
     "name": "stdout",
     "output_type": "stream",
     "text": [
      "ID: 2\n",
      "Data: {}\n",
      "--------------------------------------------------\n"
     ]
    }
   ],
   "source": [
    "# Read materials where 'has_structure' is False\n",
    "results = mgdb.db_manager.read(selection='has_structure=False')\n",
    "\n",
    "# Display the results\n",
    "for result in results:\n",
    "    print(f\"ID: {result.id}\")\n",
    "    print(f\"Data: {result.data}\")\n",
    "    print('-' * 50)"
   ]
  },
  {
   "cell_type": "markdown",
   "metadata": {},
   "source": [
    "---"
   ]
  },
  {
   "cell_type": "markdown",
   "metadata": {},
   "source": [
    "## Updating Materials\n",
    "\n",
    "Update existing materials using the `update_material` method by specifying the material ID and the new data.\n",
    "\n",
    "### Example: Updating Material Data"
   ]
  },
  {
   "cell_type": "code",
   "execution_count": 15,
   "metadata": {},
   "outputs": [
    {
     "name": "stderr",
     "output_type": "stream",
     "text": [
      "2024-09-19 14:33:36,954 - matgraphdb.data.material_manager - INFO - Updating material with ID 1.\n",
      "2024-09-19 14:33:36,955 - matgraphdb.data.material_manager - DEBUG - Updating properties: {'density': 9.0}\n",
      "2024-09-19 14:33:36,956 - matgraphdb.data.material_manager - DEBUG - Opening database connection for updating.\n",
      "2024-09-19 14:33:37,051 - matgraphdb.data.material_manager - INFO - Material with ID 1 updated successfully.\n",
      "2024-09-19 14:33:37,052 - matgraphdb.data.material_manager - DEBUG - Reading materials with selection: 1, filters: {}\n"
     ]
    },
    {
     "name": "stdout",
     "output_type": "stream",
     "text": [
      "ID: 1\n",
      "Data: {'density': 9.0}\n"
     ]
    }
   ],
   "source": [
    "# Update the density of material with ID 1\n",
    "mgdb.db_manager.update_material(\n",
    "    material_id=1,\n",
    "    data={'density': 9.00}\n",
    ")\n",
    "\n",
    "# Read the updated material\n",
    "results = mgdb.db_manager.read(selection=1)\n",
    "for result in results:\n",
    "    print(f\"ID: {result.id}\")\n",
    "    print(f\"Data: {result.data}\")"
   ]
  },
  {
   "cell_type": "markdown",
   "metadata": {},
   "source": [
    "---"
   ]
  },
  {
   "cell_type": "markdown",
   "metadata": {},
   "source": [
    "## Deleting Materials\n",
    "\n",
    "Remove materials from the database using the `delete_material` method.\n",
    "\n",
    "### Example: Deleting a Material"
   ]
  },
  {
   "cell_type": "code",
   "execution_count": 16,
   "metadata": {},
   "outputs": [
    {
     "name": "stderr",
     "output_type": "stream",
     "text": [
      "2024-09-19 14:33:37,077 - matgraphdb.data.material_manager - INFO - Deleting material with ID [4].\n",
      "2024-09-19 14:33:37,259 - matgraphdb.data.material_manager - INFO - Material with ID [4] deleted successfully.\n",
      "2024-09-19 14:33:37,260 - matgraphdb.data.material_manager - DEBUG - Reading materials with selection: 4, filters: {}\n",
      "2024-09-19 14:33:37,261 - matgraphdb.data.material_manager - DEBUG - Reading materials with selection: None, filters: {}\n"
     ]
    },
    {
     "name": "stdout",
     "output_type": "stream",
     "text": [
      "1\n",
      "<AtomsRow: formula=Fe, keys=has_structure>\n",
      "----------------------------------------------------------------------------------------------------\n",
      "2\n",
      "<AtomsRow: formula=TiO2, keys=has_structure>\n",
      "----------------------------------------------------------------------------------------------------\n",
      "3\n",
      "<AtomsRow: formula=Fe, keys=has_structure>\n",
      "----------------------------------------------------------------------------------------------------\n",
      "5\n",
      "<AtomsRow: formula=Fe, keys=has_structure>\n",
      "----------------------------------------------------------------------------------------------------\n"
     ]
    }
   ],
   "source": [
    "# Delete material with ID 4\n",
    "mgdb.db_manager.delete_material(material_ids=[4])\n",
    "\n",
    "# Try to read the deleted material\n",
    "results = mgdb.db_manager.read(selection=4)\n",
    "\n",
    "results = mgdb.db_manager.read()\n",
    "for result in results:\n",
    "    print(result.id)\n",
    "    print(result)\n",
    "    print('-'*100)\n"
   ]
  },
  {
   "cell_type": "markdown",
   "metadata": {},
   "source": [
    "---"
   ]
  },
  {
   "cell_type": "markdown",
   "metadata": {},
   "source": [
    "## Conclusion\n",
    "\n",
    "In this tutorial, we've covered the basics of managing a materials database using `MatGraphDB` and `MaterialDatabaseManager`. We've learned how to:\n",
    "\n",
    "- Initialize the database\n",
    "- Add materials with or without atomic structures\n",
    "- Read and filter materials from the database\n",
    "- Update material data\n",
    "- Delete materials from the database\n",
    "\n",
    "For more advanced features and functionalities, you can refer to the ASE Database Documentation and explore additional methods provided by the `MaterialDatabaseManager` class.\n",
    "\n",
    "---\n",
    "\n",
    "**Note:** This tutorial assumes that you have the `matgraphdb` package installed and properly configured in your Python environment."
   ]
  }
 ],
 "metadata": {
  "kernelspec": {
   "display_name": "matgraphdb",
   "language": "python",
   "name": "python3"
  },
  "language_info": {
   "codemirror_mode": {
    "name": "ipython",
    "version": 3
   },
   "file_extension": ".py",
   "mimetype": "text/x-python",
   "name": "python",
   "nbconvert_exporter": "python",
   "pygments_lexer": "ipython3",
   "version": "3.9.19"
  }
 },
 "nbformat": 4,
 "nbformat_minor": 2
}
