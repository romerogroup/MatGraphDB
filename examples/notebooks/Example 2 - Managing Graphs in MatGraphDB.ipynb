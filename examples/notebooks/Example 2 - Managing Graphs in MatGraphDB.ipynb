{
  "cells": [
    {
      "cell_type": "code",
      "execution_count": null,
      "metadata": {},
      "outputs": [],
      "source": [
        "!pip install matgraphdb\n",
        "!pip install ipykernel"
      ]
    },
    {
      "cell_type": "markdown",
      "metadata": {},
      "source": [
        "# Example 2 - Managing Graphs in MatGraphDB\n",
        "\n",
        "In this notebook, we'll learn how to:\n",
        "\n",
        "1. Add new nodes and node types.\n",
        "2. Add new edges and edge types.\n",
        "3. Create node generators that automatically produce nodes based on a predefined function.\n",
        "4. Create edge generators that automatically produce edges based on a predefined function.\n",
        "\n",
        "We'll use the `MatGraphDB` class from `matgraphdb` to demonstrate these features. If you haven't already installed `matgraphdb`, run the previous cell.\n"
      ]
    },
    {
      "cell_type": "markdown",
      "metadata": {},
      "source": [
        "Next, we can load the materials data into `MatGraphDB` on initialization. We do this by providing a `MaterialStore` instance to the `materials_store` argument."
      ]
    },
    {
      "cell_type": "code",
      "execution_count": 1,
      "metadata": {},
      "outputs": [
        {
          "name": "stdout",
          "output_type": "stream",
          "text": [
            "============================================================\n",
            "GRAPH DATABASE SUMMARY\n",
            "============================================================\n",
            "Name: MatGraphDB\n",
            "Storage path: MatGraphDB\n",
            "└── Repository structure:\n",
            "    ├── nodes/                 (MatGraphDB\\nodes)\n",
            "    ├── edges/                 (MatGraphDB\\edges)\n",
            "    ├── edge_generators/       (MatGraphDB\\edge_generators)\n",
            "    ├── node_generators/       (MatGraphDB\\node_generators)\n",
            "    └── graph/                 (MatGraphDB\\graph)\n",
            "\n",
            "############################################################\n",
            "NODE DETAILS\n",
            "############################################################\n",
            "Total node types: 1\n",
            "------------------------------------------------------------\n",
            "• Node type: materials\n",
            "  - Number of nodes: 0\n",
            "  - Number of features: 1\n",
            "  - db_path: MatGraphDB\\nodes\\materials\n",
            "------------------------------------------------------------\n",
            "\n",
            "############################################################\n",
            "EDGE DETAILS\n",
            "############################################################\n",
            "Total edge types: 0\n",
            "------------------------------------------------------------\n",
            "\n",
            "############################################################\n",
            "NODE GENERATOR DETAILS\n",
            "############################################################\n",
            "Total node generators: 0\n",
            "------------------------------------------------------------\n",
            "\n",
            "############################################################\n",
            "EDGE GENERATOR DETAILS\n",
            "############################################################\n",
            "Total edge generators: 0\n",
            "------------------------------------------------------------\n",
            "\n"
          ]
        }
      ],
      "source": [
        "import os\n",
        "import shutil\n",
        "\n",
        "from matgraphdb import MatGraphDB\n",
        "\n",
        "storage_path = \"MatGraphDB\"\n",
        "if os.path.exists(storage_path):\n",
        "    shutil.rmtree(storage_path)\n",
        "\n",
        "mdb = MatGraphDB(storage_path=storage_path)\n",
        "\n",
        "print(mdb.summary())"
      ]
    },
    {
      "cell_type": "markdown",
      "metadata": {},
      "source": [
        "As you can see, the `MatGraphDB` instance has been initialized with a `MaterialStore` instance.\n",
        "\n",
        "Currently, there are 1000 'materials' nodes in the `MaterialStore` instance, where the materials nodes have 136 columns.\n",
        "\n",
        "\n",
        "> Note: For some of these materials, the column values may be null.\n"
      ]
    },
    {
      "cell_type": "markdown",
      "metadata": {},
      "source": [
        "## 1. New Nodes\n",
        "\n",
        "By default, no custom node types (besides any internal ones MatGraphDB might create) exist in a fresh `MatGraphDB`. You can add your own node types via `add_node_type(...)`. This creates an empty `NodeStore` for that type."
      ]
    },
    {
      "cell_type": "code",
      "execution_count": 2,
      "metadata": {},
      "outputs": [
        {
          "name": "stdout",
          "output_type": "stream",
          "text": [
            "Current node_stores: ['materials', 'custom_node_1']\n",
            "============================================================\n",
            "GRAPH DATABASE SUMMARY\n",
            "============================================================\n",
            "Name: MatGraphDB\n",
            "Storage path: MatGraphDB\n",
            "└── Repository structure:\n",
            "    ├── nodes/                 (MatGraphDB\\nodes)\n",
            "    ├── edges/                 (MatGraphDB\\edges)\n",
            "    ├── edge_generators/       (MatGraphDB\\edge_generators)\n",
            "    ├── node_generators/       (MatGraphDB\\node_generators)\n",
            "    └── graph/                 (MatGraphDB\\graph)\n",
            "\n",
            "############################################################\n",
            "NODE DETAILS\n",
            "############################################################\n",
            "Total node types: 2\n",
            "------------------------------------------------------------\n",
            "• Node type: materials\n",
            "  - Number of nodes: 0\n",
            "  - Number of features: 1\n",
            "  - db_path: MatGraphDB\\nodes\\materials\n",
            "------------------------------------------------------------\n",
            "• Node type: custom_node_1\n",
            "  - Number of nodes: 0\n",
            "  - Number of features: 1\n",
            "  - db_path: MatGraphDB\\nodes\\custom_node_1\n",
            "------------------------------------------------------------\n",
            "\n",
            "############################################################\n",
            "EDGE DETAILS\n",
            "############################################################\n",
            "Total edge types: 0\n",
            "------------------------------------------------------------\n",
            "\n",
            "############################################################\n",
            "NODE GENERATOR DETAILS\n",
            "############################################################\n",
            "Total node generators: 0\n",
            "------------------------------------------------------------\n",
            "\n",
            "############################################################\n",
            "EDGE GENERATOR DETAILS\n",
            "############################################################\n",
            "Total edge generators: 0\n",
            "------------------------------------------------------------\n",
            "\n"
          ]
        }
      ],
      "source": [
        "# Add a node type called 'user' and 'item'\n",
        "custom_node_type = \"custom_node_1\"\n",
        "\n",
        "mdb.add_node_type(custom_node_type)\n",
        "\n",
        "# These nodes will be stored in MatGraphDB/nodes/custom_node_1/custom_node_1.parquet\n",
        "print(\"Current node_stores:\", list(mdb.node_stores.keys()))\n",
        "print(mdb.summary())"
      ]
    },
    {
      "cell_type": "markdown",
      "metadata": {},
      "source": [
        "### Adding Nodes\n",
        "\n",
        "Once a node type is registered, you can add nodes to it using the `add_nodes(node_type, data)` method. The `data` argument is a list of dictionaries, where each dictionary represents a node.\n",
        "\n",
        "> Note: you can also automatically register a new node type by calling the `add_nodes` as well"
      ]
    },
    {
      "cell_type": "code",
      "execution_count": 3,
      "metadata": {},
      "outputs": [],
      "source": [
        "# Add some user nodes\n",
        "users = [\n",
        "    {\"name\": \"Jimmy\"},\n",
        "    {\"name\": \"John\"},\n",
        "]\n",
        "\n",
        "computers = [\n",
        "    {\n",
        "        \"name\": \"Computer1\",\n",
        "        \"specs\": {\"cpu\": \"AMD Ryzen 9\", \"ram\": \"32GB\", \"storage\": \"1TB\"},\n",
        "    },\n",
        "    {\n",
        "        \"name\": \"Computer2\",\n",
        "        \"specs\": {\"cpu\": \"Intel i7\", \"ram\": \"16GB\", \"storage\": \"512GB\"},\n",
        "    },\n",
        "]\n",
        "\n",
        "users_node_type = \"users\"\n",
        "computers_node_type = \"computers\"\n",
        "\n",
        "mdb.add_nodes(node_type=users_node_type, data=users)\n",
        "mdb.add_nodes(node_type=computers_node_type, data=computers)"
      ]
    },
    {
      "cell_type": "markdown",
      "metadata": {},
      "source": [
        "### Managing the node store\n",
        "\n",
        "Once the data is registered, you can access it through the corresponding node store. You can get the node store either through the `node_stores` attribute or the `get_node_store(node_type)` method.\n"
      ]
    },
    {
      "cell_type": "code",
      "execution_count": 4,
      "metadata": {},
      "outputs": [
        {
          "name": "stdout",
          "output_type": "stream",
          "text": [
            "<class 'matgraphdb.core.nodes.NodeStore'>\n",
            "============================================================\n",
            "NODE STORE SUMMARY\n",
            "============================================================\n",
            "Node type: computers\n",
            "• Number of nodes: 2\n",
            "• Number of features: 5\n",
            "Storage path: MatGraphDB\\nodes\\computers\n",
            "\n",
            "\n",
            "############################################################\n",
            "METADATA\n",
            "############################################################\n",
            "• class: NodeStore\n",
            "• class_module: matgraphdb.core.nodes\n",
            "• node_type: computers\n",
            "• name_column: id\n",
            "\n",
            "############################################################\n",
            "NODE DETAILS\n",
            "############################################################\n",
            "• Columns:\n",
            "    - id\n",
            "    - name\n",
            "    - specs.cpu\n",
            "    - specs.ram\n",
            "    - specs.storage\n",
            "\n",
            "<class 'matgraphdb.core.nodes.NodeStore'>\n",
            "============================================================\n",
            "NODE STORE SUMMARY\n",
            "============================================================\n",
            "Node type: users\n",
            "• Number of nodes: 2\n",
            "• Number of features: 2\n",
            "Storage path: MatGraphDB\\nodes\\users\n",
            "\n",
            "\n",
            "############################################################\n",
            "METADATA\n",
            "############################################################\n",
            "• class: NodeStore\n",
            "• class_module: matgraphdb.core.nodes\n",
            "• node_type: users\n",
            "• name_column: id\n",
            "\n",
            "############################################################\n",
            "NODE DETAILS\n",
            "############################################################\n",
            "• Columns:\n",
            "    - id\n",
            "    - name\n",
            "\n"
          ]
        }
      ],
      "source": [
        "computers_node_store = mdb.get_node_store(computers_node_type)\n",
        "print(type(computers_node_store))\n",
        "print(computers_node_store)\n",
        "\n",
        "\n",
        "users_node_store = mdb.node_stores[users_node_type]\n",
        "print(type(users_node_store))\n",
        "\n",
        "print(users_node_store)"
      ]
    },
    {
      "cell_type": "markdown",
      "metadata": {},
      "source": [
        "### Reading from the node store\n",
        "\n",
        "There are multiple ways to read from the node store. You can use the `read_nodes` method from the `MatGraphDB` instance, you can use the `read_nodes` method from the `NodeStore` instance, or you can use the `read` method from the `NodeStore` instance. These reads methods behave very similarly as the read features introduced in the previous notebook, such as you can read columns using filters or columns"
      ]
    },
    {
      "cell_type": "code",
      "execution_count": 5,
      "metadata": {},
      "outputs": [
        {
          "name": "stdout",
          "output_type": "stream",
          "text": [
            "   id   name\n",
            "0   0  Jimmy\n",
            "1   1   John\n",
            "        name  id                                              specs\n",
            "0  Computer1   0  {'cpu': 'AMD Ryzen 9', 'ram': '32GB', 'storage...\n",
            "   id       name specs.cpu specs.ram specs.storage\n",
            "0   1  Computer2  Intel i7      16GB         512GB\n"
          ]
        }
      ],
      "source": [
        "import pyarrow.compute as pc\n",
        "\n",
        "df = mdb.read_nodes(node_type=users_node_type).to_pandas()\n",
        "print(df)\n",
        "\n",
        "# Notice if you rebuild the nestes struct, the way you access the nested data is different\n",
        "df = computers_node_store.read_nodes(\n",
        "    columns=[\"name\", \"id\", \"specs\"],\n",
        "    filters=[pc.field(\"specs\", \"cpu\") == \"AMD Ryzen 9\"],\n",
        "    rebuild_nested_struct=True,\n",
        ").to_pandas()\n",
        "print(df)\n",
        "\n",
        "df = computers_node_store.read(\n",
        "    filters=[pc.field(\"specs.cpu\") == \"Intel i7\"]\n",
        ").to_pandas()\n",
        "print(df)"
      ]
    },
    {
      "cell_type": "markdown",
      "metadata": {},
      "source": [
        "### Updating the node store\n",
        "\n",
        "You can update the node store by using the `update_nodes` method from the `MatGraphDB` instance, or the `update_nodes` method from the `NodeStore` instance."
      ]
    },
    {
      "cell_type": "code",
      "execution_count": 6,
      "metadata": {},
      "outputs": [
        {
          "name": "stdout",
          "output_type": "stream",
          "text": [
            "   id       name    specs.cpu specs.ram specs.storage\n",
            "0   0  Computer1  AMD Ryzen 9     128GB           1TB\n",
            "1   1  Computer2     Intel i7     256GB           2TB\n"
          ]
        }
      ],
      "source": [
        "computer_update_data = [\n",
        "    {\"name\": \"Computer1\", \"specs\": {\"ram\": \"128GB\", \"storage\": \"1TB\"}},\n",
        "    {\"name\": \"Computer2\", \"specs\": {\"ram\": \"256GB\", \"storage\": \"2TB\"}},\n",
        "]\n",
        "\n",
        "mdb.update_nodes(\n",
        "    node_type=computers_node_type, data=computer_update_data, update_keys=[\"name\"]\n",
        ")\n",
        "\n",
        "df = mdb.read_nodes(node_type=computers_node_type).to_pandas()\n",
        "print(df)"
      ]
    },
    {
      "cell_type": "markdown",
      "metadata": {},
      "source": [
        "## 2. Adding New Edges\n",
        "\n",
        "Edges are managed in the same way as nodes, but they are stored in the `EdgeStore` instance. EdgeStores differ from NodeStores as they have to store the source and target node ids, as well as the edge type. These must be specified to add an edge.\n",
        "\n",
        "You can create a new edge type using `add_edge_type(edge_type)`. Then, you can add edges by calling `add_edges(edge_type, data)`.\n",
        "- `source_id` and `source_type`\n",
        "- `target_id` and `target_type`\n",
        "\n",
        "\n",
        "The `ids` and `types` must match the node types and ids nodes in `MatGraphDB`."
      ]
    },
    {
      "cell_type": "code",
      "execution_count": 7,
      "metadata": {},
      "outputs": [
        {
          "name": "stdout",
          "output_type": "stream",
          "text": [
            "Number of edges of type 'test_edge': 6\n",
            "                extra_detail  id                               name  \\\n",
            "0                       None   0      Jimmy has access to Computer1   \n",
            "1                       None   1      Jimmy has access to Computer2   \n",
            "2                       None   2       John has access to Computer2   \n",
            "3                       None   3  Computer1 has access to Computer2   \n",
            "4                       None   4  Computer2 has access to Computer1   \n",
            "5  This is the main computer   5  Computer1 has access to Computer1   \n",
            "\n",
            "   source_id source_type  target_id target_type  \n",
            "0          0       users          0   computers  \n",
            "1          0       users          1   computers  \n",
            "2          1       users          1   computers  \n",
            "3          0   computers          1   computers  \n",
            "4          1   computers          0   computers  \n",
            "5          0   computers          0   computers  \n"
          ]
        }
      ],
      "source": [
        "# Add edge type\n",
        "edge_type_test = \"user_access\"\n",
        "\n",
        "# We'll connect the 'user' nodes to the 'item' nodes\n",
        "edge_data = [\n",
        "    {\n",
        "        \"source_id\": 0,  # This is the id of the user node\n",
        "        \"source_type\": users_node_type,\n",
        "        \"target_id\": 0,  # This is the id of the computer node\n",
        "        \"target_type\": computers_node_type,\n",
        "        \"name\": \"Jimmy has access to Computer1\",\n",
        "    },\n",
        "    {\n",
        "        \"source_id\": 0,  # This is the id of the user node\n",
        "        \"source_type\": users_node_type,\n",
        "        \"target_id\": 1,  # This is the id of the computer node\n",
        "        \"target_type\": computers_node_type,\n",
        "        \"name\": \"Jimmy has access to Computer2\",\n",
        "    },\n",
        "    {\n",
        "        \"source_id\": 1,\n",
        "        \"source_type\": users_node_type,\n",
        "        \"target_id\": 1,\n",
        "        \"target_type\": computers_node_type,\n",
        "        \"name\": \"John has access to Computer2\",\n",
        "    },\n",
        "    {\n",
        "        \"source_id\": 0,\n",
        "        \"source_type\": computers_node_type,\n",
        "        \"target_id\": 1,\n",
        "        \"target_type\": computers_node_type,\n",
        "        \"name\": \"Computer1 has access to Computer2\",\n",
        "    },\n",
        "    {\n",
        "        \"source_id\": 1,\n",
        "        \"source_type\": computers_node_type,\n",
        "        \"target_id\": 0,\n",
        "        \"target_type\": computers_node_type,\n",
        "        \"name\": \"Computer2 has access to Computer1\",\n",
        "    },\n",
        "    {\n",
        "        \"source_id\": 0,\n",
        "        \"source_type\": computers_node_type,\n",
        "        \"target_id\": 0,\n",
        "        \"target_type\": computers_node_type,\n",
        "        \"name\": \"Computer1 has access to Computer1\",\n",
        "        \"extra_detail\": \"This is the main computer\",\n",
        "    },\n",
        "]\n",
        "\n",
        "mdb.add_edges(edge_type=edge_type_test, data=edge_data)\n",
        "\n",
        "edges = mdb.read_edges(edge_type=edge_type_test)\n",
        "print(\"Number of edges of type 'test_edge':\", len(edges))\n",
        "df_edges = edges.to_pandas()\n",
        "print(df_edges)"
      ]
    },
    {
      "cell_type": "markdown",
      "metadata": {},
      "source": [
        "In this example we have defined the computer access edges between users and computers. Note that we can specify self-edges and directionality of the edges by choosing which node is the source and which is the target.\n",
        "\n",
        "Also we are free to add additional columns/features to the edges, such as `extra_detail` in this case."
      ]
    },
    {
      "cell_type": "markdown",
      "metadata": {},
      "source": [
        "### Updating the edges\n",
        "\n",
        "You can update the edges by using the `update_edges` method from the `MatGraphDB` instance, or the `update_edges` method from the `EdgeStore` instance.\n"
      ]
    },
    {
      "cell_type": "code",
      "execution_count": 8,
      "metadata": {},
      "outputs": [
        {
          "name": "stdout",
          "output_type": "stream",
          "text": [
            "Number of edges of type 'test_edge': 6\n",
            "   id  source_id  target_id  weight                               name\n",
            "0   0          0          0     1.0      Jimmy has access to Computer1\n",
            "1   1          0          1     1.0      Jimmy has access to Computer2\n",
            "2   2          1          1     NaN       John has access to Computer2\n",
            "3   3          0          1     NaN  Computer1 has access to Computer2\n",
            "4   4          1          0     NaN  Computer2 has access to Computer1\n",
            "5   5          0          0     NaN  Computer1 has access to Computer1\n"
          ]
        }
      ],
      "source": [
        "update_data = [\n",
        "    {\"id\": 0, \"weight\": 1.0},\n",
        "    {\"id\": 1, \"weight\": 1.0},\n",
        "]\n",
        "\n",
        "mdb.update_edges(edge_type=edge_type_test, data=update_data)\n",
        "\n",
        "edges = mdb.read_edges(\n",
        "    edge_type=edge_type_test, columns=[\"id\", \"source_id\", \"target_id\", \"weight\", \"name\"]\n",
        ").to_pandas()\n",
        "print(\"Number of edges of type 'test_edge':\", len(edges))\n",
        "print(edges)"
      ]
    },
    {
      "cell_type": "markdown",
      "metadata": {},
      "source": [
        "We can also update by specifying the source and target ids and types. To do this we need to specify `source_id`, `target_id`, `source_type`, and `target_type` in the `update_keys` argument.\n"
      ]
    },
    {
      "cell_type": "code",
      "execution_count": 10,
      "metadata": {},
      "outputs": [
        {
          "name": "stdout",
          "output_type": "stream",
          "text": [
            "Number of edges of type 'test_edge': 6\n",
            "   id  source_id  target_id  weight                               name\n",
            "0   0          0          0     0.5      Jimmy has access to Computer1\n",
            "1   1          0          1     1.0      Jimmy has access to Computer2\n",
            "2   2          1          1     NaN       John has access to Computer2\n",
            "3   3          0          1     NaN  Computer1 has access to Computer2\n",
            "4   4          1          0     NaN  Computer2 has access to Computer1\n",
            "5   5          0          0     NaN  Computer1 has access to Computer1\n"
          ]
        }
      ],
      "source": [
        "update_data = [\n",
        "    {\n",
        "        \"source_id\": 0,\n",
        "        \"source_type\": users_node_type,\n",
        "        \"target_id\": 0,\n",
        "        \"target_type\": computers_node_type,\n",
        "        \"weight\": 0.5,\n",
        "    },\n",
        "]\n",
        "\n",
        "mdb.update_edges(\n",
        "    edge_type=edge_type_test,\n",
        "    data=update_data,\n",
        "    update_keys=[\"source_id\", \"target_id\", \"source_type\", \"target_type\"],\n",
        ")\n",
        "\n",
        "\n",
        "edges = mdb.read_edges(\n",
        "    edge_type=edge_type_test, columns=[\"id\", \"source_id\", \"target_id\", \"weight\", \"name\"]\n",
        ").to_pandas()\n",
        "print(\"Number of edges of type 'test_edge':\", len(edges))\n",
        "print(edges)"
      ]
    },
    {
      "cell_type": "markdown",
      "metadata": {},
      "source": [
        "## Conclusion\n",
        "\n",
        "In this notebook, we explored the process of managing graphs using MatGraphDB. Specifically, we:\n",
        "\n",
        "- Added new node types and registered nodes within those types.\n",
        "- Learned how to create and manage edge types, including adding and updating edges.\n",
        "- Explored the functionality of reading and updating data from both node and edge stores.\n",
        "\n",
        "These capabilities form the foundation for representing and manipulating complex graph-based data efficiently. \n",
        "\n",
        "### What's Next?\n",
        "\n",
        "In the next notebook, we will go into adding node and edge generators. Generators allow the creation of nodes and edges dynamically based on predefined functions. This allows MatGraphDB to propagate updates to dependent nodes and edges if there are any changes to the parent nodes or edges.\n"
      ]
    }
  ],
  "metadata": {
    "kernelspec": {
      "display_name": "Python 3",
      "language": "python",
      "name": "python3"
    },
    "language_info": {
      "codemirror_mode": {
        "name": "ipython",
        "version": 3
      },
      "file_extension": ".py",
      "mimetype": "text/x-python",
      "name": "python",
      "nbconvert_exporter": "python",
      "pygments_lexer": "ipython3",
      "version": "3.9.21"
    },
    "name": "Example 2 - Managing Graphs in MatGraphDB"
  },
  "nbformat": 4,
  "nbformat_minor": 4
}
