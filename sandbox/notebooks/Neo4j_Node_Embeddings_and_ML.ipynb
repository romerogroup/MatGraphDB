{
 "cells": [
  {
   "cell_type": "code",
   "execution_count": 1,
   "metadata": {},
   "outputs": [],
   "source": [
    "%matplotlib inline\n",
    "\n",
    "import ast\n",
    "\n",
    "import numpy as np\n",
    "import pandas as pd\n",
    "\n",
    "from sklearn import svm\n",
    "from sklearn.metrics import accuracy_score\n",
    "from sklearn.model_selection import train_test_split\n",
    "from sklearn.metrics import confusion_matrix, ConfusionMatrixDisplay\n",
    "\n",
    "import matplotlib.pyplot as plt\n",
    "from mpl_toolkits.mplot3d import Axes3D\n",
    "import seaborn as sns\n",
    "\n",
    "from matgraphdb.graph.graph_database import MatGraphDB"
   ]
  },
  {
   "cell_type": "code",
   "execution_count": 2,
   "metadata": {},
   "outputs": [],
   "source": [
    "conn=MatGraphDB()\n",
    "conn.create_driver()"
   ]
  },
  {
   "cell_type": "markdown",
   "metadata": {},
   "source": [
    "## Check if graph is loaded into memory"
   ]
  },
  {
   "cell_type": "code",
   "execution_count": 3,
   "metadata": {},
   "outputs": [
    {
     "data": {
      "text/plain": [
       "[<Record degreeDistribution={'min': 0, 'max': 490, 'p90': 9, 'p999': 206, 'p99': 85, 'p50': 2, 'p75': 4, 'p95': 21, 'mean': 5.683160549173438} graphName='materials_chemenvElements' database='matgraphdb' databaseLocation='local' memoryUsage='59 MiB' sizeInBytes=62405064 nodeCount=17845 relationshipCount=101416 configuration={'relationshipProjection': {'GEOMETRIC_ELECTRIC_CONNECTS': {'aggregation': 'DEFAULT', 'orientation': 'UNDIRECTED', 'indexInverse': False, 'properties': {'weight': {'aggregation': 'DEFAULT', 'property': 'weight', 'defaultValue': None}}, 'type': 'GEOMETRIC_ELECTRIC_CONNECTS'}, 'COMPOSED_OF': {'aggregation': 'DEFAULT', 'orientation': 'UNDIRECTED', 'indexInverse': False, 'properties': {'weight': {'aggregation': 'DEFAULT', 'property': 'weight', 'defaultValue': None}}, 'type': 'COMPOSED_OF'}}, 'readConcurrency': 4, 'relationshipProperties': {}, 'nodeProperties': {}, 'jobId': '6d2c7cac-6f9c-4aa6-be07-aac6f8a81cbf', 'nodeProjection': {'Material': {'label': 'Material', 'properties': {}}, 'ChemenvElement': {'label': 'ChemenvElement', 'properties': {}}}, 'logProgress': True, 'creationTime': neo4j.time.DateTime(2024, 5, 13, 19, 8, 47, 362522800, tzinfo=<UTC>), 'validateRelationships': False, 'sudo': False} density=0.0003184914004244249 creationTime=neo4j.time.DateTime(2024, 5, 13, 19, 8, 47, 362522800, tzinfo=<UTC>) modificationTime=neo4j.time.DateTime(2024, 5, 13, 19, 8, 47, 622760100, tzinfo=<UTC>) schema={'graphProperties': {}, 'nodes': {'Material': {}, 'ChemenvElement': {}}, 'relationships': {'GEOMETRIC_ELECTRIC_CONNECTS': {'weight': 'Float (DefaultValue(NaN), PERSISTENT, Aggregation.NONE)'}, 'COMPOSED_OF': {'weight': 'Float (DefaultValue(NaN), PERSISTENT, Aggregation.NONE)'}}} schemaWithOrientation={'graphProperties': {}, 'nodes': {'Material': {}, 'ChemenvElement': {}}, 'relationships': {'GEOMETRIC_ELECTRIC_CONNECTS': {'direction': 'UNDIRECTED', 'properties': {'weight': 'Float (DefaultValue(NaN), PERSISTENT, Aggregation.NONE)'}}, 'COMPOSED_OF': {'direction': 'UNDIRECTED', 'properties': {'weight': 'Float (DefaultValue(NaN), PERSISTENT, Aggregation.NONE)'}}}}>]"
      ]
     },
     "execution_count": 3,
     "metadata": {},
     "output_type": "execute_result"
    }
   ],
   "source": [
    "query = \"\"\"CALL gds.graph.list();\n",
    "\"\"\"\n",
    "\n",
    "conn.execute_query(query)"
   ]
  },
  {
   "cell_type": "markdown",
   "metadata": {},
   "source": [
    "## Drop  In-Memory graph"
   ]
  },
  {
   "cell_type": "code",
   "execution_count": null,
   "metadata": {},
   "outputs": [],
   "source": [
    "query = \"\"\"CALL gds.graph.drop('materials_chemenvElements);\n",
    "\n",
    "\"\"\"\n",
    "\n",
    "conn.execute_query(query)"
   ]
  },
  {
   "cell_type": "markdown",
   "metadata": {},
   "source": [
    "## Load graph into memory"
   ]
  },
  {
   "cell_type": "code",
   "execution_count": null,
   "metadata": {},
   "outputs": [],
   "source": [
    "query = \"\"\"CALL gds.graph.project(\n",
    "  'materials_chemenvElements',\n",
    "  ['ChemenvElement','Material'],\n",
    "  {\n",
    "    GEOMETRIC_ELECTRIC_CONNECTS: {\n",
    "      orientation: 'UNDIRECTED',\n",
    "      properties: 'weight'\n",
    "    },\n",
    "    COMPOSED_OF: {\n",
    "        orientation: 'UNDIRECTED',\n",
    "        properties: 'weight'\n",
    "    }\n",
    "  }\n",
    ")\n",
    "\"\"\"\n",
    "\n",
    "conn.execute_query(query)"
   ]
  },
  {
   "cell_type": "markdown",
   "metadata": {},
   "source": [
    "## Estimate the memory required for embedding algorithm"
   ]
  },
  {
   "cell_type": "code",
   "execution_count": 4,
   "metadata": {},
   "outputs": [
    {
     "data": {
      "text/plain": [
       "[<Record nodeCount=17845 relationshipCount=101416 bytesMin=29123424 bytesMax=29123424 requiredMemory='27 MiB'>]"
      ]
     },
     "execution_count": 4,
     "metadata": {},
     "output_type": "execute_result"
    }
   ],
   "source": [
    "query = \"\"\"CALL gds.fastRP.stream.estimate('materials_chemenvElements', {embeddingDimension: 128})\n",
    "YIELD nodeCount, relationshipCount, bytesMin, bytesMax, requiredMemory\n",
    "\"\"\"\n",
    "\n",
    "conn.execute_query(query)"
   ]
  },
  {
   "cell_type": "markdown",
   "metadata": {},
   "source": [
    "## Run the embedding algorithm in stream mode\n",
    "\n",
    "This does not save the embeddings to In-memory graph or the graph database"
   ]
  },
  {
   "cell_type": "code",
   "execution_count": null,
   "metadata": {},
   "outputs": [],
   "source": [
    "query = \"\"\"CALL gds.fastRP.stream(\n",
    "'materials_chemenvElements',\n",
    "  {\n",
    "    embeddingDimension: 128,\n",
    "    randomSeed: 42\n",
    "  }\n",
    ")\n",
    "YIELD nodeId, embedding\n",
    "\"\"\"\n",
    "\n",
    "conn.execute_query(query)"
   ]
  },
  {
   "cell_type": "markdown",
   "metadata": {},
   "source": [
    "## Run the embedding algorithm in mutate mode\n",
    "\n",
    "This saves the embeddings to the In-Memory graph\n",
    "\n",
    "> **Note:** The specified mutateProperty value must not exist in the projected graph beforehand"
   ]
  },
  {
   "cell_type": "code",
   "execution_count": null,
   "metadata": {},
   "outputs": [],
   "source": [
    "query = \"\"\"CALL gds.fastRP.mutate(\n",
    "'materials_chemenvElements',\n",
    "  {\n",
    "    embeddingDimension: 128,\n",
    "    randomSeed: 42,\n",
    "    mutateProperty: 'fastRP_embedding'\n",
    "  }\n",
    ")\n",
    "YIELD nodeId, embedding\n",
    "\"\"\"\n",
    "\n",
    "conn.execute_query(query)"
   ]
  },
  {
   "cell_type": "markdown",
   "metadata": {},
   "source": [
    "## Run the embedding algorithm in write mode\n",
    "\n",
    "This saves the embedding to the graph database"
   ]
  },
  {
   "cell_type": "code",
   "execution_count": 7,
   "metadata": {},
   "outputs": [
    {
     "data": {
      "text/plain": [
       "[<Record nodeCount=17845 nodePropertiesWritten=17845 preProcessingMillis=0 computeMillis=39 writeMillis=52 configuration={'writeProperty': 'fastrp-embedding', 'randomSeed': 42, 'jobId': 'd2bdf206-55f0-49b2-a4e5-1276197aa5e7', 'propertyRatio': 0.0, 'nodeSelfInfluence': 0, 'sudo': False, 'iterationWeights': [0.8, 1, 1, 1], 'normalizationStrength': 0.0, 'writeConcurrency': 4, 'featureProperties': [], 'logProgress': True, 'nodeLabels': ['*'], 'concurrency': 4, 'relationshipTypes': ['*'], 'embeddingDimension': 128}>]"
      ]
     },
     "execution_count": 7,
     "metadata": {},
     "output_type": "execute_result"
    }
   ],
   "source": [
    "query = \"\"\"CALL gds.fastRP.write(\n",
    "  'materials_chemenvElements',\n",
    "  {\n",
    "    embeddingDimension: 128,\n",
    "    iterationWeights: [0.8, 1, 1, 1],\n",
    "    randomSeed: 42,\n",
    "    writeProperty: 'fastrp-embedding'\n",
    "  }\n",
    ")\n",
    "\"\"\"\n",
    "\n",
    "conn.execute_query(query)"
   ]
  },
  {
   "cell_type": "markdown",
   "metadata": {},
   "source": [
    "##  Creating dataset from database "
   ]
  },
  {
   "cell_type": "code",
   "execution_count": 37,
   "metadata": {},
   "outputs": [
    {
     "name": "stdout",
     "output_type": "stream",
     "text": [
      "mp_975 {'S': 1.0, 'F': 6.0} 2.802888788498844 12 5.9124\n",
      "mp_9816 {'Ge': 1.0, 'F': 4.0} 3.2932293794990457 217 5.500500000000001\n",
      "mp_985570 {'Si': 1.0, 'O': 2.0} 2.357798378060195 14 5.599\n",
      "mp_985590 {'Si': 1.0, 'O': 2.0} 2.1220909438472986 58 5.515899999999999\n",
      "mp_22862 {'Na': 1.0, 'Cl': 1.0} 2.224545043829438 225 5.0037\n",
      "mp_22904 {'Ca': 1.0, 'Cl': 2.0} 2.1470561707390132 136 5.3533\n",
      "mp_23193 {'K': 1.0, 'Cl': 1.0} 1.9957638386024725 225 5.027\n",
      "mp_23199 {'Ba': 1.0, 'Cl': 2.0} 3.8440071249605894 62 5.1132\n",
      "mp_23209 {'Sr': 1.0, 'Cl': 2.0} 3.0705030511774205 225 5.2286\n",
      "mp_23210 {'Mg': 1.0, 'Cl': 2.0} 2.274706376094722 166 5.6075\n",
      "mp_23214 {'Ca': 1.0, 'Cl': 2.0} 2.1614825436196097 58 5.3978\n",
      "mp_23220 {'Yb': 1.0, 'Cl': 2.0} 5.728042997166286 61 5.5411\n",
      "mp_24043 {'H': 2.0, 'O': 1.0} 1.3210904831361758 148 5.4391\n",
      "mp_2414 {'S': 1.0, 'O': 3.0} 2.3366321065151254 33 5.1448\n",
      "mp_2452 {'P': 2.0, 'O': 5.0} 2.716422359987066 43 5.2021\n",
      "mp_25469 {'Al': 1.0, 'Cl': 3.0} 2.4064104351605295 12 5.263\n",
      "mp_10851 {'Si': 1.0, 'O': 2.0} 2.4355339470794584 181 5.5428\n",
      "mp_1105223 {'Zr': 1.0, 'F': 4.0} 4.6338271160383755 14 5.3453\n",
      "mp_1143 {'Al': 2.0, 'O': 3.0} 3.8734991191690074 167 5.853700000000001\n",
      "mp_27971 {'Ac': 1.0, 'Cl': 3.0} 4.724438632804964 176 5.0865\n",
      "mp_28027 {'As': 1.0, 'F': 3.0} 3.5747623671800284 33 5.359999999999999\n",
      "mp_28391 {'Si': 1.0, 'Cl': 4.0} 1.8594604540846191 14 5.5658\n",
      "mp_29611 {'B': 5.0, 'H': 8.0} 0.7856920565347503 33 5.4267\n",
      "mp_29783 {'B': 5.0, 'H': 9.0} 0.7269417763217906 76 5.9591\n",
      "mp_30139 {'Be': 1.0, 'Br': 2.0} 3.3264227879920414 72 5.180400000000001\n",
      "mp_11684 {'Si': 1.0, 'O': 2.0} 2.905899677170532 15 5.5458\n",
      "mp_11718 {'Rb': 1.0, 'F': 1.0} 3.8835717641775656 225 5.5244\n",
      "mp_1179447 {'Si': 1.0, 'O': 2.0} 1.7711175302080806 141 5.6304\n",
      "mp_1179454 {'Si': 1.0, 'O': 2.0} 1.910133213694087 139 5.5301\n",
      "mp_1181222 {'Ge': 1.0, 'H': 4.0} 1.5221427117604498 19 5.9261\n",
      "mp_1185319 {'Li': 1.0, 'Cl': 1.0} 1.6601081292840258 186 5.7373\n",
      "mp_31033 {'Hf': 1.0, 'F': 4.0} 7.152806502047651 15 5.4058\n",
      "mp_32895 {'Si': 1.0, 'O': 2.0} 1.2925538592205346 227 5.8529\n",
      "mp_463 {'K': 1.0, 'F': 1.0} 2.5790805387069127 225 5.949400000000001\n",
      "mp_1188220 {'Si': 1.0, 'O': 2.0} 1.6886419851694905 217 5.4517999999999995\n",
      "mp_530546 {'Si': 1.0, 'O': 2.0} 1.6368751505638435 175 5.5611999999999995\n",
      "mp_532105 {'Si': 1.0, 'O': 2.0} 1.6128370471833102 191 5.559\n",
      "mp_541846 {'P': 4.0, 'O': 9.0} 2.689658895042827 167 5.5643\n",
      "mp_542814 {'Si': 1.0, 'O': 2.0} 2.2357112146995197 19 5.7162\n",
      "mp_546546 {'Si': 1.0, 'O': 2.0} 2.089347712276648 155 5.5604000000000005\n",
      "mp_546794 {'Si': 1.0, 'O': 2.0} 2.2236128830187147 122 5.6895999999999995\n",
      "mp_553945 {'Si': 1.0, 'O': 2.0} 1.708082100223942 31 5.6059\n",
      "mp_553993 {'Si': 1.0, 'O': 2.0} 1.5547126917265022 141 5.6413\n",
      "mp_554089 {'Si': 1.0, 'O': 2.0} 2.257872046649276 33 5.660399999999999\n",
      "mp_554151 {'Si': 1.0, 'O': 2.0} 2.090863206749119 82 5.725199999999999\n",
      "mp_554243 {'Si': 1.0, 'O': 2.0} 1.8514146563242317 179 5.627\n",
      "mp_554258 {'Si': 1.0, 'O': 2.0} 1.8024077490237718 140 5.6031\n",
      "mp_554267 {'Si': 1.0, 'O': 2.0} 1.9283517422998464 141 5.6122000000000005\n",
      "mp_554543 {'Si': 1.0, 'O': 2.0} 1.8248092827516667 140 5.4402\n",
      "mp_554573 {'Si': 1.0, 'O': 2.0} 2.2062458011479573 40 5.7899\n",
      "mp_554682 {'Si': 1.0, 'O': 2.0} 1.6930091824691085 82 5.7065\n",
      "mp_554755 {'Si': 1.0, 'O': 2.0} 1.4651788979237916 131 5.6152\n",
      "mp_554946 {'Si': 1.0, 'O': 2.0} 1.708484161020461 44 5.8629999999999995\n",
      "mp_555003 {'W': 1.0, 'F': 6.0} 4.974534961680239 62 5.3735\n",
      "mp_555165 {'Si': 1.0, 'O': 2.0} 2.5155044887268194 142 5.531499999999999\n",
      "mp_555211 {'Si': 1.0, 'O': 2.0} 1.5479107636801797 139 5.6207\n",
      "mp_555235 {'Si': 1.0, 'O': 2.0} 2.1950237296367465 9 5.6842999999999995\n",
      "mp_555251 {'Si': 1.0, 'O': 2.0} 1.8597475339101759 46 5.6355\n",
      "mp_555521 {'Si': 1.0, 'O': 2.0} 1.698971237515634 141 5.5805\n",
      "mp_555556 {'Si': 1.0, 'O': 2.0} 2.0018340139032675 135 5.598999999999999\n",
      "mp_555700 {'Si': 1.0, 'O': 2.0} 1.850698301058008 141 5.484\n",
      "mp_555740 {'Si': 1.0, 'O': 2.0} 2.6485810577552886 206 5.5865\n",
      "mp_555791 {'Si': 1.0, 'O': 2.0} 1.1062949814317262 229 5.7383999999999995\n",
      "mp_555891 {'Si': 1.0, 'O': 2.0} 1.9926803317505146 4 5.4968\n",
      "mp_556218 {'Si': 1.0, 'O': 2.0} 1.9444773737480359 36 5.6156999999999995\n",
      "mp_556262 {'Si': 1.0, 'O': 2.0} 1.7163313611814373 2 5.72\n",
      "mp_556454 {'Si': 1.0, 'O': 2.0} 1.8973373348164895 21 5.5651\n",
      "mp_556469 {'Si': 1.0, 'O': 2.0} 1.7720229417019608 2 5.7427\n",
      "mp_556591 {'Si': 1.0, 'O': 2.0} 1.6734363895860322 69 5.873200000000001\n",
      "mp_556654 {'Si': 1.0, 'O': 2.0} 2.083062521697998 14 5.6055\n",
      "mp_556882 {'Si': 1.0, 'O': 2.0} 2.6006450518458446 14 5.4389\n",
      "mp_556961 {'Si': 1.0, 'O': 2.0} 2.360860907753789 19 5.736\n",
      "mp_556985 {'Si': 1.0, 'O': 2.0} 1.956224702592575 1 5.7326\n",
      "mp_557004 {'Si': 1.0, 'O': 2.0} 1.7906781475735132 1 5.6262\n",
      "mp_557082 {'H': 2.0, 'O': 1.0} 1.4312681353675305 4 5.6674\n",
      "mp_557118 {'Si': 1.0, 'O': 2.0} 2.4321882881732493 20 5.4995\n",
      "mp_557211 {'Si': 1.0, 'O': 2.0} 1.651553272749064 193 5.5604\n",
      "mp_557264 {'Si': 1.0, 'O': 2.0} 2.064259518768372 36 5.4421\n",
      "mp_557465 {'Si': 1.0, 'O': 2.0} 2.4539599237364373 56 5.544899999999999\n",
      "mp_557837 {'Si': 1.0, 'O': 2.0} 2.283038290085582 15 5.6449\n",
      "mp_557881 {'Si': 1.0, 'O': 2.0} 1.765978660738028 8 5.6379\n",
      "mp_557894 {'Si': 1.0, 'O': 2.0} 1.645014777547254 11 5.718299999999999\n",
      "mp_557933 {'Si': 1.0, 'O': 2.0} 1.9278907330793378 74 5.5245\n",
      "mp_558025 {'Si': 1.0, 'O': 2.0} 1.7690822039651897 58 5.6213\n",
      "mp_558115 {'Si': 1.0, 'O': 2.0} 1.700326124280519 148 5.6222\n",
      "mp_558226 {'H': 2.0, 'O': 1.0} 1.434407886005573 19 5.4567\n",
      "mp_558326 {'Si': 1.0, 'O': 2.0} 1.7500924303508865 74 5.587\n",
      "mp_558351 {'Si': 1.0, 'O': 2.0} 1.7619359370943772 12 5.626799999999999\n",
      "mp_558891 {'Si': 1.0, 'O': 2.0} 2.3029446158307363 230 5.6471\n",
      "mp_558947 {'Si': 1.0, 'O': 2.0} 1.661650331256439 129 5.6495\n",
      "mp_558958 {'H': 2.0, 'O': 1.0} 1.429982494057176 19 5.6654\n",
      "mp_559091 {'Si': 1.0, 'O': 2.0} 2.095487929935384 182 5.4496\n",
      "mp_559313 {'Si': 1.0, 'O': 2.0} 1.9199645926175422 64 5.5709\n",
      "mp_559347 {'Si': 1.0, 'O': 2.0} 2.449122477032743 133 5.6325\n",
      "mp_559360 {'Si': 1.0, 'O': 2.0} 1.7170908764531214 11 5.6782\n",
      "mp_559550 {'Si': 1.0, 'O': 2.0} 1.8684312344388154 148 5.6097\n",
      "mp_559740 {'Si': 1.0, 'O': 2.0} 1.3486851949084993 194 5.912800000000001\n",
      "mp_559872 {'Si': 1.0, 'O': 2.0} 2.4343814210342494 96 5.610600000000001\n",
      "mp_559928 {'Si': 1.0, 'O': 2.0} 1.5841616174513802 194 5.4895\n",
      "mp_559962 {'Si': 1.0, 'O': 2.0} 1.3772343345412756 225 5.6777\n",
      "mp_560064 {'Si': 1.0, 'O': 2.0} 1.493559427305083 15 5.7691\n",
      "mp_560155 {'Si': 1.0, 'O': 2.0} 1.7564332795980644 13 5.7966\n",
      "mp_560203 {'Si': 1.0, 'O': 2.0} 2.7269972793031356 60 5.7301\n",
      "mp_560336 {'Si': 1.0, 'O': 2.0} 1.6424850722461417 74 5.5874\n",
      "mp_560527 {'Si': 1.0, 'O': 2.0} 1.7936947111020853 63 5.3907\n",
      "mp_560708 {'Si': 1.0, 'O': 2.0} 1.7705096688882418 10 5.6266\n",
      "mp_560809 {'Si': 1.0, 'O': 2.0} 1.8530867684932846 63 5.4481\n",
      "mp_560826 {'Si': 1.0, 'O': 2.0} 1.8347487631850365 63 5.4292\n",
      "mp_560920 {'Si': 1.0, 'O': 2.0} 1.6328571288648723 63 5.613300000000001\n",
      "mp_560941 {'Si': 1.0, 'O': 2.0} 1.5588519282450786 63 5.7844999999999995\n",
      "mp_560973 {'Si': 1.0, 'O': 2.0} 1.8097724842867053 63 5.4387\n",
      "mp_560998 {'Si': 1.0, 'O': 2.0} 1.770238220482661 65 5.5774\n",
      "mp_561090 {'Si': 1.0, 'O': 2.0} 1.692172893861769 227 5.7539\n",
      "mp_561181 {'Si': 1.0, 'O': 2.0} 1.5091952250599157 38 5.6107\n",
      "mp_561197 {'Ta': 1.0, 'F': 5.0} 5.557072167870596 12 5.5366\n",
      "mp_561351 {'Si': 1.0, 'O': 2.0} 1.8420539860195115 59 5.5568\n",
      "mp_561397 {'S': 1.0, 'O': 3.0} 2.4931697505520316 14 5.1612\n",
      "mp_562490 {'Si': 1.0, 'O': 2.0} 1.8623725872234176 15 5.774\n",
      "mp_562613 {'P': 2.0, 'O': 5.0} 2.326727433858114 161 5.540900000000001\n",
      "mp_1195265 {'Si': 1.0, 'O': 2.0} 1.736534051120021 62 5.7794\n",
      "mp_568662 {'Ba': 1.0, 'Cl': 2.0} 3.447543329390722 225 5.4291\n",
      "mp_570259 {'Mg': 1.0, 'Cl': 2.0} 2.307430589555942 164 5.5753\n",
      "mp_1199998 {'Si': 1.0, 'O': 2.0} 1.5139601825368412 12 5.5867\n",
      "mp_1200292 {'Si': 1.0, 'O': 2.0} 1.6982993982485213 14 5.7088\n",
      "mp_1201738 {'Si': 1.0, 'O': 2.0} 2.8045766160787293 14 5.5295000000000005\n",
      "mp_1201887 {'Si': 1.0, 'O': 2.0} 1.652519544261606 192 5.5322\n",
      "mp_1203655 {'Si': 1.0, 'O': 2.0} 1.6630227761002576 127 5.4771\n",
      "mp_1204057 {'Si': 1.0, 'O': 2.0} 1.5630043897829058 191 5.5443999999999996\n",
      "mp_1205379 {'Ge': 1.0, 'H': 4.0} 1.2061723905368222 13 5.7745\n",
      "mp_571642 {'Ca': 1.0, 'Cl': 2.0} 2.2009428031017264 60 5.5987\n",
      "mp_600000 {'Si': 1.0, 'O': 2.0} 1.7925716606355406 74 5.4115\n",
      "mp_600001 {'Si': 1.0, 'O': 2.0} 1.627087939178177 115 5.491\n",
      "mp_600002 {'Si': 1.0, 'O': 2.0} 1.7740822685212525 131 5.4577\n",
      "mp_600003 {'Si': 1.0, 'O': 2.0} 1.7904883066026696 139 5.4596\n",
      "mp_600004 {'Si': 1.0, 'O': 2.0} 1.8835629081182954 63 5.4296\n",
      "mp_600005 {'Si': 1.0, 'O': 2.0} 1.6537476978662564 229 5.4398\n",
      "mp_600006 {'Si': 1.0, 'O': 2.0} 1.976614879719316 124 5.4101\n",
      "mp_600007 {'Si': 1.0, 'O': 2.0} 1.7191369722895529 51 5.6068999999999996\n",
      "mp_600014 {'Si': 1.0, 'O': 2.0} 1.8113082632695412 62 5.7274\n",
      "mp_600015 {'Si': 1.0, 'O': 2.0} 1.6879564694748246 129 5.6292\n",
      "mp_600016 {'Si': 1.0, 'O': 2.0} 1.646493184858604 141 5.6503\n",
      "mp_600018 {'Si': 1.0, 'O': 2.0} 1.9073766415250322 67 5.4453\n",
      "mp_600022 {'Si': 1.0, 'O': 2.0} 1.4794235901530324 59 5.5985\n",
      "mp_600023 {'Si': 1.0, 'O': 2.0} 1.5935678254856513 225 5.488\n",
      "mp_600024 {'Si': 1.0, 'O': 2.0} 1.644543261030935 62 5.75\n",
      "mp_600026 {'Si': 1.0, 'O': 2.0} 2.0687243252668326 58 5.1530000000000005\n",
      "mp_600027 {'Si': 1.0, 'O': 2.0} 1.617669070514152 63 5.522600000000001\n",
      "mp_600028 {'Si': 1.0, 'O': 2.0} 1.9322917849304149 230 5.5863\n",
      "mp_600029 {'Si': 1.0, 'O': 2.0} 1.8935817207336583 63 5.4247000000000005\n",
      "mp_600031 {'Si': 1.0, 'O': 2.0} 1.896493257902577 74 5.8332999999999995\n",
      "mp_600032 {'Si': 1.0, 'O': 2.0} 1.5119970162230354 63 5.7155000000000005\n",
      "mp_600033 {'Si': 1.0, 'O': 2.0} 1.6760607207456195 229 5.6213\n",
      "mp_600037 {'Si': 1.0, 'O': 2.0} 1.6751301878933578 74 5.4426\n",
      "mp_600038 {'Si': 1.0, 'O': 2.0} 1.6275734691080823 51 5.4989\n",
      "mp_600039 {'Si': 1.0, 'O': 2.0} 1.85017672797273 63 5.5869\n",
      "mp_600041 {'Si': 1.0, 'O': 2.0} 1.8090660505950715 64 5.465199999999999\n",
      "mp_600045 {'Si': 1.0, 'O': 2.0} 1.7822820935677273 64 5.4237\n",
      "mp_600049 {'Si': 1.0, 'O': 2.0} 1.835727062528813 20 5.646800000000001\n",
      "mp_600051 {'Si': 1.0, 'O': 2.0} 1.8108208684314027 64 5.5706\n",
      "mp_600052 {'Si': 1.0, 'O': 2.0} 1.9067717897073506 63 5.4991\n",
      "mp_600053 {'Si': 1.0, 'O': 2.0} 1.7002889418630887 59 5.522\n",
      "mp_600054 {'Si': 1.0, 'O': 2.0} 1.4923010686095928 91 5.6447\n",
      "mp_600055 {'Si': 1.0, 'O': 2.0} 1.7395458705339906 38 5.726100000000001\n",
      "mp_600057 {'Si': 1.0, 'O': 2.0} 1.711744159898011 74 5.7215\n",
      "mp_600059 {'Si': 1.0, 'O': 2.0} 1.9873424955008396 81 5.7102\n",
      "mp_600060 {'Si': 1.0, 'O': 2.0} 1.7296658799735356 62 5.683199999999999\n",
      "mp_600061 {'Si': 1.0, 'O': 2.0} 1.753598470491225 51 5.6122\n",
      "mp_600063 {'Si': 1.0, 'O': 2.0} 1.7139644524141984 63 5.6966\n",
      "mp_600065 {'Si': 1.0, 'O': 2.0} 1.9669936659845146 64 5.3276\n",
      "mp_600067 {'Si': 1.0, 'O': 2.0} 1.3724296327202952 119 5.74\n",
      "mp_600068 {'Si': 1.0, 'O': 2.0} 1.606909495505971 66 5.6335\n",
      "mp_600070 {'Si': 1.0, 'O': 2.0} 1.7234112553869863 57 5.8420000000000005\n",
      "mp_600071 {'Si': 1.0, 'O': 2.0} 1.8039983504774437 42 5.4719\n",
      "mp_600072 {'Si': 1.0, 'O': 2.0} 1.4768376489342254 129 5.6478\n",
      "mp_600076 {'Si': 1.0, 'O': 2.0} 1.8703281989715481 126 5.957999999999999\n",
      "mp_600078 {'Si': 1.0, 'O': 2.0} 1.6299286303813019 141 5.6143\n",
      "mp_600080 {'Si': 1.0, 'O': 2.0} 1.4590351241079755 131 5.4798\n",
      "mp_600083 {'Si': 1.0, 'O': 2.0} 1.6444918937616182 59 5.5983\n",
      "mp_600084 {'Si': 1.0, 'O': 2.0} 1.8422238366376649 72 5.549\n",
      "mp_600085 {'Si': 1.0, 'O': 2.0} 1.4805262868281193 139 5.7642\n",
      "mp_600091 {'Si': 1.0, 'O': 2.0} 1.7593398860693388 44 5.685499999999999\n",
      "mp_600098 {'Si': 1.0, 'O': 2.0} 1.59918685089879 63 5.565899999999999\n",
      "mp_600109 {'Si': 1.0, 'O': 2.0} 1.7121864656288612 138 5.5931999999999995\n",
      "mp_600111 {'Si': 1.0, 'O': 2.0} 1.6132722516357805 63 5.5173000000000005\n",
      "mp_615993 {'Si': 1.0, 'O': 2.0} 1.8140142410546247 12 5.5573999999999995\n",
      "mp_632326 {'H': 1.0, 'Cl': 1.0} 1.509124932852689 36 5.8162\n",
      "mp_634117 {'B': 1.0, 'H': 3.0} 0.6245518580087989 14 5.3252\n",
      "mp_639463 {'Si': 1.0, 'O': 2.0} 1.890849260254522 51 5.3927000000000005\n",
      "mp_639478 {'Si': 1.0, 'O': 2.0} 1.4217870651524949 221 5.5631\n",
      "mp_639480 {'Si': 1.0, 'O': 2.0} 1.6717314441982025 131 5.6231\n",
      "mp_639506 {'Si': 1.0, 'O': 2.0} 1.8540045762084634 24 5.6572\n",
      "mp_639511 {'Si': 1.0, 'O': 2.0} 1.642220496439237 139 5.6703\n",
      "mp_639512 {'Si': 1.0, 'O': 2.0} 1.75593385098619 223 5.6163\n",
      "mp_639558 {'Si': 1.0, 'O': 2.0} 1.5532016882820854 65 5.645099999999999\n",
      "mp_639682 {'Si': 1.0, 'O': 2.0} 1.5898216915518821 119 5.6453\n",
      "mp_639695 {'Si': 1.0, 'O': 2.0} 1.7212719876925429 51 5.7854\n",
      "mp_639705 {'Si': 1.0, 'O': 2.0} 1.6261310334456096 141 5.4988\n",
      "mp_639724 {'Si': 1.0, 'O': 2.0} 1.648386253310065 63 5.6202000000000005\n",
      "mp_639733 {'Si': 1.0, 'O': 2.0} 1.8115185221708754 29 5.6305\n",
      "mp_639734 {'Si': 1.0, 'O': 2.0} 1.7745634183174934 139 5.5098\n",
      "mp_639741 {'Si': 1.0, 'O': 2.0} 1.4495466267637915 229 5.6594999999999995\n",
      "mp_640556 {'Si': 1.0, 'O': 2.0} 2.2494458269679547 9 5.4721\n",
      "mp_642824 {'S': 1.0, 'F': 6.0} 2.7972856754635242 2 5.9607\n",
      "mp_644923 {'Si': 1.0, 'O': 2.0} 1.6992833805705814 119 5.72\n",
      "mp_646895 {'Si': 1.0, 'O': 2.0} 1.6799211248279624 15 5.6942\n",
      "mp_651707 {'Si': 1.0, 'O': 2.0} 1.9331408007166173 15 5.7241\n",
      "mp_653763 {'Si': 1.0, 'O': 2.0} 1.6762487191749467 67 5.3421\n",
      "mp_662706 {'Si': 1.0, 'O': 2.0} 1.8472967659104382 12 5.4606\n",
      "mp_667368 {'Si': 1.0, 'O': 2.0} 1.6224563748803997 71 5.6506\n",
      "mp_667371 {'Si': 1.0, 'O': 2.0} 1.8202988359068117 57 5.6417\n",
      "mp_667373 {'Si': 1.0, 'O': 2.0} 1.7734538495981673 53 5.5745\n",
      "mp_667376 {'Si': 1.0, 'O': 2.0} 1.7972785073941469 64 5.3896999999999995\n",
      "mp_667377 {'Si': 1.0, 'O': 2.0} 1.79830885388452 64 5.3943\n",
      "mp_667383 {'Si': 1.0, 'O': 2.0} 1.7445321206863595 12 5.5162\n",
      "mp_669426 {'Si': 1.0, 'O': 2.0} 2.3555881541861066 14 5.537999999999999\n",
      "mp_1248957 {'Si': 1.0, 'O': 2.0} 1.630401856105907 12 5.7415\n",
      "mp_1249090 {'Si': 1.0, 'O': 2.0} 1.4151135094316538 176 5.7956\n",
      "mp_1249332 {'Si': 1.0, 'O': 2.0} 1.5679120717633357 194 5.689\n",
      "mp_1249637 {'Si': 1.0, 'O': 2.0} 1.529545902840372 12 5.6978\n",
      "mp_1249969 {'Si': 1.0, 'O': 2.0} 1.6097334751753036 2 5.6645\n",
      "mp_1250261 {'Si': 1.0, 'O': 2.0} 1.6067296787453822 187 5.7371\n",
      "mp_1250551 {'Si': 1.0, 'O': 2.0} 1.8042897490220702 64 5.6892\n",
      "mp_1250639 {'Si': 1.0, 'O': 2.0} 1.7156107696674407 148 5.6677\n",
      "mp_1256614 {'Si': 1.0, 'O': 2.0} 1.6457476070184827 194 5.7551\n",
      "mp_1257168 {'Si': 1.0, 'O': 2.0} 1.579809177318999 178 5.5917\n",
      "mp_1258196 {'Si': 1.0, 'O': 2.0} 1.7807076730813818 3 5.6745\n",
      "mp_1268079 {'Si': 1.0, 'O': 2.0} 1.6058095714647767 14 5.6869\n",
      "mp_12787 {'Si': 1.0, 'O': 2.0} 2.6387566425477336 15 5.6273\n",
      "mp_680204 {'Si': 1.0, 'O': 2.0} 2.020047507801362 12 5.5710999999999995\n",
      "mp_680222 {'Si': 1.0, 'O': 2.0} 1.0697094015834516 191 5.5951\n",
      "mp_6922 {'Si': 1.0, 'O': 2.0} 2.435363182994341 180 5.5311\n",
      "mp_6930 {'Si': 1.0, 'O': 2.0} 2.6322575648428894 154 5.6695\n",
      "mp_6945 {'Si': 1.0, 'O': 2.0} 2.3090275130919964 92 5.503699999999999\n",
      "mp_696597 {'B': 5.0, 'H': 9.0} 0.7519708229324723 107 5.709300000000001\n",
      "mp_696735 {'H': 2.0, 'O': 1.0} 1.2798135618012263 92 5.4898\n",
      "mp_697111 {'H': 2.0, 'O': 1.0} 1.0398951892712571 36 5.520200000000001\n",
      "mp_7000 {'Si': 1.0, 'O': 2.0} 2.634242414582259 152 5.719\n",
      "mp_7029 {'Si': 1.0, 'O': 2.0} 2.336017320194602 96 5.7943999999999996\n",
      "mp_703459 {'H': 2.0, 'O': 1.0} 1.0422269154665071 185 5.5287\n",
      "mp_7087 {'Si': 1.0, 'O': 2.0} 1.9706992660456284 194 5.3645000000000005\n",
      "mp_733790 {'Si': 1.0, 'O': 2.0} 2.2549983544165864 1 5.593\n",
      "mp_7648 {'Si': 1.0, 'O': 2.0} 2.1489791978247292 20 5.7192\n",
      "mp_768203 {'Be': 1.0, 'H': 2.0} 0.7830376149928496 72 5.3844\n",
      "mp_776475 {'Al': 2.0, 'O': 3.0} 3.874797928599948 206 5.2156\n",
      "mp_776490 {'Al': 2.0, 'O': 3.0} 4.040220633880238 61 5.4415000000000004\n",
      "mp_1338697 {'B': 5.0, 'H': 9.0} 0.7269417763217906 78 5.964700000000001\n",
      "mp_15078 {'Si': 1.0, 'O': 2.0} 1.7714059417069659 71 5.6044\n",
      "mp_16964 {'Si': 1.0, 'O': 2.0} 1.9567062295191209 36 5.6779\n",
      "mp_17279 {'Si': 1.0, 'O': 2.0} 1.6805139212062372 12 5.7092\n",
      "mp_8059 {'Si': 1.0, 'O': 2.0} 2.2473874745412186 198 5.5887\n",
      "mp_8352 {'Si': 1.0, 'O': 2.0} 1.9707343270239066 227 5.3649000000000004\n",
      "mp_8354 {'La': 1.0, 'F': 3.0} 5.954182351202727 194 5.761\n",
      "mp_8560 {'S': 1.0, 'F': 6.0} 2.5554714293429934 229 5.8139\n",
      "mp_8602 {'Si': 1.0, 'O': 2.0} 1.6747280126219923 191 5.687799999999999\n",
      "mp_865194 {'Tm': 1.0, 'F': 3.0} 9.440488653054599 139 5.3798\n",
      "mp_8652 {'S': 1.0, 'F': 6.0} 2.7726891982219763 164 5.8899\n",
      "mp_865716 {'Yb': 1.0, 'Cl': 2.0} 4.996300972814954 136 5.3995\n",
      "mp_1784 {'Cs': 1.0, 'F': 1.0} 4.642591754438939 225 5.2626\n",
      "mp_17909 {'Si': 1.0, 'O': 2.0} 1.512098270408125 166 5.6535\n",
      "mp_18280 {'Si': 1.0, 'O': 2.0} 1.7092876097945873 12 5.6998999999999995\n",
      "mp_972808 {'Si': 1.0, 'O': 2.0} 2.24680632269782 4 5.5882\n"
     ]
    }
   ],
   "source": [
    "def create_X_y():\n",
    "    query = \"\"\"MATCH (m:Material) RETURN m.name AS id, m.`fastrp-embedding` AS fastrp_embedding, m.band_gap as band_gap, m.formation_energy_per_atom as formation_energy_per_atom, m.composition_reduced as composition_reduced, m.density as density, m.space_group as space_group\"\"\"\n",
    "    results=conn.execute_query(query)\n",
    "    emb_df = pd.DataFrame([dict(_) for _ in results])\n",
    "    # return emb_df\n",
    "    y = emb_df['band_gap'].to_numpy()\n",
    "    emb_df['X'] = emb_df['fastrp_embedding'].apply(lambda x: np.array(x))\n",
    "    X = np.array(emb_df['X'].to_list())\n",
    "\n",
    "    return X, y, emb_df\n",
    "\n",
    "_,_,df_pre = create_X_y()\n",
    "\n",
    "df_pre.head()\n",
    "\n",
    "bandgap_rows = df_pre[(df_pre['band_gap'] >= 5) & (df_pre['band_gap'] <= 6)]\n",
    "bandgap_rows\n",
    "for row in bandgap_rows.iterrows():\n",
    "    print(row[1]['id'], row[1]['composition_reduced'], row[1]['density'], row[1]['space_group'], row[1]['band_gap'])"
   ]
  },
  {
   "cell_type": "markdown",
   "metadata": {},
   "source": [
    "## Splitting dataset"
   ]
  },
  {
   "cell_type": "code",
   "execution_count": 22,
   "metadata": {},
   "outputs": [
    {
     "name": "stdout",
     "output_type": "stream",
     "text": [
      "Statistics of y_train:\n",
      "count    8517.000000\n",
      "mean        0.549949\n",
      "std         1.321096\n",
      "min         0.000000\n",
      "25%         0.000000\n",
      "50%         0.000000\n",
      "75%         0.026800\n",
      "max         8.375100\n",
      "dtype: float64\n",
      "\n",
      "Statistics of y_test:\n",
      "count    2130.000000\n",
      "mean        0.589905\n",
      "std         1.352485\n",
      "min         0.000000\n",
      "25%         0.000000\n",
      "50%         0.000000\n",
      "75%         0.153850\n",
      "max         9.335400\n",
      "dtype: float64\n"
     ]
    }
   ],
   "source": [
    "from sklearn.model_selection import train_test_split\n",
    "\n",
    "X, y,df = create_X_y()\n",
    "\n",
    "X_train, X_test, y_train, y_test = train_test_split(X, y, test_size=0.2, random_state=42)\n",
    "\n",
    "import pandas as pd\n",
    "\n",
    "# Convert y_train and y_test to pandas Series\n",
    "y_train_series = pd.Series(y_train)\n",
    "y_test_series = pd.Series(y_test)\n",
    "\n",
    "# Get the statistics of y_train\n",
    "y_train_stats = y_train_series.describe()\n",
    "\n",
    "# Get the statistics of y_test\n",
    "y_test_stats = y_test_series.describe()\n",
    "\n",
    "# Print the statistics\n",
    "print(\"Statistics of y_train:\")\n",
    "print(y_train_stats)\n",
    "print(\"\\nStatistics of y_test:\")\n",
    "print(y_test_stats)"
   ]
  },
  {
   "cell_type": "markdown",
   "metadata": {},
   "source": [
    "## Training Linear Regression"
   ]
  },
  {
   "cell_type": "code",
   "execution_count": 20,
   "metadata": {},
   "outputs": [
    {
     "name": "stdout",
     "output_type": "stream",
     "text": [
      "Mean Squared Error: 0.9228336919216203\n",
      "R-squared: 0.4952662448624241\n",
      "      Predicted    Test\n",
      "0     -0.517522  0.0000\n",
      "1      0.520192  0.0000\n",
      "2     -0.068618  0.0000\n",
      "3     -0.555640  0.7888\n",
      "4     -0.389969  0.0000\n",
      "...         ...     ...\n",
      "2125  -0.319133  0.0000\n",
      "2126   0.115643  0.0000\n",
      "2127   0.236624  0.0000\n",
      "2128   3.943430  5.5162\n",
      "2129   1.890524  2.7491\n",
      "\n",
      "[2130 rows x 2 columns]\n"
     ]
    }
   ],
   "source": [
    "from sklearn.linear_model import LogisticRegression,LinearRegression\n",
    "from sklearn.metrics import mean_squared_error, r2_score\n",
    "\n",
    "model = LinearRegression().fit(X_train, y_train)\n",
    "\n",
    "\n",
    "# Make predictions on the test set\n",
    "y_pred = model.predict(X_test)\n",
    "\n",
    "# Evaluate the model\n",
    "mse = mean_squared_error(y_test, y_pred)\n",
    "r2 = r2_score(y_test, y_pred)\n",
    "\n",
    "print(\"Mean Squared Error:\", mse)\n",
    "print(\"R-squared:\", r2)\n",
    "\n",
    "\n",
    "import pandas as pd\n",
    "\n",
    "# Create a dataframe with predicted and test values\n",
    "df_results = pd.DataFrame({'Predicted': y_pred, 'Test': y_test})\n",
    "\n",
    "# Display the dataframe\n",
    "print(df_results)"
   ]
  },
  {
   "cell_type": "markdown",
   "metadata": {},
   "source": [
    "## Training a Random Forest"
   ]
  },
  {
   "cell_type": "code",
   "execution_count": 38,
   "metadata": {},
   "outputs": [],
   "source": [
    "from sklearn.ensemble import RandomForestRegressor\n",
    "\n",
    "# Assuming X_train and y_train are already defined\n",
    "\n",
    "# Create a Random Forest regressor\n",
    "rf = RandomForestRegressor(n_estimators=100, random_state=42)\n",
    "\n",
    "# Train the model\n",
    "rf.fit(X_train, y_train)\n"
   ]
  },
  {
   "cell_type": "code",
   "execution_count": 23,
   "metadata": {},
   "outputs": [
    {
     "name": "stdout",
     "output_type": "stream",
     "text": [
      "Mean Squared Error: 0.5544212380977286\n",
      "R-squared: 0.696765391334609\n",
      "      Predicted    Test\n",
      "0      0.089474  0.0000\n",
      "1      0.021215  0.0000\n",
      "2      0.173659  0.0000\n",
      "3      0.436761  0.7888\n",
      "4      0.059294  0.0000\n",
      "...         ...     ...\n",
      "2125   0.000268  0.0000\n",
      "2126   0.003481  0.0000\n",
      "2127   0.000000  0.0000\n",
      "2128   5.609357  5.5162\n",
      "2129   2.635691  2.7491\n",
      "\n",
      "[2130 rows x 2 columns]\n"
     ]
    }
   ],
   "source": [
    "# Make predictions on the test set\n",
    "y_pred = rf.predict(X_test)\n",
    "\n",
    "# Evaluate the model\n",
    "mse = mean_squared_error(y_test, y_pred)\n",
    "r2 = r2_score(y_test, y_pred)\n",
    "\n",
    "print(\"Mean Squared Error:\", mse)\n",
    "print(\"R-squared:\", r2)\n",
    "\n",
    "\n",
    "import pandas as pd\n",
    "\n",
    "# Create a dataframe with predicted and test values\n",
    "df_results = pd.DataFrame({'Predicted': y_pred, 'Test': y_test})\n",
    "\n",
    "# Display the dataframe\n",
    "print(df_results)\n"
   ]
  },
  {
   "cell_type": "code",
   "execution_count": 30,
   "metadata": {},
   "outputs": [
    {
     "data": {
      "image/png": "[encoded data removed]",
      "text/plain": [
       "<Figure size 640x480 with 1 Axes>"
      ]
     },
     "metadata": {},
     "output_type": "display_data"
    }
   ],
   "source": [
    "import matplotlib.pyplot as plt\n",
    "\n",
    "plt.scatter(df_results['Predicted'], df_results['Test'], s=5)  # Change the value of s to adjust the scale of the dots\n",
    "plt.plot([0, 10], [0, 10], linestyle='dashed', color='red')\n",
    "\n",
    "# plt.xscale('log')\n",
    "# plt.yscale('log')\n",
    "\n",
    "plt.xlabel('Predicted')\n",
    "plt.ylabel('Test')\n",
    "plt.title('Comparison of Predicted and Test Values')\n",
    "plt.show()"
   ]
  }
 ],
 "metadata": {
  "kernelspec": {
   "display_name": "matgraphdb",
   "language": "python",
   "name": "python3"
  },
  "language_info": {
   "codemirror_mode": {
    "name": "ipython",
    "version": 3
   },
   "file_extension": ".py",
   "mimetype": "text/x-python",
   "name": "python",
   "nbconvert_exporter": "python",
   "pygments_lexer": "ipython3",
   "version": "3.9.19"
  }
 },
 "nbformat": 4,
 "nbformat_minor": 2
}
