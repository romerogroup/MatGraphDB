{
 "cells": [
  {
   "cell_type": "code",
   "execution_count": 1,
   "metadata": {},
   "outputs": [],
   "source": [
    "from poly_graphs_lib.utils import PROJECT_DIR\n",
    "import os\n",
    "import json\n",
    "import copy\n",
    "from glob import glob \n",
    "\n",
    "import pymatgen.core as pmat\n",
    "from pymatgen.analysis.chemenv.coordination_environments.chemenv_strategies import SimplestChemenvStrategy, MultiWeightsChemenvStrategy\n",
    "\n",
    "\n",
    "from pymatgen.analysis.chemenv.coordination_environments.coordination_geometry_finder import LocalGeometryFinder\n",
    "from pymatgen.analysis.chemenv.coordination_environments.structure_environments import LightStructureEnvironments\n",
    "from pymatgen.analysis.chemenv.coordination_environments.coordination_geometries import AllCoordinationGeometries"
   ]
  },
  {
   "cell_type": "code",
   "execution_count": 27,
   "metadata": {},
   "outputs": [
    {
     "name": "stdout",
     "output_type": "stream",
     "text": [
      "1.0119700880479472\n",
      "1.0119700880479467\n",
      "0.0\n",
      "[{'ce_symbol': 'T:5', 'ce_fraction': 0.9657228354783628, 'csm': 0.004896191865254187, 'permutation': [1, 2, 3, 0, 4]}, {'ce_symbol': 'H:11', 'ce_fraction': 0.034277161051319595, 'csm': 5.852064635075647, 'permutation': [0, 2, 7, 5, 1, 9, 8, 4, 6, 3, 10]}, {'ce_symbol': 'S:5', 'ce_fraction': 3.4703175747405665e-09, 'csm': 7.2867258743036585, 'permutation': [0, 4, 1, 2, 3]}]\n",
      "[{'ce_symbol': 'T:5', 'ce_fraction': 0.9657228354783626, 'csm': 0.004896191865253999, 'permutation': [0, 2, 3, 1, 4]}, {'ce_symbol': 'H:11', 'ce_fraction': 0.03427716105131971, 'csm': 5.852064635075644, 'permutation': [2, 1, 7, 5, 0, 3, 6, 4, 10, 9, 8]}, {'ce_symbol': 'S:5', 'ce_fraction': 3.470317574740289e-09, 'csm': 7.286725874303659, 'permutation': [0, 2, 1, 4, 3]}]\n",
      "[]\n",
      "[{'ce_symbol': 'T:5', 'ce_fraction': 0.9657228354783628, 'csm': 0.004896191865254187, 'permutation': [1, 2, 3, 0, 4]}, {'ce_symbol': 'H:11', 'ce_fraction': 0.034277161051319595, 'csm': 5.852064635075647, 'permutation': [0, 2, 7, 5, 1, 9, 8, 4, 6, 3, 10]}, {'ce_symbol': 'S:5', 'ce_fraction': 3.4703175747405665e-09, 'csm': 7.2867258743036585, 'permutation': [0, 4, 1, 2, 3]}]\n",
      "T:5\n",
      "[{'ce_symbol': 'T:5', 'ce_fraction': 0.9657228354783626, 'csm': 0.004896191865253999, 'permutation': [0, 2, 3, 1, 4]}, {'ce_symbol': 'H:11', 'ce_fraction': 0.03427716105131971, 'csm': 5.852064635075644, 'permutation': [2, 1, 7, 5, 0, 3, 6, 4, 10, 9, 8]}, {'ce_symbol': 'S:5', 'ce_fraction': 3.470317574740289e-09, 'csm': 7.286725874303659, 'permutation': [0, 2, 1, 4, 3]}]\n",
      "T:5\n",
      "[{'ce_symbol': 'S:1', 'ce_fraction': 1.0, 'csm': 0.0, 'permutation': [0]}]\n",
      "S:1\n",
      "[<pymatgen.analysis.chemenv.coordination_environments.structure_environments.LightStructureEnvironments.NeighborsSet object at 0x000002886112C220>, <pymatgen.analysis.chemenv.coordination_environments.structure_environments.LightStructureEnvironments.NeighborsSet object at 0x000002886112C1C0>, <pymatgen.analysis.chemenv.coordination_environments.structure_environments.LightStructureEnvironments.NeighborsSet object at 0x000002886112C190>]\n",
      "0\n",
      "1\n",
      "1\n",
      "1\n",
      "0\n",
      "[<pymatgen.analysis.chemenv.coordination_environments.structure_environments.LightStructureEnvironments.NeighborsSet object at 0x000002886112C340>, <pymatgen.analysis.chemenv.coordination_environments.structure_environments.LightStructureEnvironments.NeighborsSet object at 0x000002886112C2E0>, <pymatgen.analysis.chemenv.coordination_environments.structure_environments.LightStructureEnvironments.NeighborsSet object at 0x000002886112C280>]\n",
      "0\n",
      "1\n",
      "0\n",
      "0\n",
      "1\n",
      "[]\n",
      "[[0, 1, 1, 1, 0], [0, 1, 0, 0, 1], []]\n"
     ]
    }
   ],
   "source": [
    "database_dir=os.path.join(PROJECT_DIR,'data','raw','materials_project_nelements_2','json_database')\n",
    "\n",
    "# database_files=glob(database_dir + '\\*.json')\n",
    "# file=database_files[2]\n",
    "\n",
    "file=os.path.join(database_dir,\"mp-1709.json\")\n",
    "\n",
    "with open(file) as f:\n",
    "    db = json.load(f)\n",
    "    struct = pmat.Structure.from_dict(db['structure'])\n",
    "\n",
    "lgf = LocalGeometryFinder()\n",
    "lgf.setup_structure(structure=struct)\n",
    "\n",
    "se = lgf.compute_structure_environments(maximum_distance_factor=1.41,only_cations=False)\n",
    "# strategy = SimplestChemenvStrategy(distance_cutoff=1.4, angle_cutoff=0.3)\n",
    "\n",
    "strategy = MultiWeightsChemenvStrategy.stats_article_weights_parameters()\n",
    "lse = LightStructureEnvironments.from_structure_environments(strategy=strategy, structure_environments=se)\n",
    "\n",
    "# Get a list of possible coordination environments per site\n",
    "coordination_environments = copy.copy(lse.coordination_environments)\n",
    "\n",
    "# Replace empty environments with default value\n",
    "for i, env in enumerate(lse.coordination_environments):\n",
    "    print(env)\n",
    "    if env is None or env==[]:\n",
    "        coordination_environments[i] = [{'ce_symbol': 'S:1', 'ce_fraction': 1.0, 'csm': 0.0, 'permutation': [0]}]\n",
    "\n",
    "# Calculate coordination numbers\n",
    "coordination_numbers = []\n",
    "for env in coordination_environments:\n",
    "    print(env)\n",
    "    if env is None:\n",
    "        coordination_numbers.append('NaN')\n",
    "    else:\n",
    "        print(env[0]['ce_symbol'])\n",
    "        coordination_numbers.append(int(env[0]['ce_symbol'].split(':')[-1]))\n",
    "\n",
    "# Determine nearest neighbors\n",
    "nearest_neighbors = []\n",
    "\n",
    "for i_site, neighbors in enumerate(lse.neighbors_sets):\n",
    "    print(neighbors)\n",
    "\n",
    "    neighbor_index = []\n",
    "    if neighbors!=[]:\n",
    "        neighbors = neighbors[0]\n",
    "        \n",
    "        for neighbor_site in neighbors.neighb_sites_and_indices:\n",
    "            index = neighbor_site['index']\n",
    "            print(index)\n",
    "            neighbor_index.append(index)\n",
    "    else:\n",
    "        pass\n",
    "    nearest_neighbors.append(neighbor_index)\n",
    "\n",
    "print(nearest_neighbors)"
   ]
  },
  {
   "cell_type": "code",
   "execution_count": 7,
   "metadata": {},
   "outputs": [
    {
     "name": "stdout",
     "output_type": "stream",
     "text": [
      "[{'ce_symbol': 'O:6', 'ce_fraction': 1.0, 'csm': 7.820056559924112e-13, 'permutation': [2, 3, 5, 0, 4, 1]}]\n",
      "[{'ce_symbol': 'O:6', 'ce_fraction': 1.0, 'csm': 7.820056535517507e-13, 'permutation': [5, 2, 4, 0, 1, 3]}]\n"
     ]
    }
   ],
   "source": []
  },
  {
   "cell_type": "code",
   "execution_count": 5,
   "metadata": {},
   "outputs": [
    {
     "name": "stdout",
     "output_type": "stream",
     "text": [
      "[{'ce_symbol': 'O:6', 'ce_fraction': 1.0, 'csm': 7.820056559924112e-13, 'permutation': [2, 3, 5, 0, 4, 1]}]\n"
     ]
    }
   ],
   "source": [
    "# print coordination environments for a special site\n",
    "isite = 0\n",
    "print(lse.coordination_environments[isite])"
   ]
  },
  {
   "cell_type": "code",
   "execution_count": 6,
   "metadata": {},
   "outputs": [
    {
     "name": "stdout",
     "output_type": "stream",
     "text": [
      "[{'ce_symbol': 'O:6', 'ce_fraction': 1.0, 'csm': 7.820056535517507e-13, 'permutation': [5, 2, 4, 0, 1, 3]}]\n"
     ]
    }
   ],
   "source": [
    "# print coordination environments for a special site\n",
    "isite = 1\n",
    "print(lse.coordination_environments[isite])"
   ]
  }
 ],
 "metadata": {
  "kernelspec": {
   "display_name": "venv",
   "language": "python",
   "name": "python3"
  },
  "language_info": {
   "codemirror_mode": {
    "name": "ipython",
    "version": 3
   },
   "file_extension": ".py",
   "mimetype": "text/x-python",
   "name": "python",
   "nbconvert_exporter": "python",
   "pygments_lexer": "ipython3",
   "version": "3.8.17"
  },
  "orig_nbformat": 4
 },
 "nbformat": 4,
 "nbformat_minor": 2
}
