{
 "cells": [
  {
   "cell_type": "code",
   "execution_count": 1,
   "metadata": {},
   "outputs": [],
   "source": [
    "import os\n",
    "import json\n",
    "from glob import glob\n",
    "\n",
    "import numpy as np\n",
    "import pymatgen.core as pmat\n",
    "from pymatgen.symmetry.analyzer import SpacegroupAnalyzer\n",
    "from poly_graphs_lib.utils import PROJECT_DIR\n"
   ]
  },
  {
   "cell_type": "code",
   "execution_count": 2,
   "metadata": {},
   "outputs": [],
   "source": [
    "database_dir=os.path.join(PROJECT_DIR,'data','raw','mp_database_calcs_no_restriction')\n",
    "file=os.path.join(database_dir,'mp-170','static','POSCAR')"
   ]
  },
  {
   "cell_type": "code",
   "execution_count": 34,
   "metadata": {},
   "outputs": [],
   "source": [
    "database_dir=os.path.join(PROJECT_DIR,'data','raw','mp_database')\n",
    "database_files=glob(database_dir + '\\*.json')\n",
    "file_1=database_files[0]\n",
    "file_1=os.path.join(database_dir,'mp-170.json')\n",
    "file_2=os.path.join(database_dir,'mp-2658.json')\n",
    "file_3=os.path.join(database_dir,'mp-2090.json')\n",
    "file_4=os.path.join(database_dir,'mp-171.json')"
   ]
  },
  {
   "cell_type": "code",
   "execution_count": 35,
   "metadata": {},
   "outputs": [
    {
     "name": "stdout",
     "output_type": "stream",
     "text": [
      "mp-170\n",
      "mp-2658\n",
      "mp-2090\n",
      "mp-171\n"
     ]
    }
   ],
   "source": [
    "print(file_1.split(os.sep)[-1].split('.')[0])\n",
    "with open(file_1) as f:\n",
    "    db = json.load(f)\n",
    "    struct_1 = pmat.Structure.from_dict(db['structure'])\n",
    "\n",
    "print(file_2.split(os.sep)[-1].split('.')[0])\n",
    "with open(file_2) as f:\n",
    "    db = json.load(f)\n",
    "    struct_2 = pmat.Structure.from_dict(db['structure'])\n",
    "\n",
    "print(file_3.split(os.sep)[-1].split('.')[0])\n",
    "with open(file_3) as f:\n",
    "    db = json.load(f)\n",
    "    struct_3 = pmat.Structure.from_dict(db['structure'])\n",
    "\n",
    "print(file_4.split(os.sep)[-1].split('.')[0])\n",
    "with open(file_4) as f:\n",
    "    db = json.load(f)\n",
    "    struct_4 = pmat.Structure.from_dict(db['structure'])"
   ]
  },
  {
   "cell_type": "code",
   "execution_count": 14,
   "metadata": {},
   "outputs": [],
   "source": [
    "from pymatgen.analysis.structure_matcher import StructureMatcher"
   ]
  },
  {
   "cell_type": "code",
   "execution_count": 17,
   "metadata": {},
   "outputs": [],
   "source": [
    "sm=StructureMatcher(ltol = 1.0, stol = 1.0, angle_tol = 10, primitive_cell = False, scale = False)"
   ]
  },
  {
   "cell_type": "code",
   "execution_count": 19,
   "metadata": {},
   "outputs": [
    {
     "name": "stdout",
     "output_type": "stream",
     "text": [
      "['REDIRECT', '__class__', '__delattr__', '__dict__', '__dir__', '__doc__', '__eq__', '__format__', '__ge__', '__get_validators__', '__getattribute__', '__gt__', '__hash__', '__init__', '__init_subclass__', '__le__', '__lt__', '__modify_schema__', '__module__', '__ne__', '__new__', '__reduce__', '__reduce_ex__', '__repr__', '__setattr__', '__sizeof__', '__str__', '__subclasshook__', '__weakref__', '_anonymous_match', '_cart_dists', '_cmp_fstruct', '_comparator', '_get_lattices', '_get_mask', '_get_reduced_structure', '_get_supercell_size', '_get_supercells', '_ignored_species', '_match', '_preprocess', '_primitive_cell', '_process_species', '_scale', '_strict_match', '_subset', '_supercell', '_supercell_size', 'angle_tol', 'as_dict', 'fit', 'fit_anonymous', 'from_dict', 'get_all_anonymous_mappings', 'get_best_electronegativity_anonymous_mapping', 'get_mapping', 'get_rms_anonymous', 'get_rms_dist', 'get_s2_like_s1', 'get_supercell_matrix', 'get_transformation', 'group_structures', 'ltol', 'stol', 'to_json', 'unsafe_hash', 'validate_monty']\n"
     ]
    }
   ],
   "source": [
    "print(dir(sm))"
   ]
  },
  {
   "cell_type": "code",
   "execution_count": 37,
   "metadata": {},
   "outputs": [
    {
     "name": "stdout",
     "output_type": "stream",
     "text": [
      "True\n",
      "(0.0, {Element Ho: Element Al, Element Cd: Element Fe})\n",
      "(0.0, {Element Al: Element Fe, Element Fe: Element Co})\n",
      "(None, None)\n"
     ]
    }
   ],
   "source": [
    "sm=StructureMatcher(ltol = 1.0, stol = 1.0, angle_tol = 10, primitive_cell = True, scale = False)\n",
    "print(sm.fit_anonymous(struct_1, struct_2))\n",
    "print(sm.get_rms_anonymous(struct_1, struct_2))\n",
    "\n",
    "print(sm.get_rms_anonymous(struct_2, struct_3))\n",
    "\n",
    "print(sm.get_rms_anonymous(struct_2, struct_4))\n"
   ]
  },
  {
   "cell_type": "code",
   "execution_count": 32,
   "metadata": {},
   "outputs": [
    {
     "name": "stdout",
     "output_type": "stream",
     "text": [
      "False\n",
      "None\n"
     ]
    }
   ],
   "source": [
    "sm=StructureMatcher(ltol = 1.0, stol = 1.0, angle_tol = 10, primitive_cell = True, scale = False)\n",
    "print(sm.fit(struct_1, struct_2))\n",
    "print(sm.get_rms_dist(struct_3, struct_2))\n"
   ]
  },
  {
   "cell_type": "code",
   "execution_count": null,
   "metadata": {},
   "outputs": [],
   "source": []
  }
 ],
 "metadata": {
  "kernelspec": {
   "display_name": "venv",
   "language": "python",
   "name": "python3"
  },
  "language_info": {
   "codemirror_mode": {
    "name": "ipython",
    "version": 3
   },
   "file_extension": ".py",
   "mimetype": "text/x-python",
   "name": "python",
   "nbconvert_exporter": "python",
   "pygments_lexer": "ipython3",
   "version": "3.8.17"
  }
 },
 "nbformat": 4,
 "nbformat_minor": 2
}
