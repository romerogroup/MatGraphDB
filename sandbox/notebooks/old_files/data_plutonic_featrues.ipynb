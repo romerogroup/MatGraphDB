{
 "cells": [
  {
   "cell_type": "code",
   "execution_count": 1,
   "metadata": {},
   "outputs": [],
   "source": [
    "import os\n",
    "import shutil\n",
    "\n",
    "import numpy as np\n",
    "from coxeter.families import PlatonicFamily\n",
    "\n",
    "from poly_graphs_lib.poly_dataset import PolyhedraDataset\n",
    "from poly_graphs_lib.poly_featurizer import PolyFeaturizer\n",
    "from poly_graphs_lib import encoder, utils"
   ]
  },
  {
   "cell_type": "code",
   "execution_count": 2,
   "metadata": {},
   "outputs": [
    {
     "data": {
      "text/plain": [
       "'c:\\\\Users\\\\lllang\\\\Desktop\\\\Romero Group Research\\\\Research Projects\\\\crystal_generation_project\\\\Graph_Network_Project'"
      ]
     },
     "execution_count": 2,
     "metadata": {},
     "output_type": "execute_result"
    }
   ],
   "source": [
    "project_dir = os.path.dirname(os.getcwd())\n",
    "project_dir"
   ]
  },
  {
   "cell_type": "code",
   "execution_count": 3,
   "metadata": {},
   "outputs": [],
   "source": [
    "verts_tetra = PlatonicFamily.get_shape(\"Tetrahedron\").vertices - np.mean(PlatonicFamily.get_shape(\"Tetrahedron\").vertices, axis = 0)\n",
    "verts_cube = PlatonicFamily.get_shape(\"Cube\").vertices\n",
    "verts_oct = PlatonicFamily.get_shape(\"Octahedron\").vertices\n",
    "verts_dod = PlatonicFamily.get_shape(\"Dodecahedron\").vertices\n",
    "verts_tetra_rot = (verts_tetra).dot(utils.rot_z(theta=25))\n",
    "poly_list = [verts_tetra,verts_cube,verts_oct,verts_dod,verts_tetra_rot]"
   ]
  },
  {
   "cell_type": "code",
   "execution_count": 4,
   "metadata": {},
   "outputs": [],
   "source": [
    "obj = PolyFeaturizer(vertices=verts_cube)"
   ]
  },
  {
   "cell_type": "code",
   "execution_count": 5,
   "metadata": {},
   "outputs": [
    {
     "data": {
      "text/plain": [
       "array([[0., 1., 0., 0., 0., 0., 0., 0.],\n",
       "       [0., 1., 0., 0., 0., 0., 0., 0.],\n",
       "       [0., 1., 0., 0., 0., 0., 0., 0.],\n",
       "       [0., 1., 0., 0., 0., 0., 0., 0.],\n",
       "       [0., 1., 0., 0., 0., 0., 0., 0.],\n",
       "       [0., 1., 0., 0., 0., 0., 0., 0.]])"
      ]
     },
     "execution_count": 5,
     "metadata": {},
     "output_type": "execute_result"
    }
   ],
   "source": [
    "encoder.face_sides_bin_encoder(obj.face_sides)"
   ]
  },
  {
   "cell_type": "code",
   "execution_count": 6,
   "metadata": {},
   "outputs": [
    {
     "data": {
      "text/plain": [
       "array([[1.],\n",
       "       [1.],\n",
       "       [1.],\n",
       "       [1.],\n",
       "       [1.],\n",
       "       [1.]])"
      ]
     },
     "execution_count": 6,
     "metadata": {},
     "output_type": "execute_result"
    }
   ],
   "source": [
    "obj.face_areas"
   ]
  },
  {
   "cell_type": "code",
   "execution_count": 7,
   "metadata": {},
   "outputs": [
    {
     "data": {
      "text/plain": [
       "array([[7.78800783e-001, 7.78800783e-001, 1.05399225e-001,\n",
       "        1.93045414e-003, 4.78511739e-006, 1.60522806e-009,\n",
       "        7.28772410e-014, 4.47773244e-019, 3.72336312e-025,\n",
       "        4.19009319e-032, 6.38150345e-040, 1.31532589e-048,\n",
       "        3.66905962e-058, 1.38511937e-068, 7.07669818e-080,\n",
       "        4.89311226e-092, 4.57878997e-105, 5.79865542e-119,\n",
       "        9.93836441e-134, 2.30522632e-149, 7.23641152e-166],\n",
       "       [7.78800783e-001, 7.78800783e-001, 1.05399225e-001,\n",
       "        1.93045414e-003, 4.78511739e-006, 1.60522806e-009,\n",
       "        7.28772410e-014, 4.47773244e-019, 3.72336312e-025,\n",
       "        4.19009319e-032, 6.38150345e-040, 1.31532589e-048,\n",
       "        3.66905962e-058, 1.38511937e-068, 7.07669818e-080,\n",
       "        4.89311226e-092, 4.57878997e-105, 5.79865542e-119,\n",
       "        9.93836441e-134, 2.30522632e-149, 7.23641152e-166],\n",
       "       [7.78800783e-001, 7.78800783e-001, 1.05399225e-001,\n",
       "        1.93045414e-003, 4.78511739e-006, 1.60522806e-009,\n",
       "        7.28772410e-014, 4.47773244e-019, 3.72336312e-025,\n",
       "        4.19009319e-032, 6.38150345e-040, 1.31532589e-048,\n",
       "        3.66905962e-058, 1.38511937e-068, 7.07669818e-080,\n",
       "        4.89311226e-092, 4.57878997e-105, 5.79865542e-119,\n",
       "        9.93836441e-134, 2.30522632e-149, 7.23641152e-166],\n",
       "       [7.78800783e-001, 7.78800783e-001, 1.05399225e-001,\n",
       "        1.93045414e-003, 4.78511739e-006, 1.60522806e-009,\n",
       "        7.28772410e-014, 4.47773244e-019, 3.72336312e-025,\n",
       "        4.19009319e-032, 6.38150345e-040, 1.31532589e-048,\n",
       "        3.66905962e-058, 1.38511937e-068, 7.07669818e-080,\n",
       "        4.89311226e-092, 4.57878997e-105, 5.79865542e-119,\n",
       "        9.93836441e-134, 2.30522632e-149, 7.23641152e-166],\n",
       "       [7.78800783e-001, 7.78800783e-001, 1.05399225e-001,\n",
       "        1.93045414e-003, 4.78511739e-006, 1.60522806e-009,\n",
       "        7.28772410e-014, 4.47773244e-019, 3.72336312e-025,\n",
       "        4.19009319e-032, 6.38150345e-040, 1.31532589e-048,\n",
       "        3.66905962e-058, 1.38511937e-068, 7.07669818e-080,\n",
       "        4.89311226e-092, 4.57878997e-105, 5.79865542e-119,\n",
       "        9.93836441e-134, 2.30522632e-149, 7.23641152e-166],\n",
       "       [7.78800783e-001, 7.78800783e-001, 1.05399225e-001,\n",
       "        1.93045414e-003, 4.78511739e-006, 1.60522806e-009,\n",
       "        7.28772410e-014, 4.47773244e-019, 3.72336312e-025,\n",
       "        4.19009319e-032, 6.38150345e-040, 1.31532589e-048,\n",
       "        3.66905962e-058, 1.38511937e-068, 7.07669818e-080,\n",
       "        4.89311226e-092, 4.57878997e-105, 5.79865542e-119,\n",
       "        9.93836441e-134, 2.30522632e-149, 7.23641152e-166]])"
      ]
     },
     "execution_count": 7,
     "metadata": {},
     "output_type": "execute_result"
    }
   ],
   "source": [
    "encoder.gaussian_continuous_bin_encoder(obj.face_areas,min_val=0, max_val=40, sigma= 2)"
   ]
  },
  {
   "cell_type": "code",
   "execution_count": 8,
   "metadata": {},
   "outputs": [
    {
     "name": "stdout",
     "output_type": "stream",
     "text": [
      "(6, 9)\n"
     ]
    },
    {
     "data": {
      "text/plain": [
       "array([[1., 0., 1., 0., 0., 0., 0., 0., 0.],\n",
       "       [1., 0., 1., 0., 0., 0., 0., 0., 0.],\n",
       "       [1., 0., 1., 0., 0., 0., 0., 0., 0.],\n",
       "       [1., 0., 1., 0., 0., 0., 0., 0., 0.],\n",
       "       [1., 0., 1., 0., 0., 0., 0., 0., 0.],\n",
       "       [1., 0., 1., 0., 0., 0., 0., 0., 0.]])"
      ]
     },
     "execution_count": 8,
     "metadata": {},
     "output_type": "execute_result"
    }
   ],
   "source": [
    "face_sides_features = encoder.face_sides_bin_encoder(obj.face_sides)\n",
    "face_areas_features = obj.face_areas\n",
    "\n",
    "node_features = np.concatenate([face_areas_features,face_sides_features,],axis=1)\n",
    "print(node_features.shape)\n",
    "node_features"
   ]
  },
  {
   "cell_type": "code",
   "execution_count": 9,
   "metadata": {},
   "outputs": [
    {
     "name": "stdout",
     "output_type": "stream",
     "text": [
      "(12,)\n"
     ]
    },
    {
     "data": {
      "text/plain": [
       "array([1.57079633, 1.57079633, 1.57079633, 1.57079633, 1.57079633,\n",
       "       1.57079633, 1.57079633, 1.57079633, 1.57079633, 1.57079633,\n",
       "       1.57079633, 1.57079633])"
      ]
     },
     "execution_count": 9,
     "metadata": {},
     "output_type": "execute_result"
    }
   ],
   "source": [
    "dihedral_angles = obj.get_dihedral_angles()\n",
    "dihedral_angles \n",
    "# obj.get_edges\n",
    "# node_features = np.concatenate([face_areas_features,face_sides_features,],axis=1)\n",
    "edge_features = dihedral_angles\n",
    "\n",
    "print(edge_features.shape)\n",
    "edge_features"
   ]
  },
  {
   "cell_type": "code",
   "execution_count": 10,
   "metadata": {},
   "outputs": [],
   "source": [
    "pos = obj.face_centers\n",
    "adj_mat = obj.verts_adj_mat\n",
    "target_variable = obj.get_energy_per_node(pos,adj_mat)"
   ]
  },
  {
   "cell_type": "code",
   "execution_count": 11,
   "metadata": {},
   "outputs": [
    {
     "data": {
      "text/plain": [
       "(array([[1., 0., 1., 0., 0., 0., 0., 0., 0.],\n",
       "        [1., 0., 1., 0., 0., 0., 0., 0., 0.],\n",
       "        [1., 0., 1., 0., 0., 0., 0., 0., 0.],\n",
       "        [1., 0., 1., 0., 0., 0., 0., 0., 0.],\n",
       "        [1., 0., 1., 0., 0., 0., 0., 0., 0.],\n",
       "        [1., 0., 1., 0., 0., 0., 0., 0., 0.]]),\n",
       " array([[0, 1],\n",
       "        [0, 2],\n",
       "        [0, 3],\n",
       "        [0, 4],\n",
       "        [1, 2],\n",
       "        [1, 3],\n",
       "        [1, 5],\n",
       "        [2, 4],\n",
       "        [2, 5],\n",
       "        [3, 4],\n",
       "        [3, 5],\n",
       "        [4, 5]]),\n",
       " array([1.57079633, 1.57079633, 1.57079633, 1.57079633, 1.57079633,\n",
       "        1.57079633, 1.57079633, 1.57079633, 1.57079633, 1.57079633,\n",
       "        1.57079633, 1.57079633]),\n",
       " 0.7489486695884694,\n",
       " array([[ 0. ,  0. , -0.5],\n",
       "        [ 0. , -0.5,  0. ],\n",
       "        [ 0.5,  0. ,  0. ],\n",
       "        [-0.5,  0. ,  0. ],\n",
       "        [ 0. ,  0.5,  0. ],\n",
       "        [ 0. ,  0. ,  0.5]]))"
      ]
     },
     "execution_count": 11,
     "metadata": {},
     "output_type": "execute_result"
    }
   ],
   "source": [
    "obj.get_pyg_faces_input(x=node_features, edge_attr=edge_features,y=target_variable)"
   ]
  },
  {
   "attachments": {},
   "cell_type": "markdown",
   "metadata": {},
   "source": [
    "# Featurizing loop"
   ]
  },
  {
   "cell_type": "code",
   "execution_count": 12,
   "metadata": {},
   "outputs": [],
   "source": [
    "face_feature_set_dir = project_dir + os.sep + 'datasets' + os.sep + 'plutonic_polyhedra' + os.sep + 'face_nodes'\n",
    "\n",
    "if os.path.exists(face_feature_set_dir):\n",
    "    shutil.rmtree(face_feature_set_dir)\n",
    "os.makedirs(face_feature_set_dir)"
   ]
  },
  {
   "cell_type": "code",
   "execution_count": 13,
   "metadata": {},
   "outputs": [],
   "source": [
    "for i, poly_verts in enumerate(poly_list):\n",
    "\n",
    "    obj = PolyFeaturizer(vertices=poly_verts)\n",
    "\n",
    "    face_sides_features = encoder.face_sides_bin_encoder(obj.face_sides)\n",
    "    face_areas_features = obj.face_areas\n",
    "    node_features = np.concatenate([face_areas_features,face_sides_features,],axis=1)\n",
    "    \n",
    "    dihedral_angles = obj.get_dihedral_angles()\n",
    "    edge_features = dihedral_angles\n",
    "\n",
    "    pos = obj.face_centers\n",
    "    adj_mat = obj.faces_adj_mat\n",
    "\n",
    "    target_variable = obj.get_energy_per_node(pos,adj_mat)\n",
    "\n",
    "    obj.get_pyg_faces_input(x = node_features, edge_attr=edge_features,y = target_variable)\n",
    "\n",
    "    filename = face_feature_set_dir + os.sep + str(i) + '.json'\n",
    "    obj.export_pyg_json(filename)"
   ]
  },
  {
   "cell_type": "code",
   "execution_count": 14,
   "metadata": {},
   "outputs": [],
   "source": [
    "vert_feature_set_dir = project_dir + os.sep + 'datasets' + os.sep + 'plutonic_polyhedra' + os.sep + 'vert_nodes'\n",
    "\n",
    "if os.path.exists(vert_feature_set_dir):\n",
    "    shutil.rmtree(vert_feature_set_dir)\n",
    "os.makedirs(vert_feature_set_dir)"
   ]
  },
  {
   "cell_type": "code",
   "execution_count": 15,
   "metadata": {},
   "outputs": [],
   "source": [
    "for i, poly_verts in enumerate(poly_list):\n",
    "\n",
    "    obj = PolyFeaturizer(vertices=poly_verts)\n",
    "\n",
    "    node_features = None\n",
    "\n",
    "    edge_lengths = obj.get_edge_lengths()\n",
    "    edge_features = edge_lengths\n",
    "\n",
    "    pos = obj.vertices\n",
    "    adj_mat = obj.verts_adj_mat\n",
    "\n",
    "    target_variable = obj.get_energy_per_node(pos,adj_mat)\n",
    "\n",
    "    obj.get_pyg_faces_input(x = node_features, edge_attr=edge_features,y = target_variable)\n",
    "\n",
    "    filename = vert_feature_set_dir + os.sep + str(i) + '.json'\n",
    "    obj.export_pyg_json(filename)"
   ]
  },
  {
   "attachments": {},
   "cell_type": "markdown",
   "metadata": {},
   "source": [
    "# Testing PolyDataset"
   ]
  },
  {
   "cell_type": "code",
   "execution_count": 16,
   "metadata": {},
   "outputs": [],
   "source": [
    "from poly_graphs_lib.poly_dataset import PolyhedraDataset"
   ]
  },
  {
   "cell_type": "code",
   "execution_count": 17,
   "metadata": {},
   "outputs": [],
   "source": [
    "face_dataset = PolyhedraDataset(database_dir = vert_feature_set_dir)\n",
    "node_dataset = PolyhedraDataset(database_dir = face_feature_set_dir)"
   ]
  },
  {
   "cell_type": "code",
   "execution_count": 18,
   "metadata": {},
   "outputs": [
    {
     "data": {
      "text/plain": [
       "Data(x=[4, 1], edge_index=[6, 2], edge_attr=[6], y=2.039644241333008, pos=[4, 3])"
      ]
     },
     "execution_count": 18,
     "metadata": {},
     "output_type": "execute_result"
    }
   ],
   "source": [
    "face_dataset[0]"
   ]
  },
  {
   "cell_type": "code",
   "execution_count": 19,
   "metadata": {},
   "outputs": [
    {
     "data": {
      "text/plain": [
       "Data(x=[4, 9], edge_index=[6, 2], edge_attr=[6], y=0.6798813939094543, pos=[4, 3])"
      ]
     },
     "execution_count": 19,
     "metadata": {},
     "output_type": "execute_result"
    }
   ],
   "source": [
    "node_dataset[0]"
   ]
  },
  {
   "cell_type": "code",
   "execution_count": null,
   "metadata": {},
   "outputs": [],
   "source": []
  }
 ],
 "metadata": {
  "kernelspec": {
   "display_name": "voronoi",
   "language": "python",
   "name": "python3"
  },
  "language_info": {
   "codemirror_mode": {
    "name": "ipython",
    "version": 3
   },
   "file_extension": ".py",
   "mimetype": "text/x-python",
   "name": "python",
   "nbconvert_exporter": "python",
   "pygments_lexer": "ipython3",
   "version": "3.8.0"
  },
  "orig_nbformat": 4
 },
 "nbformat": 4,
 "nbformat_minor": 2
}
