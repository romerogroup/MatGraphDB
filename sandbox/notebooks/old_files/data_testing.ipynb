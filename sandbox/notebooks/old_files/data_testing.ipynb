{
 "cells": [
  {
   "cell_type": "code",
   "execution_count": 11,
   "metadata": {},
   "outputs": [],
   "source": [
    "import os\n",
    "from poly_graphs_lib.poly_dataset import PolyhedraDataset\n",
    "import torch"
   ]
  },
  {
   "cell_type": "code",
   "execution_count": 9,
   "metadata": {},
   "outputs": [
    {
     "data": {
      "text/plain": [
       "'c:\\\\Users\\\\lllang\\\\Desktop\\\\Romero Group Research\\\\Research Projects\\\\crystal_generation_project\\\\Graph_Network_Project'"
      ]
     },
     "execution_count": 9,
     "metadata": {},
     "output_type": "execute_result"
    }
   ],
   "source": [
    "project_dir = os.path.dirname(os.getcwd())\n",
    "project_dir"
   ]
  },
  {
   "cell_type": "code",
   "execution_count": 12,
   "metadata": {},
   "outputs": [],
   "source": [
    "train_dir = f\"{project_dir}{os.sep}datasets{os.sep}plutonic_polyhedra{os.sep}feature_set_3{os.sep}train\"\n",
    "test_dir = f\"{project_dir}{os.sep}datasets{os.sep}plutonic_polyhedra{os.sep}feature_set_3{os.sep}test\"\n",
    "val_dir = f\"{project_dir}{os.sep}datasets{os.sep}plutonic_polyhedra{os.sep}feature_set_3{os.sep}val\"\n",
    "device = 'cuda' if torch.cuda.is_available() else 'cpu'"
   ]
  },
  {
   "cell_type": "code",
   "execution_count": 13,
   "metadata": {},
   "outputs": [],
   "source": [
    "train_dataset = PolyhedraDataset(database_dir=train_dir, device=device, y_val='energy_per_verts')"
   ]
  },
  {
   "cell_type": "code",
   "execution_count": 14,
   "metadata": {},
   "outputs": [
    {
     "data": {
      "text/plain": [
       "tensor([[0, 0, 0, 1, 1, 2],\n",
       "        [1, 2, 3, 2, 3, 3]], device='cuda:0')"
      ]
     },
     "execution_count": 14,
     "metadata": {},
     "output_type": "execute_result"
    }
   ],
   "source": [
    "train_dataset[0].edge_index"
   ]
  }
 ],
 "metadata": {
  "kernelspec": {
   "display_name": "voronoi",
   "language": "python",
   "name": "python3"
  },
  "language_info": {
   "codemirror_mode": {
    "name": "ipython",
    "version": 3
   },
   "file_extension": ".py",
   "mimetype": "text/x-python",
   "name": "python",
   "nbconvert_exporter": "python",
   "pygments_lexer": "ipython3",
   "version": "3.8.0"
  },
  "orig_nbformat": 4
 },
 "nbformat": 4,
 "nbformat_minor": 2
}
