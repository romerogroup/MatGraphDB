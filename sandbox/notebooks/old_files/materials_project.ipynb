{
 "cells": [
  {
   "cell_type": "code",
   "execution_count": 1,
   "metadata": {},
   "outputs": [
    {
     "name": "stderr",
     "output_type": "stream",
     "text": [
      "z:\\Research Projects\\crystal_generation_project\\Graph_Network_Project\\venv\\lib\\site-packages\\tqdm\\auto.py:21: TqdmWarning: IProgress not found. Please update jupyter and ipywidgets. See https://ipywidgets.readthedocs.io/en/stable/user_install.html\n",
      "  from .autonotebook import tqdm as notebook_tqdm\n"
     ]
    }
   ],
   "source": [
    "from mp_api.client import MPRester"
   ]
  },
  {
   "cell_type": "code",
   "execution_count": 3,
   "metadata": {},
   "outputs": [
    {
     "name": "stderr",
     "output_type": "stream",
     "text": [
      "C:\\Users\\lllang\\AppData\\Local\\Temp\\ipykernel_24884\\2922251821.py:5: DeprecationWarning: Accessing summary data through MPRester.summary is deprecated. Please use MPRester.materials.summary instead.\n",
      "  summary_docs = mpr.summary._search( nelements= 1, energy_above_hull_min = 0, energy_above_hull_max = 0.02, fields=['material_id'])\n",
      "Retrieving SummaryDoc documents: 100%|██████████| 283/283 [00:00<?, ?it/s]\n"
     ]
    }
   ],
   "source": [
    "apikey='4MJ9fIoSZVWbcCCVy6FWRK39ychCtL7R'\n",
    "with MPRester(apikey) as mpr:\n",
    "\n",
    "    # Initial screening \n",
    "    summary_docs = mpr.summary._search( nelements= 1, energy_above_hull_min = 0, energy_above_hull_max = 0.02, fields=['material_id'])\n",
    "    \n",
    "\n",
    "    "
   ]
  },
  {
   "cell_type": "code",
   "execution_count": 6,
   "metadata": {},
   "outputs": [
    {
     "name": "stdout",
     "output_type": "stream",
     "text": [
      "['Config', '__abstractmethods__', '__annotations__', '__class__', '__class_vars__', '__config__', '__custom_root_type__', '__delattr__', '__dict__', '__dir__', '__doc__', '__eq__', '__exclude_fields__', '__fields__', '__fields_set__', '__format__', '__ge__', '__get_validators__', '__getattr__', '__getattribute__', '__getstate__', '__gt__', '__hash__', '__include_fields__', '__init__', '__init_subclass__', '__iter__', '__json_encoder__', '__le__', '__lt__', '__module__', '__ne__', '__new__', '__post_root_validators__', '__pre_root_validators__', '__pretty__', '__private_attributes__', '__reduce__', '__reduce_ex__', '__repr__', '__repr_args__', '__repr_name__', '__repr_str__', '__rich_repr__', '__schema_cache__', '__setattr__', '__setstate__', '__signature__', '__sizeof__', '__slots__', '__str__', '__subclasshook__', '__try_update_forward_refs__', '__validators__', '_abc_impl', '_calculate_keys', '_copy_and_set_values', '_decompose_class', '_enforce_dict_if_root', '_get_value', '_init_private_attributes', '_iter', 'construct', 'copy', 'dict', 'fields_not_requested', 'from_composition', 'from_docs', 'from_orm', 'from_structure', 'json', 'material_id', 'parse_file', 'parse_obj', 'parse_raw', 'schema', 'schema_json', 'update_forward_refs', 'validate']\n"
     ]
    }
   ],
   "source": [
    "print(dir(summary_docs[0]))"
   ]
  },
  {
   "cell_type": "code",
   "execution_count": 12,
   "metadata": {},
   "outputs": [
    {
     "data": {
      "text/plain": [
       "{'material_id': 'mp-72',\n",
       " 'fields_not_requested': ['builder_meta',\n",
       "  'nsites',\n",
       "  'elements',\n",
       "  'nelements',\n",
       "  'composition',\n",
       "  'composition_reduced',\n",
       "  'formula_pretty',\n",
       "  'formula_anonymous',\n",
       "  'chemsys',\n",
       "  'volume',\n",
       "  'density',\n",
       "  'density_atomic',\n",
       "  'symmetry',\n",
       "  'property_name',\n",
       "  'deprecated',\n",
       "  'deprecation_reasons',\n",
       "  'last_updated',\n",
       "  'origins',\n",
       "  'warnings',\n",
       "  'structure',\n",
       "  'task_ids',\n",
       "  'uncorrected_energy_per_atom',\n",
       "  'energy_per_atom',\n",
       "  'formation_energy_per_atom',\n",
       "  'energy_above_hull',\n",
       "  'is_stable',\n",
       "  'equilibrium_reaction_energy_per_atom',\n",
       "  'decomposes_to',\n",
       "  'xas',\n",
       "  'grain_boundaries',\n",
       "  'band_gap',\n",
       "  'cbm',\n",
       "  'vbm',\n",
       "  'efermi',\n",
       "  'is_gap_direct',\n",
       "  'is_metal',\n",
       "  'es_source_calc_id',\n",
       "  'bandstructure',\n",
       "  'dos',\n",
       "  'dos_energy_up',\n",
       "  'dos_energy_down',\n",
       "  'is_magnetic',\n",
       "  'ordering',\n",
       "  'total_magnetization',\n",
       "  'total_magnetization_normalized_vol',\n",
       "  'total_magnetization_normalized_formula_units',\n",
       "  'num_magnetic_sites',\n",
       "  'num_unique_magnetic_sites',\n",
       "  'types_of_magnetic_species',\n",
       "  'k_voigt',\n",
       "  'k_reuss',\n",
       "  'k_vrh',\n",
       "  'g_voigt',\n",
       "  'g_reuss',\n",
       "  'g_vrh',\n",
       "  'universal_anisotropy',\n",
       "  'homogeneous_poisson',\n",
       "  'e_total',\n",
       "  'e_ionic',\n",
       "  'e_electronic',\n",
       "  'n',\n",
       "  'e_ij_max',\n",
       "  'weighted_surface_energy_EV_PER_ANG2',\n",
       "  'weighted_surface_energy',\n",
       "  'weighted_work_function',\n",
       "  'surface_anisotropy',\n",
       "  'shape_factor',\n",
       "  'has_reconstructed',\n",
       "  'possible_species',\n",
       "  'has_props',\n",
       "  'theoretical',\n",
       "  'database_IDs']}"
      ]
     },
     "execution_count": 12,
     "metadata": {},
     "output_type": "execute_result"
    }
   ],
   "source": [
    "data =summary_docs[0].dict()\n",
    "data"
   ]
  },
  {
   "cell_type": "code",
   "execution_count": 13,
   "metadata": {},
   "outputs": [
    {
     "data": {
      "text/plain": [
       "dict_keys(['material_id', 'fields_not_requested'])"
      ]
     },
     "execution_count": 13,
     "metadata": {},
     "output_type": "execute_result"
    }
   ],
   "source": [
    "data.keys()"
   ]
  },
  {
   "cell_type": "code",
   "execution_count": 14,
   "metadata": {},
   "outputs": [
    {
     "name": "stderr",
     "output_type": "stream",
     "text": [
      "C:\\Users\\lllang\\AppData\\Local\\Temp\\ipykernel_24884\\88909697.py:1: DeprecationWarning: Accessing summary data through MPRester.summary is deprecated. Please use MPRester.materials.summary instead.\n",
      "  docs = mpr.summary.search(material_ids=[\"mp-149\", \"mp-13\", \"mp-22526\"])\n",
      "Retrieving SummaryDoc documents: 100%|██████████| 3/3 [00:00<?, ?it/s]\n"
     ]
    }
   ],
   "source": [
    "docs = mpr.summary.search(material_ids=[\"mp-149\", \"mp-13\", \"mp-22526\"])"
   ]
  },
  {
   "cell_type": "code",
   "execution_count": 23,
   "metadata": {},
   "outputs": [
    {
     "data": {
      "text/plain": [
       "dict_keys(['builder_meta', 'nsites', 'elements', 'nelements', 'composition', 'composition_reduced', 'formula_pretty', 'formula_anonymous', 'chemsys', 'volume', 'density', 'density_atomic', 'symmetry', 'property_name', 'material_id', 'deprecated', 'deprecation_reasons', 'last_updated', 'origins', 'warnings', 'structure', 'task_ids', 'uncorrected_energy_per_atom', 'energy_per_atom', 'formation_energy_per_atom', 'energy_above_hull', 'is_stable', 'equilibrium_reaction_energy_per_atom', 'decomposes_to', 'xas', 'grain_boundaries', 'band_gap', 'cbm', 'vbm', 'efermi', 'is_gap_direct', 'is_metal', 'es_source_calc_id', 'bandstructure', 'dos', 'dos_energy_up', 'dos_energy_down', 'is_magnetic', 'ordering', 'total_magnetization', 'total_magnetization_normalized_vol', 'total_magnetization_normalized_formula_units', 'num_magnetic_sites', 'num_unique_magnetic_sites', 'types_of_magnetic_species', 'k_voigt', 'k_reuss', 'k_vrh', 'g_voigt', 'g_reuss', 'g_vrh', 'universal_anisotropy', 'homogeneous_poisson', 'e_total', 'e_ionic', 'e_electronic', 'n', 'e_ij_max', 'weighted_surface_energy_EV_PER_ANG2', 'weighted_surface_energy', 'weighted_work_function', 'surface_anisotropy', 'shape_factor', 'has_reconstructed', 'possible_species', 'has_props', 'theoretical', 'database_IDs', 'fields_not_requested'])"
      ]
     },
     "execution_count": 23,
     "metadata": {},
     "output_type": "execute_result"
    }
   ],
   "source": [
    "data=docs[0].dict()\n",
    "data.keys()"
   ]
  },
  {
   "cell_type": "code",
   "execution_count": 19,
   "metadata": {},
   "outputs": [
    {
     "name": "stdout",
     "output_type": "stream",
     "text": [
      "builder_meta\n",
      "nsites\n",
      "elements\n",
      "nelements\n",
      "composition\n",
      "composition_reduced\n",
      "formula_pretty\n",
      "formula_anonymous\n",
      "chemsys\n",
      "volume\n",
      "density\n",
      "density_atomic\n",
      "symmetry\n",
      "property_name\n",
      "material_id\n",
      "deprecated\n",
      "deprecation_reasons\n",
      "last_updated\n",
      "origins\n",
      "warnings\n",
      "structure\n",
      "task_ids\n",
      "uncorrected_energy_per_atom\n",
      "energy_per_atom\n",
      "formation_energy_per_atom\n",
      "energy_above_hull\n",
      "is_stable\n",
      "equilibrium_reaction_energy_per_atom\n",
      "decomposes_to\n",
      "xas\n",
      "grain_boundaries\n",
      "band_gap\n",
      "cbm\n",
      "vbm\n",
      "efermi\n",
      "is_gap_direct\n",
      "is_metal\n",
      "es_source_calc_id\n",
      "bandstructure\n",
      "dos\n",
      "dos_energy_up\n",
      "dos_energy_down\n",
      "is_magnetic\n",
      "ordering\n",
      "total_magnetization\n",
      "total_magnetization_normalized_vol\n",
      "total_magnetization_normalized_formula_units\n",
      "num_magnetic_sites\n",
      "num_unique_magnetic_sites\n",
      "types_of_magnetic_species\n",
      "k_voigt\n",
      "k_reuss\n",
      "k_vrh\n",
      "g_voigt\n",
      "g_reuss\n",
      "g_vrh\n",
      "universal_anisotropy\n",
      "homogeneous_poisson\n",
      "e_total\n",
      "e_ionic\n",
      "e_electronic\n",
      "n\n",
      "e_ij_max\n",
      "weighted_surface_energy_EV_PER_ANG2\n",
      "weighted_surface_energy\n",
      "weighted_work_function\n",
      "surface_anisotropy\n",
      "shape_factor\n",
      "has_reconstructed\n",
      "possible_species\n",
      "has_props\n",
      "theoretical\n",
      "database_IDs\n",
      "fields_not_requested\n"
     ]
    }
   ],
   "source": [
    "for key in data.keys():\n",
    "    print(key)\n",
    "    "
   ]
  },
  {
   "cell_type": "code",
   "execution_count": 21,
   "metadata": {},
   "outputs": [
    {
     "data": {
      "text/plain": [
       "['xas',\n",
       " 'eos',\n",
       " 'substrates',\n",
       " 'electronic_structure',\n",
       " 'dos',\n",
       " 'thermo',\n",
       " 'materials',\n",
       " 'magnetism',\n",
       " 'elasticity',\n",
       " 'charge_density',\n",
       " 'oxi_states',\n",
       " 'surface_properties',\n",
       " 'grain_boundaries',\n",
       " 'provenance',\n",
       " 'bandstructure']"
      ]
     },
     "execution_count": 21,
     "metadata": {},
     "output_type": "execute_result"
    }
   ],
   "source": [
    "data['has_props']"
   ]
  },
  {
   "cell_type": "code",
   "execution_count": 22,
   "metadata": {},
   "outputs": [
    {
     "data": {
      "text/plain": [
       "{'total': {'1': {'task_id': 'mp-2295927',\n",
       "   'band_gap': 0.0,\n",
       "   'cbm': 5.1756,\n",
       "   'vbm': 5.2317,\n",
       "   'efermi': 5.18314014,\n",
       "   'spin_polarization': 0.5463139956072315},\n",
       "  '-1': {'task_id': 'mp-2295927',\n",
       "   'band_gap': 0.0,\n",
       "   'cbm': 5.1756,\n",
       "   'vbm': 5.2317,\n",
       "   'efermi': 5.18314014,\n",
       "   'spin_polarization': 0.5463139956072315}},\n",
       " 'elemental': {'Fe': {'total': {'1': {'task_id': 'mp-2295927',\n",
       "     'band_gap': 0.0,\n",
       "     'cbm': 5.1756,\n",
       "     'vbm': 5.2317,\n",
       "     'efermi': 5.18314014,\n",
       "     'spin_polarization': None},\n",
       "    '-1': {'task_id': 'mp-2295927',\n",
       "     'band_gap': 0.0,\n",
       "     'cbm': 5.1756,\n",
       "     'vbm': 5.2317,\n",
       "     'efermi': 5.18314014,\n",
       "     'spin_polarization': None}},\n",
       "   's': {'1': {'task_id': 'mp-2295927',\n",
       "     'band_gap': 0.0,\n",
       "     'cbm': 5.1756,\n",
       "     'vbm': 5.2317,\n",
       "     'efermi': 5.18314014,\n",
       "     'spin_polarization': None},\n",
       "    '-1': {'task_id': 'mp-2295927',\n",
       "     'band_gap': 0.0,\n",
       "     'cbm': 5.1756,\n",
       "     'vbm': 5.2317,\n",
       "     'efermi': 5.18314014,\n",
       "     'spin_polarization': None}},\n",
       "   'p': {'1': {'task_id': 'mp-2295927',\n",
       "     'band_gap': 0.0,\n",
       "     'cbm': 5.1756,\n",
       "     'vbm': 5.2317,\n",
       "     'efermi': 5.18314014,\n",
       "     'spin_polarization': None},\n",
       "    '-1': {'task_id': 'mp-2295927',\n",
       "     'band_gap': 0.0,\n",
       "     'cbm': 5.1756,\n",
       "     'vbm': 5.2317,\n",
       "     'efermi': 5.18314014,\n",
       "     'spin_polarization': None}},\n",
       "   'd': {'1': {'task_id': 'mp-2295927',\n",
       "     'band_gap': 0.0,\n",
       "     'cbm': 5.1756,\n",
       "     'vbm': 5.2317,\n",
       "     'efermi': 5.18314014,\n",
       "     'spin_polarization': None},\n",
       "    '-1': {'task_id': 'mp-2295927',\n",
       "     'band_gap': 0.0,\n",
       "     'cbm': 5.1756,\n",
       "     'vbm': 5.2317,\n",
       "     'efermi': 5.18314014,\n",
       "     'spin_polarization': None}}}},\n",
       " 'orbital': {'s': {'1': {'task_id': 'mp-2295927',\n",
       "    'band_gap': 0.0,\n",
       "    'cbm': 5.1756,\n",
       "    'vbm': 5.2317,\n",
       "    'efermi': 5.18314014,\n",
       "    'spin_polarization': None},\n",
       "   '-1': {'task_id': 'mp-2295927',\n",
       "    'band_gap': 0.0,\n",
       "    'cbm': 5.1756,\n",
       "    'vbm': 5.2317,\n",
       "    'efermi': 5.18314014,\n",
       "    'spin_polarization': None}},\n",
       "  'p': {'1': {'task_id': 'mp-2295927',\n",
       "    'band_gap': 0.0,\n",
       "    'cbm': 5.1756,\n",
       "    'vbm': 5.2317,\n",
       "    'efermi': 5.18314014,\n",
       "    'spin_polarization': None},\n",
       "   '-1': {'task_id': 'mp-2295927',\n",
       "    'band_gap': 0.0,\n",
       "    'cbm': 5.1756,\n",
       "    'vbm': 5.2317,\n",
       "    'efermi': 5.18314014,\n",
       "    'spin_polarization': None}},\n",
       "  'd': {'1': {'task_id': 'mp-2295927',\n",
       "    'band_gap': 0.0,\n",
       "    'cbm': 5.1756,\n",
       "    'vbm': 5.2317,\n",
       "    'efermi': 5.18314014,\n",
       "    'spin_polarization': None},\n",
       "   '-1': {'task_id': 'mp-2295927',\n",
       "    'band_gap': 0.0,\n",
       "    'cbm': 5.1756,\n",
       "    'vbm': 5.2317,\n",
       "    'efermi': 5.18314014,\n",
       "    'spin_polarization': None}}},\n",
       " 'magnetic_ordering': 'FM'}"
      ]
     },
     "execution_count": 22,
     "metadata": {},
     "output_type": "execute_result"
    }
   ],
   "source": [
    "data['dos']"
   ]
  },
  {
   "cell_type": "code",
   "execution_count": 24,
   "metadata": {},
   "outputs": [
    {
     "data": {
      "text/plain": [
       "{'icsd': ['icsd-186832',\n",
       "  'icsd-181758',\n",
       "  'icsd-631728',\n",
       "  'icsd-426989',\n",
       "  'icsd-181715',\n",
       "  'icsd-159353',\n",
       "  'icsd-44863',\n",
       "  'icsd-631734',\n",
       "  'icsd-633751',\n",
       "  'icsd-52258',\n",
       "  'icsd-53452',\n",
       "  'icsd-180970',\n",
       "  'icsd-191751',\n",
       "  'icsd-631724',\n",
       "  'icsd-183262',\n",
       "  'icsd-159354',\n",
       "  'icsd-64998',\n",
       "  'icsd-76747',\n",
       "  'icsd-159352',\n",
       "  'icsd-180969',\n",
       "  'icsd-64999',\n",
       "  'icsd-53451',\n",
       "  'icsd-631736',\n",
       "  'icsd-631727',\n",
       "  'icsd-64795',\n",
       "  'icsd-631729',\n",
       "  'icsd-191830',\n",
       "  'icsd-631722',\n",
       "  'icsd-53804',\n",
       "  'icsd-180971',\n",
       "  'icsd-53802']}"
      ]
     },
     "execution_count": 24,
     "metadata": {},
     "output_type": "execute_result"
    }
   ],
   "source": [
    "data['database_IDs']"
   ]
  },
  {
   "cell_type": "code",
   "execution_count": 27,
   "metadata": {},
   "outputs": [
    {
     "name": "stderr",
     "output_type": "stream",
     "text": [
      "C:\\Users\\lllang\\AppData\\Local\\Temp\\ipykernel_24884\\1620932607.py:1: DeprecationWarning: Accessing summary data through MPRester.summary is deprecated. Please use MPRester.materials.summary instead.\n",
      "  docs = mpr.summary.search(material_ids=[\"mp-149\"],fields=['material_id','chemenv'])[0]\n",
      "Retrieving SummaryDoc documents: 100%|██████████| 1/1 [00:00<?, ?it/s]\n"
     ]
    },
    {
     "data": {
      "text/plain": [
       "\u001b[4m\u001b[1mMPDataDoc<SummaryDoc>\u001b[0;0m\u001b[0;0m(\n",
       "\u001b[1mmaterial_id\u001b[0;0m=MPID(mp-149),\n",
       "\u001b[1mfields_not_requested\u001b[0;0m=['builder_meta', 'nsites', 'elements', 'nelements', 'composition', 'composition_reduced', 'formula_pretty', 'formula_anonymous', 'chemsys', 'volume', 'density', 'density_atomic', 'symmetry', 'property_name', 'deprecated', 'deprecation_reasons', 'last_updated', 'origins', 'warnings', 'structure', 'task_ids', 'uncorrected_energy_per_atom', 'energy_per_atom', 'formation_energy_per_atom', 'energy_above_hull', 'is_stable', 'equilibrium_reaction_energy_per_atom', 'decomposes_to', 'xas', 'grain_boundaries', 'band_gap', 'cbm', 'vbm', 'efermi', 'is_gap_direct', 'is_metal', 'es_source_calc_id', 'bandstructure', 'dos', 'dos_energy_up', 'dos_energy_down', 'is_magnetic', 'ordering', 'total_magnetization', 'total_magnetization_normalized_vol', 'total_magnetization_normalized_formula_units', 'num_magnetic_sites', 'num_unique_magnetic_sites', 'types_of_magnetic_species', 'k_voigt', 'k_reuss', 'k_vrh', 'g_voigt', 'g_reuss', 'g_vrh', 'universal_anisotropy', 'homogeneous_poisson', 'e_total', 'e_ionic', 'e_electronic', 'n', 'e_ij_max', 'weighted_surface_energy_EV_PER_ANG2', 'weighted_surface_energy', 'weighted_work_function', 'surface_anisotropy', 'shape_factor', 'has_reconstructed', 'possible_species', 'has_props', 'theoretical', 'database_IDs']\n",
       ")"
      ]
     },
     "execution_count": 27,
     "metadata": {},
     "output_type": "execute_result"
    }
   ],
   "source": [
    "docs = mpr.summary.search(material_ids=[\"mp-149\"],fields=['material_id','chemenv'])[0]\n",
    "docs"
   ]
  },
  {
   "cell_type": "code",
   "execution_count": 30,
   "metadata": {},
   "outputs": [
    {
     "name": "stderr",
     "output_type": "stream",
     "text": [
      "C:\\Users\\lllang\\AppData\\Local\\Temp\\ipykernel_24884\\3287767866.py:1: DeprecationWarning: Accessing chemenv data through MPRester.chemenv is deprecated. Please use MPRester.materials.chemenv instead.\n",
      "  mpr.chemenv.search(material_ids=[\"mp-149\"])[0]\n",
      "Retrieving ChemEnvDoc documents: 100%|██████████| 1/1 [00:00<?, ?it/s]\n"
     ]
    },
    {
     "data": {
      "text/plain": [
       "\u001b[4m\u001b[1mMPDataDoc<ChemEnvDoc>\u001b[0;0m\u001b[0;0m(\n",
       "\u001b[1mbuilder_meta\u001b[0;0m=EmmetMeta(emmet_version='0.43.1', pymatgen_version='2023.1.20', pull_request=None, database_version=None, build_date=datetime.datetime(2023, 2, 11, 1, 51, 7, 438000)),\n",
       "\u001b[1mnsites\u001b[0;0m=2,\n",
       "\u001b[1melements\u001b[0;0m=[Element Si],\n",
       "\u001b[1mnelements\u001b[0;0m=1,\n",
       "\u001b[1mcomposition\u001b[0;0m=Composition('Si2'),\n",
       "\u001b[1mcomposition_reduced\u001b[0;0m=Composition('Si1'),\n",
       "\u001b[1mformula_pretty\u001b[0;0m='Si',\n",
       "\u001b[1mformula_anonymous\u001b[0;0m='A',\n",
       "\u001b[1mchemsys\u001b[0;0m='Si',\n",
       "\u001b[1mvolume\u001b[0;0m=40.32952684741405,\n",
       "\u001b[1mdensity\u001b[0;0m=2.312800253345134,\n",
       "\u001b[1mdensity_atomic\u001b[0;0m=20.164763423707026,\n",
       "\u001b[1msymmetry\u001b[0;0m=SymmetryData(crystal_system=<CrystalSystem.cubic: 'Cubic'>, symbol='Fd-3m', number=227, point_group='m-3m', symprec=0.1, version='1.16.5'),\n",
       "\u001b[1mproperty_name\u001b[0;0m='coord_environment',\n",
       "\u001b[1mmaterial_id\u001b[0;0m=MPID(mp-149),\n",
       "\u001b[1mdeprecated\u001b[0;0m=False,\n",
       "\u001b[1mdeprecation_reasons\u001b[0;0m=None,\n",
       "\u001b[1mlast_updated\u001b[0;0m=datetime.datetime(2022, 6, 25, 4, 18, 40, 230000),\n",
       "\u001b[1morigins\u001b[0;0m=[],\n",
       "\u001b[1mwarnings\u001b[0;0m='No oxidation states available. Cation-anion bonds cannot be identified.',\n",
       "\u001b[1mstructure\u001b[0;0m=Structure Summary\n",
       "Lattice\n",
       "    abc : 3.8492784033699095 3.8492794116013456 3.849278\n",
       " angles : 60.00001213094421 60.00000346645984 60.0000109754579\n",
       " volume : 40.32952684741405\n",
       "      A : 3.333573 0.0 1.924639\n",
       "      B : 1.111191 3.142924 1.924639\n",
       "      C : 0.0 0.0 3.849278\n",
       "    pbc : True True True\n",
       "PeriodicSite: Si (3.889, 2.75, 6.736) [0.875, 0.875, 0.875]\n",
       "PeriodicSite: Si (0.5556, 0.3929, 0.9623) [0.125, 0.125, 0.125],\n",
       "\u001b[1mvalences\u001b[0;0m=[],\n",
       "\u001b[1mspecies\u001b[0;0m=[],\n",
       "\u001b[1mchemenv_symbol\u001b[0;0m=[],\n",
       "\u001b[1mchemenv_iupac\u001b[0;0m=[],\n",
       "\u001b[1mchemenv_iucr\u001b[0;0m=[],\n",
       "\u001b[1mchemenv_name\u001b[0;0m=[],\n",
       "\u001b[1mchemenv_name_with_alternatives\u001b[0;0m=[],\n",
       "\u001b[1mcsm\u001b[0;0m=[],\n",
       "\u001b[1mmethod\u001b[0;0m=None,\n",
       "\u001b[1mmol_from_site_environments\u001b[0;0m=[],\n",
       "\u001b[1mwyckoff_positions\u001b[0;0m=[],\n",
       "\u001b[1mfields_not_requested\u001b[0;0m=[]\n",
       ")"
      ]
     },
     "execution_count": 30,
     "metadata": {},
     "output_type": "execute_result"
    }
   ],
   "source": [
    "mpr.chemenv.search(material_ids=[\"mp-149\"])[0]"
   ]
  },
  {
   "cell_type": "code",
   "execution_count": 34,
   "metadata": {},
   "outputs": [
    {
     "name": "stderr",
     "output_type": "stream",
     "text": [
      "C:\\Users\\lllang\\AppData\\Local\\Temp\\ipykernel_24884\\3145655381.py:1: DeprecationWarning: Accessing chemenv data through MPRester.chemenv is deprecated. Please use MPRester.materials.chemenv instead.\n",
      "  mpr.chemenv._search(material_ids=[\"mp-149\"])[0]\n",
      "Retrieving ChemEnvDoc documents: 100%|██████████| 1/1 [00:00<?, ?it/s]\n"
     ]
    },
    {
     "data": {
      "text/plain": [
       "\u001b[4m\u001b[1mMPDataDoc<ChemEnvDoc>\u001b[0;0m\u001b[0;0m(\n",
       "\u001b[1mbuilder_meta\u001b[0;0m=EmmetMeta(emmet_version='0.43.1', pymatgen_version='2023.1.20', pull_request=None, database_version=None, build_date=datetime.datetime(2023, 2, 11, 1, 51, 7, 438000)),\n",
       "\u001b[1mnsites\u001b[0;0m=2,\n",
       "\u001b[1melements\u001b[0;0m=[Element Si],\n",
       "\u001b[1mnelements\u001b[0;0m=1,\n",
       "\u001b[1mcomposition\u001b[0;0m=Composition('Si2'),\n",
       "\u001b[1mcomposition_reduced\u001b[0;0m=Composition('Si1'),\n",
       "\u001b[1mformula_pretty\u001b[0;0m='Si',\n",
       "\u001b[1mformula_anonymous\u001b[0;0m='A',\n",
       "\u001b[1mchemsys\u001b[0;0m='Si',\n",
       "\u001b[1mvolume\u001b[0;0m=40.32952684741405,\n",
       "\u001b[1mdensity\u001b[0;0m=2.312800253345134,\n",
       "\u001b[1mdensity_atomic\u001b[0;0m=20.164763423707026,\n",
       "\u001b[1msymmetry\u001b[0;0m=SymmetryData(crystal_system=<CrystalSystem.cubic: 'Cubic'>, symbol='Fd-3m', number=227, point_group='m-3m', symprec=0.1, version='1.16.5'),\n",
       "\u001b[1mproperty_name\u001b[0;0m='coord_environment',\n",
       "\u001b[1mmaterial_id\u001b[0;0m=MPID(mp-149),\n",
       "\u001b[1mdeprecated\u001b[0;0m=False,\n",
       "\u001b[1mdeprecation_reasons\u001b[0;0m=None,\n",
       "\u001b[1mlast_updated\u001b[0;0m=datetime.datetime(2022, 6, 25, 4, 18, 40, 230000),\n",
       "\u001b[1morigins\u001b[0;0m=[],\n",
       "\u001b[1mwarnings\u001b[0;0m='No oxidation states available. Cation-anion bonds cannot be identified.',\n",
       "\u001b[1mstructure\u001b[0;0m=Structure Summary\n",
       "Lattice\n",
       "    abc : 3.8492784033699095 3.8492794116013456 3.849278\n",
       " angles : 60.00001213094421 60.00000346645984 60.0000109754579\n",
       " volume : 40.32952684741405\n",
       "      A : 3.333573 0.0 1.924639\n",
       "      B : 1.111191 3.142924 1.924639\n",
       "      C : 0.0 0.0 3.849278\n",
       "    pbc : True True True\n",
       "PeriodicSite: Si (3.889, 2.75, 6.736) [0.875, 0.875, 0.875]\n",
       "PeriodicSite: Si (0.5556, 0.3929, 0.9623) [0.125, 0.125, 0.125],\n",
       "\u001b[1mvalences\u001b[0;0m=[],\n",
       "\u001b[1mspecies\u001b[0;0m=[],\n",
       "\u001b[1mchemenv_symbol\u001b[0;0m=[],\n",
       "\u001b[1mchemenv_iupac\u001b[0;0m=[],\n",
       "\u001b[1mchemenv_iucr\u001b[0;0m=[],\n",
       "\u001b[1mchemenv_name\u001b[0;0m=[],\n",
       "\u001b[1mchemenv_name_with_alternatives\u001b[0;0m=[],\n",
       "\u001b[1mcsm\u001b[0;0m=[],\n",
       "\u001b[1mmethod\u001b[0;0m=None,\n",
       "\u001b[1mmol_from_site_environments\u001b[0;0m=[],\n",
       "\u001b[1mwyckoff_positions\u001b[0;0m=[],\n",
       "\u001b[1mfields_not_requested\u001b[0;0m=[]\n",
       ")"
      ]
     },
     "execution_count": 34,
     "metadata": {},
     "output_type": "execute_result"
    }
   ],
   "source": [
    "mpr.chemenv._search(material_ids=[\"mp-149\"])[0]"
   ]
  }
 ],
 "metadata": {
  "kernelspec": {
   "display_name": "venv",
   "language": "python",
   "name": "python3"
  },
  "language_info": {
   "codemirror_mode": {
    "name": "ipython",
    "version": 3
   },
   "file_extension": ".py",
   "mimetype": "text/x-python",
   "name": "python",
   "nbconvert_exporter": "python",
   "pygments_lexer": "ipython3",
   "version": "3.8.17"
  },
  "orig_nbformat": 4
 },
 "nbformat": 4,
 "nbformat_minor": 2
}
