{
 "cells": [
  {
   "cell_type": "code",
   "execution_count": 3,
   "metadata": {},
   "outputs": [],
   "source": [
    "from poly_graphs_lib.utils import PROJECT_DIR\n",
    "import os\n",
    "import json\n",
    "import numpy as np\n",
    "from glob import glob \n",
    "\n",
    "\n",
    "import pymatgen.core as pmat\n",
    "\n",
    "from poly_graphs_lib.database.json import DB_DIR,DB_CALC_DIR"
   ]
  },
  {
   "cell_type": "code",
   "execution_count": 12,
   "metadata": {},
   "outputs": [
    {
     "name": "stdout",
     "output_type": "stream",
     "text": [
      "Success:  47\n",
      "Failed:  25\n"
     ]
    }
   ],
   "source": [
    "\n",
    "db_calc_dir=os.path.join('Z:',os.sep,'Research Projects','crystal_generation_project','Graph_Network_Project','data','raw','materials_project_nelements_7','calculations','database')\n",
    "success_poscars=[]\n",
    "failed_poscars=[]\n",
    "for dirname in os.listdir(db_calc_dir):\n",
    "    poscar=os.path.join(db_calc_dir,dirname,'static','POSCAR')\n",
    "\n",
    "\n",
    "    if os.path.exists(poscar):\n",
    "        success_poscars.append(dirname)\n",
    "    else:\n",
    "        failed_poscars.append(dirname)\n",
    "print(\"Success: \",len(success_poscars))\n",
    "print(\"Failed: \",len(failed_poscars))\n"
   ]
  },
  {
   "cell_type": "code",
   "execution_count": 26,
   "metadata": {},
   "outputs": [
    {
     "name": "stdout",
     "output_type": "stream",
     "text": [
      "Success:  20948\n",
      "Failed:  0\n"
     ]
    }
   ],
   "source": [
    "db_dir=os.path.join('Z:',os.sep,'Research Projects','crystal_generation_project','Graph_Network_Project','data','raw','materials_project_nelements_4','json_database')\n",
    "database_files=glob(db_dir + '\\*.json')\n",
    "\n",
    "# file=database_files[3]\n",
    "\n",
    "# file=os.path.join(DB_DIR,\"mp-1001600.json\")\n",
    "\n",
    "successful_structures=[]\n",
    "failed_structures=[]\n",
    "for file in database_files:\n",
    "    with open(file) as f:\n",
    "        data = json.load(f)\n",
    "        struct = pmat.Structure.from_dict(data['structure'])\n",
    "        \n",
    "        # print(struct.frac_coords, struct.atomic_numbers, struct.lattice)\n",
    "\n",
    "        if struct.frac_coords.size and len(struct.atomic_numbers)!=0 and struct.lattice.matrix.size:\n",
    "            successful_structures.append(file)\n",
    "        else:\n",
    "            failed_structures.append(file)\n",
    "print(\"Success: \",len(successful_structures))\n",
    "print(\"Failed: \",len(failed_structures))\n",
    "\n"
   ]
  }
 ],
 "metadata": {
  "kernelspec": {
   "display_name": "venv",
   "language": "python",
   "name": "python3"
  },
  "language_info": {
   "codemirror_mode": {
    "name": "ipython",
    "version": 3
   },
   "file_extension": ".py",
   "mimetype": "text/x-python",
   "name": "python",
   "nbconvert_exporter": "python",
   "pygments_lexer": "ipython3",
   "version": "3.8.17"
  }
 },
 "nbformat": 4,
 "nbformat_minor": 2
}
