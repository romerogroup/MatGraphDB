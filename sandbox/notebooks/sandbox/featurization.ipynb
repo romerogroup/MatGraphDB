{
 "cells": [
  {
   "attachments": {},
   "cell_type": "markdown",
   "metadata": {},
   "source": [
    "## Importing package and adding path to library"
   ]
  },
  {
   "cell_type": "code",
   "execution_count": 5,
   "metadata": {},
   "outputs": [],
   "source": [
    "# Importing package and adding path to library\n",
    "import os\n",
    "import sys\n",
    "import numpy as np\n",
    "PROJECT_DIR = os.path.abspath('../..')\n",
    "SRC_DIR = os.path.join(PROJECT_DIR,'src')\n",
    "\n",
    "sys.path.append(SRC_DIR)\n"
   ]
  },
  {
   "attachments": {},
   "cell_type": "markdown",
   "metadata": {},
   "source": [
    "## import internal polyhedra"
   ]
  },
  {
   "cell_type": "code",
   "execution_count": 6,
   "metadata": {},
   "outputs": [],
   "source": [
    "from poly_graphs_lib.utils import shapes,math\n",
    "from poly_graphs_lib.data.featurization import PolyFeaturizer"
   ]
  },
  {
   "cell_type": "code",
   "execution_count": 7,
   "metadata": {},
   "outputs": [
    {
     "name": "stdout",
     "output_type": "stream",
     "text": [
      "0 tetra\n",
      "1 cube\n",
      "2 oct\n",
      "3 dod\n",
      "4 rotated_tetra\n",
      "5 scaled_tetra\n",
      "6 dod-like\n",
      "7 cube-like_1\n",
      "8 tetra-like\n",
      "9 cube-like_2\n",
      "10 oct-like\n"
     ]
    }
   ],
   "source": [
    "test_polys = shapes.test_polys\n",
    "test_names = shapes.test_names\n",
    "for i, poly_name in enumerate(shapes.test_names):\n",
    "    print(i, poly_name)"
   ]
  },
  {
   "cell_type": "code",
   "execution_count": 10,
   "metadata": {},
   "outputs": [
    {
     "name": "stdout",
     "output_type": "stream",
     "text": [
      "node_features : {node_features.shape}\n",
      "(6,)\n",
      "node features : (4, 200)\n",
      "edge_index features : (6, 2)\n",
      "edge_attr features : (6,)\n"
     ]
    }
   ],
   "source": [
    "# Initializing Polyehdron Featureizer\n",
    "i = 0\n",
    "label = test_names[i]\n",
    "obj = PolyFeaturizer(vertices=test_polys[i], norm = True)\n",
    "\n",
    "# Creating node features\n",
    "vert_area_hists = obj.get_verts_areas_encodings(n_bins = 100, min_val=0, max_val=3.0, sigma=0.1)\n",
    "\n",
    "vert_angle_hists = obj.get_verts_neighbor_angles_encodings(n_bins = 100, min_val=0, max_val=(3/2)*np.pi, sigma=0.1)\n",
    "\n",
    "node_features = np.concatenate([vert_area_hists,vert_angle_hists],axis=1)\n",
    "# Creating edge features\n",
    "neighbor_distances = obj.get_verts_neighbor_distance()\n",
    "# dihedral_angles_features = encoder.gaussian_continuous_bin_encoder(values = dihedral_angles, min_val=np.pi/8, max_val=np.pi, sigma= 0.2)\n",
    "edge_features = neighbor_distances\n",
    "\n",
    "pos = obj.vertices\n",
    "adj_mat = obj.verts_adj_mat\n",
    "\n",
    "target_variable = obj.get_energy_per_node(pos,adj_mat)\n",
    "\n",
    "\n",
    "print(\"node_features : {node_features.shape}\")\n",
    "\n",
    "print(edge_features.shape)\n",
    "\n",
    "x, edge_index, edge_attr, y, pos = obj.get_pyg_verts_input(x = node_features, edge_attr=edge_features,y = target_variable)\n",
    "\n",
    "obj.set_label(label)\n",
    "\n",
    "print(f\"node features : {x.shape}\")\n",
    "print(f\"edge_index features : {edge_index.shape}\")\n",
    "print(f\"edge_attr features : {edge_attr.shape}\")\n",
    "\n"
   ]
  }
 ],
 "metadata": {
  "kernelspec": {
   "display_name": "voronoi",
   "language": "python",
   "name": "python3"
  },
  "language_info": {
   "codemirror_mode": {
    "name": "ipython",
    "version": 3
   },
   "file_extension": ".py",
   "mimetype": "text/x-python",
   "name": "python",
   "nbconvert_exporter": "python",
   "pygments_lexer": "ipython3",
   "version": "3.8.0"
  },
  "orig_nbformat": 4
 },
 "nbformat": 4,
 "nbformat_minor": 2
}
