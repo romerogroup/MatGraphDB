{
 "cells": [
  {
   "cell_type": "code",
   "execution_count": 1,
   "metadata": {},
   "outputs": [
    {
     "name": "stderr",
     "output_type": "stream",
     "text": [
      "c:\\Users\\lllang\\miniconda3\\envs\\materials_project\\lib\\site-packages\\tqdm\\auto.py:21: TqdmWarning: IProgress not found. Please update jupyter and ipywidgets. See https://ipywidgets.readthedocs.io/en/stable/user_install.html\n",
      "  from .autonotebook import tqdm as notebook_tqdm\n"
     ]
    }
   ],
   "source": [
    "from glob import glob\n",
    "import os\n",
    "import shutil\n",
    "import json\n",
    "from dotenv import load_dotenv\n",
    "import time\n",
    "from mp_api.client import MPRester\n",
    "from parquetdb import ParquetDB, config\n",
    "\n",
    "\n",
    "config.logging_config.loggers.parquetdb.level='DEBUG'\n",
    "config.apply()\n"
   ]
  },
  {
   "cell_type": "code",
   "execution_count": 6,
   "metadata": {},
   "outputs": [],
   "source": [
    "external_dir=r'C:\\Users\\lllang\\Desktop\\Current_Projects\\MatGraphDB\\data\\external'\n",
    "materials_dir = os.path.join(external_dir,'materials_project','materials')\n",
    "materials_parquetdb_dir=os.path.join(external_dir,'materials_project', 'materials_ParquetDB')\n",
    "\n",
    "endpoint='chemenv'\n"
   ]
  },
  {
   "cell_type": "code",
   "execution_count": 7,
   "metadata": {},
   "outputs": [
    {
     "name": "stdout",
     "output_type": "stream",
     "text": [
      "2024-12-12 14:03:08 - parquetdb.core.parquetdb - INFO - dir: C:\\Users\\lllang\\Desktop\\Current_Projects\\MatGraphDB\\data\\external\\materials_project\\materials_ParquetDB\n",
      "2024-12-12 14:03:08 - parquetdb.core.parquetdb - INFO - load_formats: ['batches', 'table', 'dataset']\n"
     ]
    }
   ],
   "source": [
    "db=ParquetDB(endpoint, dir=materials_parquetdb_dir)"
   ]
  },
  {
   "cell_type": "code",
   "execution_count": 8,
   "metadata": {},
   "outputs": [
    {
     "name": "stdout",
     "output_type": "stream",
     "text": [
      "2024-12-12 14:03:11 - parquetdb.core.parquetdb - INFO - Reading data\n",
      "2024-12-12 14:03:11 - parquetdb.core.parquetdb - INFO - Building filter expression\n",
      "2024-12-12 14:03:11 - parquetdb.core.parquetdb - INFO - Loading data from C:\\Users\\lllang\\Desktop\\Current_Projects\\MatGraphDB\\data\\external\\materials_project\\materials_ParquetDB\\chemenv\n",
      "2024-12-12 14:03:11 - parquetdb.core.parquetdb - INFO - Loading only columns: ['material_id', 'valences', 'wyckoff_positions', 'csm', 'chemsys', 'chemenv_iucr', 'chemenv_iupac', 'chemenv_name', 'chemenv_name_with_alternatives', 'chemenv_symbol']\n",
      "2024-12-12 14:03:11 - parquetdb.core.parquetdb - INFO - Using filter: None\n",
      "2024-12-12 14:03:11 - parquetdb.core.parquetdb - INFO - Loading data as a <class 'pyarrow.lib.Table'> object\n",
      "2024-12-12 14:03:11 - parquetdb.core.parquetdb - INFO - Reading data passed\n",
      "(92117, 10)\n"
     ]
    }
   ],
   "source": [
    "table=db.read(columns=['material_id','valences','wyckoff_positions', 'csm',\n",
    "                           'chemsys','chemenv_iucr','chemenv_iupac',\n",
    "                           'chemenv_name','chemenv_name_with_alternatives','chemenv_symbol'])\n",
    "print(table.shape)"
   ]
  },
  {
   "cell_type": "markdown",
   "metadata": {},
   "source": [
    "## Valences"
   ]
  },
  {
   "cell_type": "code",
   "execution_count": 10,
   "metadata": {},
   "outputs": [
    {
     "data": {
      "text/plain": [
       "<pyarrow.lib.ListArray object at 0x0000022F7A42DA80>\n",
       "[\n",
       "  [],\n",
       "  [],\n",
       "  ...\n",
       "  [\n",
       "    1,\n",
       "    1,\n",
       "    1,\n",
       "    1,\n",
       "    1,\n",
       "    1,\n",
       "    1,\n",
       "    1,\n",
       "    -2,\n",
       "    -2,\n",
       "    -2,\n",
       "    -2\n",
       "  ],\n",
       "  [\n",
       "    1,\n",
       "    1,\n",
       "    1,\n",
       "    1,\n",
       "    4,\n",
       "    4,\n",
       "    -2,\n",
       "    -2,\n",
       "    -2,\n",
       "    -2,\n",
       "    -2,\n",
       "    -2\n",
       "  ]\n",
       "]"
      ]
     },
     "execution_count": 10,
     "metadata": {},
     "output_type": "execute_result"
    }
   ],
   "source": [
    "table['valences'].combine_chunks()[:20]"
   ]
  },
  {
   "cell_type": "markdown",
   "metadata": {},
   "source": [
    "## Wyckoff positions"
   ]
  },
  {
   "cell_type": "code",
   "execution_count": 11,
   "metadata": {},
   "outputs": [
    {
     "data": {
      "text/plain": [
       "<pyarrow.lib.ListArray object at 0x0000022F7A42ED40>\n",
       "[\n",
       "  [],\n",
       "  [],\n",
       "  ...\n",
       "  [\n",
       "    \"4a\",\n",
       "    \"4a\"\n",
       "  ],\n",
       "  [\n",
       "    \"4b\",\n",
       "    \"2a\"\n",
       "  ]\n",
       "]"
      ]
     },
     "execution_count": 11,
     "metadata": {},
     "output_type": "execute_result"
    }
   ],
   "source": [
    "table['wyckoff_positions'].combine_chunks()[:20]"
   ]
  },
  {
   "cell_type": "markdown",
   "metadata": {},
   "source": [
    "## CSM (Continuous Symmetry Measure)"
   ]
  },
  {
   "cell_type": "code",
   "execution_count": 12,
   "metadata": {},
   "outputs": [
    {
     "data": {
      "text/plain": [
       "<pyarrow.lib.ListArray object at 0x0000022F7A42FA60>\n",
       "[\n",
       "  [],\n",
       "  [],\n",
       "  ...\n",
       "  [\n",
       "    4.9822536063958145,\n",
       "    3.2182980535465475\n",
       "  ],\n",
       "  [\n",
       "    0.1320099962747838,\n",
       "    0.1634662496125414\n",
       "  ]\n",
       "]"
      ]
     },
     "execution_count": 12,
     "metadata": {},
     "output_type": "execute_result"
    }
   ],
   "source": [
    "table['csm'].combine_chunks()[:20]"
   ]
  },
  {
   "cell_type": "markdown",
   "metadata": {},
   "source": [
    "# Chemsys\n"
   ]
  },
  {
   "cell_type": "code",
   "execution_count": 13,
   "metadata": {},
   "outputs": [
    {
     "data": {
      "text/plain": [
       "<pyarrow.lib.StringArray object at 0x0000022F7A42FAC0>\n",
       "[\n",
       "  \"Ac\",\n",
       "  \"Ac-Au-Eu\",\n",
       "  \"Ac-O\",\n",
       "  \"Ac-La\",\n",
       "  \"Ac-La\",\n",
       "  \"Ac-Ga-O\",\n",
       "  \"Ac-Ga-Si\",\n",
       "  \"Ac-Hg-Te\",\n",
       "  \"Ac\",\n",
       "  \"Ac-Hg-Rh\",\n",
       "  \"Ac-Sn-Zn\",\n",
       "  \"Ac-Dy\",\n",
       "  \"Ac-Cd-Ge\",\n",
       "  \"Ac-Au\",\n",
       "  \"Ac-Ag-Pb\",\n",
       "  \"Ac-Au-Zn\",\n",
       "  \"Ag\",\n",
       "  \"Ag-I-O\",\n",
       "  \"Ag-S\",\n",
       "  \"Ag-Ge-Se\"\n",
       "]"
      ]
     },
     "execution_count": 13,
     "metadata": {},
     "output_type": "execute_result"
    }
   ],
   "source": [
    "table['chemsys'].combine_chunks()[:20]\n"
   ]
  },
  {
   "cell_type": "markdown",
   "metadata": {},
   "source": [
    "## Chemenv IUCr\n"
   ]
  },
  {
   "cell_type": "code",
   "execution_count": 14,
   "metadata": {},
   "outputs": [
    {
     "data": {
      "text/plain": [
       "<pyarrow.lib.ListArray object at 0x0000022F7A42E2C0>\n",
       "[\n",
       "  [],\n",
       "  [],\n",
       "  ...\n",
       "  [\n",
       "    \"[4t]\",\n",
       "    \"[4t]\"\n",
       "  ],\n",
       "  [\n",
       "    \"[4t]\",\n",
       "    \"[4t]\"\n",
       "  ]\n",
       "]"
      ]
     },
     "execution_count": 14,
     "metadata": {},
     "output_type": "execute_result"
    }
   ],
   "source": [
    "table['chemenv_iucr'].combine_chunks()[:20]\n"
   ]
  },
  {
   "cell_type": "markdown",
   "metadata": {},
   "source": [
    "# Chemenv IUPAC\n"
   ]
  },
  {
   "cell_type": "code",
   "execution_count": 15,
   "metadata": {},
   "outputs": [
    {
     "data": {
      "text/plain": [
       "<pyarrow.lib.ListArray object at 0x0000022F7A42E320>\n",
       "[\n",
       "  [],\n",
       "  [],\n",
       "  ...\n",
       "  [\n",
       "    \"T-4\",\n",
       "    \"T-4\"\n",
       "  ],\n",
       "  [\n",
       "    \"T-4\",\n",
       "    \"T-4\"\n",
       "  ]\n",
       "]"
      ]
     },
     "execution_count": 15,
     "metadata": {},
     "output_type": "execute_result"
    }
   ],
   "source": [
    "table['chemenv_iupac'].combine_chunks()[:20]\n"
   ]
  },
  {
   "cell_type": "markdown",
   "metadata": {},
   "source": [
    "## Chemenv Name\n"
   ]
  },
  {
   "cell_type": "code",
   "execution_count": 16,
   "metadata": {},
   "outputs": [
    {
     "data": {
      "text/plain": [
       "<pyarrow.lib.ListArray object at 0x0000022F7A42C820>\n",
       "[\n",
       "  [],\n",
       "  [],\n",
       "  ...\n",
       "  [\n",
       "    \"Tetrahedron\",\n",
       "    \"Tetrahedron\"\n",
       "  ],\n",
       "  [\n",
       "    \"Tetrahedron\",\n",
       "    \"Tetrahedron\"\n",
       "  ]\n",
       "]"
      ]
     },
     "execution_count": 16,
     "metadata": {},
     "output_type": "execute_result"
    }
   ],
   "source": [
    "table['chemenv_name'].combine_chunks()[:20]"
   ]
  },
  {
   "cell_type": "markdown",
   "metadata": {},
   "source": [
    "## Chemenv Name With Alternatives"
   ]
  },
  {
   "cell_type": "code",
   "execution_count": 17,
   "metadata": {},
   "outputs": [
    {
     "data": {
      "text/plain": [
       "<pyarrow.lib.ListArray object at 0x0000022F7A94A980>\n",
       "[\n",
       "  [],\n",
       "  [],\n",
       "  ...\n",
       "  [\n",
       "    \"Tetrahedron (also known as Triangular pyramid, Trigonal pyramid)\",\n",
       "    \"Tetrahedron (also known as Triangular pyramid, Trigonal pyramid)\"\n",
       "  ],\n",
       "  [\n",
       "    \"Tetrahedron (also known as Triangular pyramid, Trigonal pyramid)\",\n",
       "    \"Tetrahedron (also known as Triangular pyramid, Trigonal pyramid)\"\n",
       "  ]\n",
       "]"
      ]
     },
     "execution_count": 17,
     "metadata": {},
     "output_type": "execute_result"
    }
   ],
   "source": [
    "table['chemenv_name_with_alternatives'].combine_chunks()[:20]"
   ]
  },
  {
   "cell_type": "markdown",
   "metadata": {},
   "source": [
    "## Chemenv Symbol"
   ]
  },
  {
   "cell_type": "code",
   "execution_count": 18,
   "metadata": {},
   "outputs": [
    {
     "data": {
      "text/plain": [
       "<pyarrow.lib.ListArray object at 0x0000022F7A94A260>\n",
       "[\n",
       "  [],\n",
       "  [],\n",
       "  ...\n",
       "  [\n",
       "    \"T:4\",\n",
       "    \"T:4\"\n",
       "  ],\n",
       "  [\n",
       "    \"T:4\",\n",
       "    \"T:4\"\n",
       "  ]\n",
       "]"
      ]
     },
     "execution_count": 18,
     "metadata": {},
     "output_type": "execute_result"
    }
   ],
   "source": [
    "table['chemenv_symbol'].combine_chunks()[:20]"
   ]
  },
  {
   "cell_type": "markdown",
   "metadata": {},
   "source": [
    "# Analysis"
   ]
  },
  {
   "cell_type": "code",
   "execution_count": 19,
   "metadata": {},
   "outputs": [],
   "source": [
    "from pyarrow import compute as pc"
   ]
  },
  {
   "cell_type": "code",
   "execution_count": 26,
   "metadata": {},
   "outputs": [
    {
     "name": "stdout",
     "output_type": "stream",
     "text": [
      "This dataset has 67096 valid entries\n"
     ]
    }
   ],
   "source": [
    "non_zero_values_mask= pc.greater(pc.list_value_length(table['chemenv_symbol'].combine_chunks()), 0)\n",
    "\n",
    "n_valid_data=pc.sum(non_zero_values_mask)\n",
    "print(f\"This dataset has {n_valid_data} valid entries\")"
   ]
  }
 ],
 "metadata": {
  "kernelspec": {
   "display_name": "materials_project",
   "language": "python",
   "name": "python3"
  },
  "language_info": {
   "codemirror_mode": {
    "name": "ipython",
    "version": 3
   },
   "file_extension": ".py",
   "mimetype": "text/x-python",
   "name": "python",
   "nbconvert_exporter": "python",
   "pygments_lexer": "ipython3",
   "version": "3.10.15"
  }
 },
 "nbformat": 4,
 "nbformat_minor": 2
}
