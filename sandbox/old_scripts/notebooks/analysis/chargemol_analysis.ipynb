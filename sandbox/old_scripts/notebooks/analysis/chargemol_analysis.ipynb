{
 "cells": [
  {
   "cell_type": "code",
   "execution_count": 1,
   "metadata": {},
   "outputs": [],
   "source": [
    "from poly_graphs_lib.utils import PROJECT_DIR\n",
    "import os\n",
    "import json\n",
    "import numpy as np\n",
    "from glob import glob \n",
    "\n",
    "\n",
    "import pymatgen.core as pmat\n",
    "\n",
    "from poly_graphs_lib.database.json import DB_DIR"
   ]
  },
  {
   "cell_type": "code",
   "execution_count": 11,
   "metadata": {},
   "outputs": [],
   "source": [
    "database_files=glob(DB_DIR + '\\*.json')\n",
    "file=database_files[3]\n",
    "\n",
    "file=os.path.join(DB_DIR,\"mp-1218375.json\")\n",
    "\n",
    "with open(file) as f:\n",
    "    data = json.load(f)\n",
    "    struct = pmat.Structure.from_dict(data['structure'])\n",
    "\n",
    "data['coordination_multi_connections']"
   ]
  },
  {
   "cell_type": "code",
   "execution_count": 3,
   "metadata": {},
   "outputs": [
    {
     "name": "stdout",
     "output_type": "stream",
     "text": [
      "[[0.0162, 0.0162, 0.0162, 0.0162, 0.0162, 0.0162, 0.0039, 0.0039, 0.0039, 0.7999, 0.0039, 0.0039, 0.0039, 0.002, 0.011, 0.011, 0.011, 0.0036, 0.7154, 0.0036, 0.7154, 0.7154, 0.0036], [0.0162, 0.0162, 0.0162, 0.0162, 0.0162, 0.0162, 0.0039, 0.0039, 0.0039, 0.7999, 0.0039, 0.0039, 0.0039, 0.011, 0.011, 0.011, 0.002, 0.0036, 0.7154, 0.7154, 0.0036, 0.7154, 0.0036], [0.0039, 0.0039, 0.0039, 0.7999, 0.0039, 0.0039, 0.0039, 0.0162, 0.0162, 0.0162, 0.0162, 0.0162, 0.0162, 0.0036, 0.7154, 0.7154, 0.0036, 0.7154, 0.0036, 0.002, 0.011, 0.011, 0.011], [0.0039, 0.0039, 0.0039, 0.7999, 0.0039, 0.0039, 0.0039, 0.0162, 0.0162, 0.0162, 0.0162, 0.0162, 0.0162, 0.0036, 0.7154, 0.0036, 0.7154, 0.7154, 0.0036, 0.011, 0.011, 0.011, 0.002], [0.002, 0.011, 0.011, 0.011, 0.0036, 0.7154, 0.7154, 0.0036, 0.7154, 0.0036, 0.055, 0.055, 0.055, 0.055, 0.055, 0.055, 0.0308, 0.0308, 0.0308, 0.0071], [0.011, 0.011, 0.011, 0.002, 0.0036, 0.7154, 0.0036, 0.7154, 0.7154, 0.0036, 0.055, 0.055, 0.055, 0.055, 0.055, 0.055, 0.0071, 0.0308, 0.0308, 0.0308], [0.0036, 0.7154, 0.0036, 0.7154, 0.7154, 0.0036, 0.002, 0.011, 0.011, 0.011, 0.0308, 0.0308, 0.0308, 0.0071, 0.055, 0.055, 0.055, 0.055, 0.055, 0.055], [0.0036, 0.7154, 0.7154, 0.0036, 0.7154, 0.0036, 0.011, 0.011, 0.011, 0.002, 0.0071, 0.0308, 0.0308, 0.0308, 0.055, 0.055, 0.055, 0.055, 0.055, 0.055]]\n",
      "[[0, 0, 0, 0, 0, 0, 3, 3, 3, 3, 3, 3, 3, 4, 5, 5, 5, 6, 6, 6, 6, 6, 6], [1, 1, 1, 1, 1, 1, 2, 2, 2, 2, 2, 2, 2, 4, 4, 4, 5, 7, 7, 7, 7, 7, 7], [1, 1, 1, 1, 1, 1, 1, 2, 2, 2, 2, 2, 2, 4, 4, 4, 4, 4, 4, 6, 7, 7, 7], [0, 0, 0, 0, 0, 0, 0, 3, 3, 3, 3, 3, 3, 5, 5, 5, 5, 5, 5, 6, 6, 6, 7], [0, 1, 1, 1, 2, 2, 2, 2, 2, 2, 4, 4, 4, 4, 4, 4, 6, 6, 6, 7], [0, 0, 0, 1, 3, 3, 3, 3, 3, 3, 5, 5, 5, 5, 5, 5, 6, 7, 7, 7], [0, 0, 0, 0, 0, 0, 2, 3, 3, 3, 4, 4, 4, 5, 6, 6, 6, 6, 6, 6], [1, 1, 1, 1, 1, 1, 2, 2, 2, 3, 4, 5, 5, 5, 7, 7, 7, 7, 7, 7]]\n"
     ]
    }
   ],
   "source": [
    "bonding_connections = data['chargemol_bonding_connections']\n",
    "bonding_orders = data['chargemol_bonding_orders']\n",
    "print(bonding_orders)\n",
    "print(bonding_connections)"
   ]
  },
  {
   "cell_type": "code",
   "execution_count": 4,
   "metadata": {},
   "outputs": [],
   "source": [
    "# Define the threshold condition\n",
    "threshold = 0.1\n",
    "\n",
    "# Function to find indices of elements greater than the threshold in each sublist\n",
    "def find_indices_above_threshold(lists, threshold):\n",
    "    indices = []\n",
    "    for sublist in lists:\n",
    "        sublist_indices = [i for i, val in enumerate(sublist) if val > threshold]\n",
    "        indices.append(sublist_indices)\n",
    "    return indices\n"
   ]
  },
  {
   "cell_type": "code",
   "execution_count": 5,
   "metadata": {},
   "outputs": [
    {
     "data": {
      "text/plain": [
       "[[9, 18, 20, 21],\n",
       " [9, 18, 19, 21],\n",
       " [3, 14, 15, 17],\n",
       " [3, 14, 16, 17],\n",
       " [5, 6, 8],\n",
       " [5, 7, 8],\n",
       " [1, 3, 4],\n",
       " [1, 2, 4]]"
      ]
     },
     "execution_count": 5,
     "metadata": {},
     "output_type": "execute_result"
    }
   ],
   "source": [
    "# Getting the indices for the given lists\n",
    "indices_above_threshold = find_indices_above_threshold(bonding_orders, threshold)\n",
    "indices_above_threshold"
   ]
  },
  {
   "cell_type": "code",
   "execution_count": 6,
   "metadata": {},
   "outputs": [],
   "source": [
    "# Function to apply the indices to the order lists\n",
    "def apply_indices_to_order_lists(order_lists, indices):\n",
    "    selected_orders = []\n",
    "    for order_list, index_list in zip(order_lists, indices):\n",
    "        selected_order = [order_list[i] for i in index_list]\n",
    "        selected_orders.append(selected_order)\n",
    "    return selected_orders"
   ]
  },
  {
   "cell_type": "code",
   "execution_count": 7,
   "metadata": {},
   "outputs": [
    {
     "data": {
      "text/plain": [
       "[[3, 6, 6, 6],\n",
       " [2, 7, 7, 7],\n",
       " [1, 4, 4, 4],\n",
       " [0, 5, 5, 5],\n",
       " [2, 2, 2],\n",
       " [3, 3, 3],\n",
       " [0, 0, 0],\n",
       " [1, 1, 1]]"
      ]
     },
     "execution_count": 7,
     "metadata": {},
     "output_type": "execute_result"
    }
   ],
   "source": [
    "# Applying the indices to the order lists\n",
    "reduced_bonding_connections = apply_indices_to_order_lists(bonding_connections, indices_above_threshold)\n",
    "reduced_bonding_connections"
   ]
  },
  {
   "cell_type": "code",
   "execution_count": 8,
   "metadata": {},
   "outputs": [
    {
     "data": {
      "text/plain": [
       "[[0.7999, 0.7154, 0.7154, 0.7154],\n",
       " [0.7999, 0.7154, 0.7154, 0.7154],\n",
       " [0.7999, 0.7154, 0.7154, 0.7154],\n",
       " [0.7999, 0.7154, 0.7154, 0.7154],\n",
       " [0.7154, 0.7154, 0.7154],\n",
       " [0.7154, 0.7154, 0.7154],\n",
       " [0.7154, 0.7154, 0.7154],\n",
       " [0.7154, 0.7154, 0.7154]]"
      ]
     },
     "execution_count": 8,
     "metadata": {},
     "output_type": "execute_result"
    }
   ],
   "source": [
    "# Applying the indices to the order lists\n",
    "reduced_bonding_orders = apply_indices_to_order_lists(bonding_orders, indices_above_threshold)\n",
    "reduced_bonding_orders"
   ]
  },
  {
   "cell_type": "code",
   "execution_count": 9,
   "metadata": {},
   "outputs": [
    {
     "data": {
      "text/plain": [
       "9703"
      ]
     },
     "execution_count": 9,
     "metadata": {},
     "output_type": "execute_result"
    }
   ],
   "source": [
    "count=0\n",
    "for file in database_files:\n",
    "    with open(file) as f:\n",
    "        data = json.load(f)\n",
    "        struct = pmat.Structure.from_dict(data['structure'])\n",
    "        if data['chargemol_bonding_connections'] is not None:\n",
    "            count+=1\n",
    "count"
   ]
  }
 ],
 "metadata": {
  "kernelspec": {
   "display_name": "venv",
   "language": "python",
   "name": "python3"
  },
  "language_info": {
   "codemirror_mode": {
    "name": "ipython",
    "version": 3
   },
   "file_extension": ".py",
   "mimetype": "text/x-python",
   "name": "python",
   "nbconvert_exporter": "python",
   "pygments_lexer": "ipython3",
   "version": "3.8.17"
  }
 },
 "nbformat": 4,
 "nbformat_minor": 2
}
