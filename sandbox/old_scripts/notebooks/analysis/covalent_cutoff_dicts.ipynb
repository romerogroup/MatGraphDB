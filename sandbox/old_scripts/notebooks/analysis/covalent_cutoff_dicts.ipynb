{
 "cells": [
  {
   "cell_type": "code",
   "execution_count": 8,
   "metadata": {},
   "outputs": [],
   "source": [
    "from poly_graphs_lib.utils import PROJECT_DIR\n",
    "import os\n",
    "import json\n",
    "import yaml\n",
    "from glob import glob \n",
    "from itertools import combinations, product,combinations_with_replacement\n",
    "import pymatgen.core as pmat\n",
    "from poly_graphs_lib.utils.periodic_table import covalent_radii, atomic_symbols"
   ]
  },
  {
   "cell_type": "code",
   "execution_count": 9,
   "metadata": {},
   "outputs": [
    {
     "data": {
      "text/plain": [
       "[('H', 'H'), ('H', 'He'), ('He', 'He')]"
      ]
     },
     "execution_count": 9,
     "metadata": {},
     "output_type": "execute_result"
    }
   ],
   "source": [
    "# element_combs=list(product(atomic_symbols[1:3],repeat=2))\n",
    "\n",
    "element_combs=list(combinations_with_replacement(atomic_symbols[1:3],r=2))\n",
    "# element_combs[:10]\n",
    "element_combs"
   ]
  },
  {
   "cell_type": "code",
   "execution_count": 23,
   "metadata": {},
   "outputs": [
    {
     "data": {
      "text/plain": [
       "{('H', 'He'): 0.6490000000000001}"
      ]
     },
     "execution_count": 23,
     "metadata": {},
     "output_type": "execute_result"
    }
   ],
   "source": [
    "def covalent_cutoff_map(tol=0.1):\n",
    "    from poly_graphs_lib.utils.periodic_table import covalent_radii, atomic_symbols\n",
    "    cutoff_dict={}\n",
    "    element_combs=list(combinations(atomic_symbols[1:],r=2))\n",
    "\n",
    "    covalent_map={ element:covalent_radii for element,covalent_radii in zip(atomic_symbols[1:], covalent_radii[1:])}\n",
    "    for element_comb in element_combs[:1]:\n",
    "        element_1=element_comb[0]\n",
    "        element_2=element_comb[1]\n",
    "        covalent_radii_1=covalent_map[element_1]\n",
    "        covalent_radii_2=covalent_map[element_2]\n",
    "        cutoff = (covalent_radii_1 + covalent_radii_2)*(1+tol)\n",
    "        cutoff_dict.update({element_comb:cutoff})\n",
    "\n",
    "    return cutoff_dict\n"
   ]
  },
  {
   "cell_type": "code",
   "execution_count": 24,
   "metadata": {},
   "outputs": [
    {
     "name": "stdout",
     "output_type": "stream",
     "text": [
      "Z:\\Research Projects\\crystal_generation_project\\Graph_Network_Project\\notebooks\\analysis\\cutoff_dict.json\n"
     ]
    }
   ],
   "source": [
    "print(os.path.join(PROJECT_DIR,'notebooks','analysis','cutoff_dict.yaml'))\n",
    "with open(os.path.join(PROJECT_DIR,'notebooks','analysis','cutoff_dict.yaml'), 'w') as f:\n",
    "    yaml.dump(cutoff_dict, f)"
   ]
  },
  {
   "cell_type": "code",
   "execution_count": 26,
   "metadata": {},
   "outputs": [
    {
     "ename": "ConstructorError",
     "evalue": "could not determine a constructor for the tag 'tag:yaml.org,2002:python/tuple'\n  in \"Z:\\Research Projects\\crystal_generation_project\\Graph_Network_Project\\notebooks\\analysis\\cutoff_dict.yaml\", line 1, column 3",
     "output_type": "error",
     "traceback": [
      "\u001b[1;31m---------------------------------------------------------------------------\u001b[0m",
      "\u001b[1;31mConstructorError\u001b[0m                          Traceback (most recent call last)",
      "Cell \u001b[1;32mIn[26], line 3\u001b[0m\n\u001b[0;32m      1\u001b[0m \u001b[39m# Load YAML file into dictionary\u001b[39;00m\n\u001b[0;32m      2\u001b[0m \u001b[39mwith\u001b[39;00m \u001b[39mopen\u001b[39m(os\u001b[39m.\u001b[39mpath\u001b[39m.\u001b[39mjoin(PROJECT_DIR,\u001b[39m'\u001b[39m\u001b[39mnotebooks\u001b[39m\u001b[39m'\u001b[39m,\u001b[39m'\u001b[39m\u001b[39manalysis\u001b[39m\u001b[39m'\u001b[39m,\u001b[39m'\u001b[39m\u001b[39mcutoff_dict.yaml\u001b[39m\u001b[39m'\u001b[39m), \u001b[39m\"\u001b[39m\u001b[39mr\u001b[39m\u001b[39m\"\u001b[39m) \u001b[39mas\u001b[39;00m file:\n\u001b[1;32m----> 3\u001b[0m     loaded_data \u001b[39m=\u001b[39m yaml\u001b[39m.\u001b[39;49msafe_load(file)\n\u001b[0;32m      4\u001b[0m loaded_data\n",
      "File \u001b[1;32mz:\\Research Projects\\crystal_generation_project\\Graph_Network_Project\\venv\\lib\\site-packages\\yaml\\__init__.py:125\u001b[0m, in \u001b[0;36msafe_load\u001b[1;34m(stream)\u001b[0m\n\u001b[0;32m    117\u001b[0m \u001b[39mdef\u001b[39;00m \u001b[39msafe_load\u001b[39m(stream):\n\u001b[0;32m    118\u001b[0m \u001b[39m    \u001b[39m\u001b[39m\"\"\"\u001b[39;00m\n\u001b[0;32m    119\u001b[0m \u001b[39m    Parse the first YAML document in a stream\u001b[39;00m\n\u001b[0;32m    120\u001b[0m \u001b[39m    and produce the corresponding Python object.\u001b[39;00m\n\u001b[1;32m   (...)\u001b[0m\n\u001b[0;32m    123\u001b[0m \u001b[39m    to be safe for untrusted input.\u001b[39;00m\n\u001b[0;32m    124\u001b[0m \u001b[39m    \"\"\"\u001b[39;00m\n\u001b[1;32m--> 125\u001b[0m     \u001b[39mreturn\u001b[39;00m load(stream, SafeLoader)\n",
      "File \u001b[1;32mz:\\Research Projects\\crystal_generation_project\\Graph_Network_Project\\venv\\lib\\site-packages\\yaml\\__init__.py:81\u001b[0m, in \u001b[0;36mload\u001b[1;34m(stream, Loader)\u001b[0m\n\u001b[0;32m     79\u001b[0m loader \u001b[39m=\u001b[39m Loader(stream)\n\u001b[0;32m     80\u001b[0m \u001b[39mtry\u001b[39;00m:\n\u001b[1;32m---> 81\u001b[0m     \u001b[39mreturn\u001b[39;00m loader\u001b[39m.\u001b[39;49mget_single_data()\n\u001b[0;32m     82\u001b[0m \u001b[39mfinally\u001b[39;00m:\n\u001b[0;32m     83\u001b[0m     loader\u001b[39m.\u001b[39mdispose()\n",
      "File \u001b[1;32mz:\\Research Projects\\crystal_generation_project\\Graph_Network_Project\\venv\\lib\\site-packages\\yaml\\constructor.py:51\u001b[0m, in \u001b[0;36mBaseConstructor.get_single_data\u001b[1;34m(self)\u001b[0m\n\u001b[0;32m     49\u001b[0m node \u001b[39m=\u001b[39m \u001b[39mself\u001b[39m\u001b[39m.\u001b[39mget_single_node()\n\u001b[0;32m     50\u001b[0m \u001b[39mif\u001b[39;00m node \u001b[39mis\u001b[39;00m \u001b[39mnot\u001b[39;00m \u001b[39mNone\u001b[39;00m:\n\u001b[1;32m---> 51\u001b[0m     \u001b[39mreturn\u001b[39;00m \u001b[39mself\u001b[39;49m\u001b[39m.\u001b[39;49mconstruct_document(node)\n\u001b[0;32m     52\u001b[0m \u001b[39mreturn\u001b[39;00m \u001b[39mNone\u001b[39;00m\n",
      "File \u001b[1;32mz:\\Research Projects\\crystal_generation_project\\Graph_Network_Project\\venv\\lib\\site-packages\\yaml\\constructor.py:60\u001b[0m, in \u001b[0;36mBaseConstructor.construct_document\u001b[1;34m(self, node)\u001b[0m\n\u001b[0;32m     58\u001b[0m     \u001b[39mself\u001b[39m\u001b[39m.\u001b[39mstate_generators \u001b[39m=\u001b[39m []\n\u001b[0;32m     59\u001b[0m     \u001b[39mfor\u001b[39;00m generator \u001b[39min\u001b[39;00m state_generators:\n\u001b[1;32m---> 60\u001b[0m         \u001b[39mfor\u001b[39;00m dummy \u001b[39min\u001b[39;00m generator:\n\u001b[0;32m     61\u001b[0m             \u001b[39mpass\u001b[39;00m\n\u001b[0;32m     62\u001b[0m \u001b[39mself\u001b[39m\u001b[39m.\u001b[39mconstructed_objects \u001b[39m=\u001b[39m {}\n",
      "File \u001b[1;32mz:\\Research Projects\\crystal_generation_project\\Graph_Network_Project\\venv\\lib\\site-packages\\yaml\\constructor.py:413\u001b[0m, in \u001b[0;36mSafeConstructor.construct_yaml_map\u001b[1;34m(self, node)\u001b[0m\n\u001b[0;32m    411\u001b[0m data \u001b[39m=\u001b[39m {}\n\u001b[0;32m    412\u001b[0m \u001b[39myield\u001b[39;00m data\n\u001b[1;32m--> 413\u001b[0m value \u001b[39m=\u001b[39m \u001b[39mself\u001b[39;49m\u001b[39m.\u001b[39;49mconstruct_mapping(node)\n\u001b[0;32m    414\u001b[0m data\u001b[39m.\u001b[39mupdate(value)\n",
      "File \u001b[1;32mz:\\Research Projects\\crystal_generation_project\\Graph_Network_Project\\venv\\lib\\site-packages\\yaml\\constructor.py:218\u001b[0m, in \u001b[0;36mSafeConstructor.construct_mapping\u001b[1;34m(self, node, deep)\u001b[0m\n\u001b[0;32m    216\u001b[0m \u001b[39mif\u001b[39;00m \u001b[39misinstance\u001b[39m(node, MappingNode):\n\u001b[0;32m    217\u001b[0m     \u001b[39mself\u001b[39m\u001b[39m.\u001b[39mflatten_mapping(node)\n\u001b[1;32m--> 218\u001b[0m \u001b[39mreturn\u001b[39;00m \u001b[39msuper\u001b[39;49m()\u001b[39m.\u001b[39;49mconstruct_mapping(node, deep\u001b[39m=\u001b[39;49mdeep)\n",
      "File \u001b[1;32mz:\\Research Projects\\crystal_generation_project\\Graph_Network_Project\\venv\\lib\\site-packages\\yaml\\constructor.py:139\u001b[0m, in \u001b[0;36mBaseConstructor.construct_mapping\u001b[1;34m(self, node, deep)\u001b[0m\n\u001b[0;32m    137\u001b[0m mapping \u001b[39m=\u001b[39m {}\n\u001b[0;32m    138\u001b[0m \u001b[39mfor\u001b[39;00m key_node, value_node \u001b[39min\u001b[39;00m node\u001b[39m.\u001b[39mvalue:\n\u001b[1;32m--> 139\u001b[0m     key \u001b[39m=\u001b[39m \u001b[39mself\u001b[39;49m\u001b[39m.\u001b[39;49mconstruct_object(key_node, deep\u001b[39m=\u001b[39;49mdeep)\n\u001b[0;32m    140\u001b[0m     \u001b[39mif\u001b[39;00m \u001b[39mnot\u001b[39;00m \u001b[39misinstance\u001b[39m(key, collections\u001b[39m.\u001b[39mabc\u001b[39m.\u001b[39mHashable):\n\u001b[0;32m    141\u001b[0m         \u001b[39mraise\u001b[39;00m ConstructorError(\u001b[39m\"\u001b[39m\u001b[39mwhile constructing a mapping\u001b[39m\u001b[39m\"\u001b[39m, node\u001b[39m.\u001b[39mstart_mark,\n\u001b[0;32m    142\u001b[0m                 \u001b[39m\"\u001b[39m\u001b[39mfound unhashable key\u001b[39m\u001b[39m\"\u001b[39m, key_node\u001b[39m.\u001b[39mstart_mark)\n",
      "File \u001b[1;32mz:\\Research Projects\\crystal_generation_project\\Graph_Network_Project\\venv\\lib\\site-packages\\yaml\\constructor.py:100\u001b[0m, in \u001b[0;36mBaseConstructor.construct_object\u001b[1;34m(self, node, deep)\u001b[0m\n\u001b[0;32m     98\u001b[0m             constructor \u001b[39m=\u001b[39m \u001b[39mself\u001b[39m\u001b[39m.\u001b[39m\u001b[39m__class__\u001b[39m\u001b[39m.\u001b[39mconstruct_mapping\n\u001b[0;32m     99\u001b[0m \u001b[39mif\u001b[39;00m tag_suffix \u001b[39mis\u001b[39;00m \u001b[39mNone\u001b[39;00m:\n\u001b[1;32m--> 100\u001b[0m     data \u001b[39m=\u001b[39m constructor(\u001b[39mself\u001b[39;49m, node)\n\u001b[0;32m    101\u001b[0m \u001b[39melse\u001b[39;00m:\n\u001b[0;32m    102\u001b[0m     data \u001b[39m=\u001b[39m constructor(\u001b[39mself\u001b[39m, tag_suffix, node)\n",
      "File \u001b[1;32mz:\\Research Projects\\crystal_generation_project\\Graph_Network_Project\\venv\\lib\\site-packages\\yaml\\constructor.py:427\u001b[0m, in \u001b[0;36mSafeConstructor.construct_undefined\u001b[1;34m(self, node)\u001b[0m\n\u001b[0;32m    426\u001b[0m \u001b[39mdef\u001b[39;00m \u001b[39mconstruct_undefined\u001b[39m(\u001b[39mself\u001b[39m, node):\n\u001b[1;32m--> 427\u001b[0m     \u001b[39mraise\u001b[39;00m ConstructorError(\u001b[39mNone\u001b[39;00m, \u001b[39mNone\u001b[39;00m,\n\u001b[0;32m    428\u001b[0m             \u001b[39m\"\u001b[39m\u001b[39mcould not determine a constructor for the tag \u001b[39m\u001b[39m%r\u001b[39;00m\u001b[39m\"\u001b[39m \u001b[39m%\u001b[39m node\u001b[39m.\u001b[39mtag,\n\u001b[0;32m    429\u001b[0m             node\u001b[39m.\u001b[39mstart_mark)\n",
      "\u001b[1;31mConstructorError\u001b[0m: could not determine a constructor for the tag 'tag:yaml.org,2002:python/tuple'\n  in \"Z:\\Research Projects\\crystal_generation_project\\Graph_Network_Project\\notebooks\\analysis\\cutoff_dict.yaml\", line 1, column 3"
     ]
    }
   ],
   "source": [
    "# Load YAML file into dictionary\n",
    "with open(os.path.join(PROJECT_DIR,'notebooks','analysis','cutoff_dict.yaml'), \"r\") as file:\n",
    "    loaded_data = yaml.safe_load(file)\n",
    "loaded_data"
   ]
  }
 ],
 "metadata": {
  "kernelspec": {
   "display_name": "venv",
   "language": "python",
   "name": "python3"
  },
  "language_info": {
   "codemirror_mode": {
    "name": "ipython",
    "version": 3
   },
   "file_extension": ".py",
   "mimetype": "text/x-python",
   "name": "python",
   "nbconvert_exporter": "python",
   "pygments_lexer": "ipython3",
   "version": "3.8.17"
  },
  "orig_nbformat": 4
 },
 "nbformat": 4,
 "nbformat_minor": 2
}
